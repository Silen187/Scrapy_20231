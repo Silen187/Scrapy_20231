{
 "cells": [
  {
   "cell_type": "code",
   "execution_count": 1,
   "metadata": {},
   "outputs": [],
   "source": [
    "from bs4 import BeautifulSoup\n",
    "import requests\n",
    "# Parsing and creating xml data\n",
    "from lxml import etree as et\n",
    "\n",
    "# Store data as a csv file written out\n",
    "from csv import writer\n",
    "\n",
    "# In general to use with timing our function calls to Indeed\n",
    "import time\n",
    "\n",
    "# Assist with creating incremental timing for our scraping to seem more human\n",
    "from time import sleep\n",
    "\n",
    "# Dataframe stuff\n",
    "import pandas as pd\n",
    "\n",
    "# Random integer for more realistic timing for clicks, buttons and searches during scraping\n",
    "from random import randint\n",
    "\n",
    "# Multi Threading\n",
    "import threading\n",
    "\n",
    "# Threading:\n",
    "from concurrent.futures import ThreadPoolExecutor, wait\n",
    "import math\n",
    "import mysql.connector\n",
    "from datetime import date\n",
    "import json\n",
    "import re"
   ]
  },
  {
   "cell_type": "code",
   "execution_count": 2,
   "metadata": {},
   "outputs": [
    {
     "data": {
      "text/plain": [
       "'4.15.2'"
      ]
     },
     "execution_count": 2,
     "metadata": {},
     "output_type": "execute_result"
    }
   ],
   "source": [
    "import selenium\n",
    "\n",
    "# Check version I am running\n",
    "selenium.__version__"
   ]
  },
  {
   "cell_type": "code",
   "execution_count": 3,
   "metadata": {},
   "outputs": [],
   "source": [
    "from selenium import webdriver\n",
    "\n",
    "# Starting/Stopping Driver: can specify ports or location but not remote access\n",
    "from selenium.webdriver.chrome.service import Service as ChromeService\n",
    "\n",
    "# Manages Binaries needed for WebDriver without installing anything directly\n",
    "from webdriver_manager.chrome import ChromeDriverManager"
   ]
  },
  {
   "cell_type": "code",
   "execution_count": 4,
   "metadata": {},
   "outputs": [],
   "source": [
    "# Allows searchs similar to beautiful soup: find_all\n",
    "from selenium.webdriver.common.by import By\n",
    "\n",
    "# Try to establish wait times for the page to load\n",
    "from selenium.webdriver.support.ui import WebDriverWait\n",
    "\n",
    "# Wait for specific condition based on defined task: web elements, boolean are examples\n",
    "from selenium.webdriver.support import expected_conditions as EC\n",
    "\n",
    "# Used for keyboard movements, up/down, left/right,delete, etc\n",
    "from selenium.webdriver.common.keys import Keys\n",
    "\n",
    "# Locate elements on page and throw error if they do not exist\n",
    "from selenium.common.exceptions import NoSuchElementException"
   ]
  },
  {
   "cell_type": "code",
   "execution_count": 5,
   "metadata": {},
   "outputs": [
    {
     "name": "stdout",
     "output_type": "stream",
     "text": [
      "{'upgrade-insecure-requests': '1', 'user-agent': 'Mozilla/5.0 (Windows NT 6.1; WOW64) AppleWebKit/537.36 (KHTML, like Gecko) Chrome/90.0.4430.93 Safari/537.36', 'accept': 'text/html,application/xhtml+xml,application/xml;q=0.9,image/webp,image/apng,*/*;q=0.8,application/signed-exchange;v=b3', 'sec-ch-ua': '\" Not A;Brand\";v=\"99\", \"Chromium\";v=\"100\", \"Google Chrome\";v=\"100\"', 'sec-ch-ua-mobile': '?0', 'sec-ch-ua-platform': '\"Windows\"', 'sec-fetch-site': 'none', 'sec-fetch-mod': '', 'sec-fetch-user': '?1', 'accept-encoding': 'gzip, deflate, br', 'accept-language': 'en-US,fr;q=0.7'}\n"
     ]
    }
   ],
   "source": [
    "response = requests.get(\n",
    "  url='https://headers.scrapeops.io/v1/browser-headers',\n",
    "  params={\n",
    "      'api_key': 'cca4ced0-490d-41a0-b258-46f2ad7e74b3',\n",
    "      'num_results': '100'}\n",
    ")\n",
    "header_browser_list = response.json()\n",
    "print(header_browser_list['result'][0])"
   ]
  },
  {
   "cell_type": "code",
   "execution_count": 6,
   "metadata": {},
   "outputs": [
    {
     "name": "stdout",
     "output_type": "stream",
     "text": [
      "Mozilla/5.0 (Windows NT 10.0; Win64; x64) AppleWebKit/537.36 (KHTML, like Gecko) Chrome/86.0.4240.198 Safari/537.36 Edg/86.0.622.69\n"
     ]
    }
   ],
   "source": [
    "response = requests.get(\n",
    "  url='https://headers.scrapeops.io/v1/user-agents',\n",
    "  params={\n",
    "      'api_key': 'cca4ced0-490d-41a0-b258-46f2ad7e74b3',\n",
    "      'num_results': '100'}\n",
    ")\n",
    "user_agent_list = response.json()\n",
    "print(user_agent_list['result'][0])"
   ]
  },
  {
   "cell_type": "code",
   "execution_count": 7,
   "metadata": {},
   "outputs": [],
   "source": [
    "random_index_user_agent = randint(0, len(user_agent_list)-1)\n",
    "random_index_header_browser = randint(0, len(header_browser_list)-1)\n",
    "user_agent_random = user_agent_list['result'][random_index_user_agent]\n",
    "header_browser_random = header_browser_list['result'][random_index_header_browser]"
   ]
  },
  {
   "cell_type": "code",
   "execution_count": 8,
   "metadata": {},
   "outputs": [],
   "source": [
    "# Allows you to cusotmize: ingonito mode, maximize window size, headless browser, disable certain features, etc\n",
    "option = webdriver.ChromeOptions()\n",
    "\n",
    "# Going undercover:\n",
    "option.add_argument(\"--incognito\")\n",
    "\n",
    "\n",
    "# # Consider this if the application works and you know how it works for speed ups and rendering!\n",
    "\n",
    "option.add_argument('--headless=chrome')\n",
    "user_agent = user_agent_random\n",
    "option.add_argument(f\"user-agent={user_agent}\")\n",
    "\n",
    "# Thêm header vào Options\n",
    "headers = header_browser_random\n",
    "\n",
    "for key, value in headers.items():\n",
    "    option.add_argument(f\"--header={key}:{value}\")"
   ]
  },
  {
   "cell_type": "code",
   "execution_count": 27,
   "metadata": {},
   "outputs": [
    {
     "name": "stdout",
     "output_type": "stream",
     "text": [
      "\n",
      "        var sentJobIds = new Set();\n",
      "    let impressionData = [];\n",
      "    let currentUniqueSearchId = 'qEVSKX2CZiuiBwxqnjWwJy74Q1kxSHmYEUSG3x6t_1703340924';\n",
      "    function makeid(length) {\n",
      "        var result           = '';\n",
      "        var characters       = 'ABCDEFGHIJKLMNOPQRSTUVWXYZabcdefghijklmnopqrstuvwxyz0123456789';\n",
      "        var charactersLength = characters.length;\n",
      "        for ( var i = 0; i < length; i++ ) {\n",
      "            result += characters.charAt(Math.floor(Math.random() * charactersLength));\n",
      "        }\n",
      "        return result;\n",
      "    }\n",
      "    var onFeatureTrackingTa = '1';\n",
      "\n",
      "    let jobRenderedIds = [];\n",
      "    let jobPositionMapping = {};\n",
      "    if (onFeatureTrackingTa) {\n",
      "        $('.job-ta').each(function(index, el) {\n",
      "            let jobId = $(el).data('job-id');\n",
      "            if (jobId) {\n",
      "                jobRenderedIds.push(jobId);\n",
      "                jobPositionMapping[jobId] = parseInt(index) + 1;\n",
      "            }\n",
      "        });\n",
      "        if (jobRenderedIds.length) {\n",
      "            ta('jobRendered', {\n",
      "                ts: new Date().getTime(),\n",
      "                p: 'SearchJobList',\n",
      "                jb_ids: jobRenderedIds,\n",
      "                oth: {\n",
      "                    u_sr_id: currentUniqueSearchId,\n",
      "                }\n",
      "            })\n",
      "        }\n",
      "    }\n",
      "\n",
      "    function differenceOf2Arrays (array1, array2) {\n",
      "        if (array1.length == 0) {\n",
      "            return array2;\n",
      "        }\n",
      "        if (array2.length == 0) {\n",
      "            return array1;\n",
      "        }\n",
      "        var temp = [];\n",
      "        array1 = array1.toString().split(',').map(Number);\n",
      "        array2 = array2.toString().split(',').map(Number);\n",
      "\n",
      "        for (var i in array1) {\n",
      "            if(array2.indexOf(array1[i]) === -1) temp.push(array1[i]);\n",
      "        }\n",
      "        for(i in array2) {\n",
      "            if(array1.indexOf(array2[i]) === -1) temp.push(array2[i]);\n",
      "        }\n",
      "        return temp.sort((a,b) => a-b);\n",
      "    }\n",
      "\n",
      "    let jobsInViewPort = [];\n",
      "    const taTop = $('.ta-top');\n",
      "    $.fn.isInViewport = function(checkTitle = true) {\n",
      "        const taTopHeight = taTop.height() || 0;\n",
      "        let elementHeight = $(this).height();\n",
      "        var elementTop = $(this).offset().top;\n",
      "        var elementBottom = elementTop + $(this).outerHeight();\n",
      "        var scrollTop = $(window).scrollTop();\n",
      "        var viewportTop = scrollTop + taTopHeight;\n",
      "        var viewportBottom = scrollTop + $(window).height();\n",
      "\n",
      "        return ($(this).is(':visible') && elementBottom > viewportTop + elementHeight && elementTop < viewportBottom - elementHeight) || (checkTitle && Array.from($(this).find('a:visible')).some((e) => $(e).isInViewport(false)));\n",
      "    };\n",
      "\n",
      "    function taChecker(index, el) {\n",
      "        if ($(el).isInViewport()) {\n",
      "            let jobId = $(el).data('job-id');\n",
      "            let jrId = $(el).data('jr-id');\n",
      "            let box = $(el).data('box');\n",
      "            let fitness = $(el).data('job-fitness');\n",
      "            if (!sentJobIds.has(jobId) && jobId) {\n",
      "                sentJobIds.add(jobId);\n",
      "                const time =  new Date().getTime();\n",
      "                setTimeout(() => {\n",
      "                    if ($(el).isInViewport()) {\n",
      "                        impressionData.push({\n",
      "                            jb_id: jobId,\n",
      "                            impr_pos: jobPositionMapping[jobId],\n",
      "                            ts: time,\n",
      "                            p: 'SearchJobList',\n",
      "                            b: box || '',\n",
      "                            jr_i: jrId,\n",
      "                            type: \"JobInViewPort\",\n",
      "                            fitness: fitness,\n",
      "                        });\n",
      "                        currentUniqueSearchId = $(el).attr('data-u-sr-id');\n",
      "                    } else {\n",
      "                        sentJobIds.delete(jobId);\n",
      "                    }\n",
      "                }, 800);\n",
      "            }\n",
      "            // console.log($(el).data('job-id'));\n",
      "        } else {\n",
      "            // do something else\n",
      "        }\n",
      "    }\n",
      "\n",
      "    updateJobInViewPort = () => {\n",
      "        $('.job-ta').each(taChecker);\n",
      "        $('.ta-slick .slick-slide[aria-hidden=false] .job-ta-slick').each(taChecker);\n",
      "        $('.owl-carousel .active .job-ta-owl').each(taChecker)\n",
      "        setTimeout(function () {\n",
      "            const oth = currentUniqueSearchId ? {u_sr_id: currentUniqueSearchId} : null;\n",
      "            if (impressionData?.length) {\n",
      "                ta('Impressions', {\n",
      "                    oth: oth,\n",
      "                    imprs: impressionData\n",
      "                });\n",
      "                impressionData = [];\n",
      "            }\n",
      "        }, 1000)\n",
      "    };\n",
      "    if (onFeatureTrackingTa) {\n",
      "        $(window).on('resize scroll', function() {\n",
      "            updateJobInViewPort();\n",
      "        });\n",
      "        // Support slick carousel tracking ta jobs.\n",
      "        $('.ta-slick').on('init afterChange', function () {\n",
      "            $(this).find('.slick-slide[aria-hidden=false] .job-ta-slick').each(taChecker)\n",
      "        })\n",
      "\n",
      "        $('.owl-carousel').on('initialized.owl.carousel dragged.owl.carousel translated.owl.carousel', function () {\n",
      "            $(this).find('.active .job-ta-owl').each(taChecker)\n",
      "        })\n",
      "\n",
      "        updateJobInViewPort();\n",
      "    }\n",
      "\n"
     ]
    }
   ],
   "source": [
    "driver = webdriver.Chrome(service=ChromeService(ChromeDriverManager().install()),options=option)\n",
    "driver.get(\"https://www.topcv.vn/tim-viec-lam-moi-nhat?sort=top_related\")\n",
    "soup = BeautifulSoup(driver.page_source, 'html.parser')\n",
    "script_tag = soup.find('script', string=re.compile(r'let currentUniqueSearchId =.*?;'))\n",
    "\n",
    "if script_tag:\n",
    "    # Get the content of the script tag\n",
    "    script_content = script_tag.string\n",
    "\n",
    "    # Perform further processing with script_content\n",
    "    print(script_content)\n",
    "else:\n",
    "    print(\"Script tag not found.\")\n",
    "# job_count = driver.find_element(By.CSS_SELECTOR,'[class=\"job-header\"] h2 b').text.replace(\",\", \"\")\n",
    "# if (int(job_count) % 50 == 0):\n",
    "#     max_page  = int(job_count) / 50\n",
    "# else:\n",
    "#     max_page = math.floor(int(job_count) / 50) + 1\n",
    "# print(max_page)\n",
    "driver.quit()"
   ]
  },
  {
   "cell_type": "code",
   "execution_count": 28,
   "metadata": {},
   "outputs": [
    {
     "name": "stdout",
     "output_type": "stream",
     "text": [
      "qEVSKX2CZiuiBwxqnjWwJy74Q1kxSHmYEUSG3x6t_1703340924\n",
      "w8LwIkceScqNrLnOAtPtyrKCkUyfbOe3aEarY01Z\n"
     ]
    }
   ],
   "source": [
    "index = script_content.find(\"let currentUniqueSearchId =\")\n",
    "\n",
    "if index != -1:\n",
    "    semicolon_index = script_content.find(\";\", index)\n",
    "    if semicolon_index != -1:\n",
    "        extracted_content = script_content[index:semicolon_index + 1]\n",
    "    else:\n",
    "        print(\"Can find\")\n",
    "else:\n",
    "    print(\"No result\")\n",
    "u_sr_id = extracted_content.split(\"'\")[1].split(\"'\")[0]\n",
    "csrf = soup.find('meta', {'name': 'csrf-token'})['content']\n",
    "print(u_sr_id)\n",
    "print(csrf)"
   ]
  },
  {
   "cell_type": "code",
   "execution_count": 29,
   "metadata": {},
   "outputs": [
    {
     "name": "stdout",
     "output_type": "stream",
     "text": [
      "�$\u0000\u0000�`��_H\u000fG;\u0002�\u001c2\u0005��P�W\u000e�\u0017��<Ҿ\u0002\u000ed�Pk����Ç��>ʅ&n�B�]<���'��7.�(��8��8\u000e��\u0001\u0003\n"
     ]
    }
   ],
   "source": [
    "url = \"https://www.topcv.vn/tim-viec-lam-moi-nhat?sort=top_related\"\n",
    "\n",
    "# Các thông tin header\n",
    "headers = {\n",
    "    'authority': 'www.topcv.vn',\n",
    "    'method': 'POST',\n",
    "    'path': f'/tim-viec-lam-kinh-doanh-ban-hang-c10001?sort=top_related&u_sr_id={u_sr_id}',\n",
    "    'scheme': 'https',\n",
    "    'accept': '*/*',\n",
    "    'accept-encoding': 'gzip, deflate, br',\n",
    "    'accept-language': 'vi-VN,vi;q=0.9,fr-FR;q=0.8,fr;q=0.7,en-US;q=0.6,en;q=0.5',\n",
    "    'content-length': '0',\n",
    "    'origin': 'https://www.topcv.vn',\n",
    "    'referer': 'https://www.topcv.vn/tim-viec-lam-kinh-doanh-ban-hang-c10001?sort=top_related&page=2',\n",
    "    'sec-ch-ua': '\"Not_A Brand\";v=\"8\", \"Chromium\";v=\"120\", \"Google Chrome\";v=\"120\"',\n",
    "    'sec-ch-ua-mobile': '?0',\n",
    "    'sec-ch-ua-platform': '\"Windows\"',\n",
    "    'sec-fetch-dest': 'empty',\n",
    "    'sec-fetch-mode': 'cors',\n",
    "    'sec-fetch-site': 'same-origin',\n",
    "    'user-agent': 'Mozilla/5.0 (Windows NT 10.0; Win64; x64) AppleWebKit/537.36 (KHTML, like Gecko) Chrome/120.0.0.0 Safari/537.36',\n",
    "    'x-csrf-token': f'{csrf}',\n",
    "    'x-requested-with': 'XMLHttpRequest',\n",
    "}\n",
    "\n",
    "# Gửi GET request với các thông tin header\n",
    "response = requests.get(url, headers=headers)\n",
    "\n",
    "# In nội dung của response\n",
    "print(response.text)"
   ]
  }
 ],
 "metadata": {
  "kernelspec": {
   "display_name": "Python 3",
   "language": "python",
   "name": "python3"
  },
  "language_info": {
   "codemirror_mode": {
    "name": "ipython",
    "version": 3
   },
   "file_extension": ".py",
   "mimetype": "text/x-python",
   "name": "python",
   "nbconvert_exporter": "python",
   "pygments_lexer": "ipython3",
   "version": "3.11.7"
  }
 },
 "nbformat": 4,
 "nbformat_minor": 2
}
