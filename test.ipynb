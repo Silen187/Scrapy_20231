{
 "cells": [
  {
   "cell_type": "code",
   "execution_count": 6,
   "metadata": {},
   "outputs": [
    {
     "name": "stdout",
     "output_type": "stream",
     "text": [
      "{'is_customized': False, 'is_login': False, 'action_type': 2, 'error': 90309999, 'tracking_id': '72566357101-c710-4d63-8a97-75ac4c682dc9'}\n"
     ]
    }
   ],
   "source": [
    "# import the required libraries\n",
    "from curl_cffi import requests\n",
    "\n",
    "# create a new session\n",
    "session = requests.Session()\n",
    "\n",
    "# the following endpoint makes the server set cookies\n",
    "session.get(\"https://shopee.vn/api/v4/recommend/recommend?bundle=category_landing_page&cat_level=1&catid=11036132&limit=60&offset=0\")\n",
    "\n",
    "# retrieve cookies to verify\n",
    "response = session.get(\"https://shopee.vn/api/v4/recommend/recommend?bundle=category_landing_page&cat_level=1&catid=11036132&limit=60&offset=0\")\n",
    "\n",
    "print(response.json())"
   ]
  },
  {
   "cell_type": "code",
   "execution_count": 53,
   "metadata": {},
   "outputs": [
    {
     "name": "stdout",
     "output_type": "stream",
     "text": [
      "{\"5\":false,\"2\":true,\"0\":2,\"3\":90309999,\"error\":90309999,\"1\":\"279debd3f75-4c66-4c8d-9c47-3fcf3348aae5\"}\n",
      "\n"
     ]
    }
   ],
   "source": [
    "from curl_cffi import requests\n",
    "import json\n",
    "session = requests.Session()\n",
    "\n",
    "url = \"https://shopee.vn/api/v4/recommend/recommend?bundle=category_landing_page&cat_level=1&catid=11036132&limit=60&offset=0\"\n",
    "\n",
    "headers = {\n",
    "    \":authority\": \"shopee.vn\",\n",
    "    \":method\": \"GET\",\n",
    "    \":path\": \"/api/v4/recommend/recommend?bundle=category_landing_page&cat_level=1&catid=11036132&limit=60&offset=0\",\n",
    "    \":scheme\": \"https\",\n",
    "    \"accept\": \"*/*\",\n",
    "    \"accept-encoding\": \"gzip, deflate, br, zstd\",\n",
    "    \"accept-language\": \"vi,en-US;q=0.9,en;q=0.8,fr-FR;q=0.7,fr;q=0.6\",\n",
    "    \"af-ac-enc-dat\": \"05dada76350c9c45\",\n",
    "    \"af-ac-enc-sz-token\": \"NxB2VP+pxxfSWQV1Mjerow==|yU/i0vVMLBJtjd3n7/qxKwwzoEaAB5cO5sRLCMjFMcbUPsPvU/vgTxRWmgy3xS2RuhUlyeBAfy4MgqD11/A=|F57LyOUu2D8gxDUP|08|3\",\n",
    "    \"cookie\": \"_QPWSDCXHZQA=65e6f93b-0654-4573-97cc-531ddcce6e18; REC7iLP4Q=5e5a912c-4286-4d52-b14e-2507527cb0e8; REC_T_ID=c57b24a5-74ce-11ef-a290-169d9e99fe11; SPC_F=bfs2VixkLNUMJx27PKIIPethKk5wbrp4; _gcl_au=1.1.21845950.1726561691; _gcl_dc=GCL.1730359217.CMrlvbGKuIkDFTyG6QUd9CAr9A; _hjSessionUser_868286=eyJpZCI6ImYzMTIzMDgyLTEyZDItNTZiZi05ODZiLTA2NjdmZTRhNDk5MyIsImNyZWF0ZWQiOjE3MjY1NjE2OTIzNTUsImV4aXN0aW5nIjp0cnVlfQ==; _gcl_gs=2.1.k1$i1731853075$u114510277; _gcl_aw=GCL.1731853079.CjwKCAiAxea5BhBeEiwAh4t5K3A-kZCKM1AjxRWwvAWxXEotNtFD52kCmZJkxt0YFTr4OBR56gv32BoCNvMQAvD_BwE; _gac_UA-61914164-6=1.1731853080.CjwKCAiAxea5BhBeEiwAh4t5K3A-kZCKM1AjxRWwvAWxXEotNtFD52kCmZJkxt0YFTr4OBR56gv32BoCNvMQAvD_BwE; __LOCALE__null=VN; csrftoken=Vx2Uxue5T3fGiSCy45z4Li9T0lbAGDS7; SPC_SEC_SI=v1-RVMxQUNoSnMxMjA3VHdidglhCobPrrUa4DIWRxhns30bfmD9qNhliKdrsoH2HWNSs9zIs0A6w6AxvModRJSY/v53ppjY20+zyixNZyk5O5M=; SPC_SI=qYFRZwAAAABsUHljMHZ4a1/TNAAAAAAAWkZMNzdXQ00=; _sapid=b9a7834a239a6a2cbcfa4f48051e4dc50a41cfed013907260341d666; SPC_IA=1; _med=affiliates; _hjSession_868286=eyJpZCI6IjZlMDA0NWNkLTZlOWEtNDIyZi04Nzg0LTNhYmMxM2UxNGM4NyIsImMiOjE3MzM1ODQ3NzExMzAsInMiOjAsInIiOjAsInNiIjowLCJzciI6MCwic2UiOjAsImZzIjowLCJzcCI6MX0=; AMP_TOKEN=%24NOT_FOUND; _gid=GA1.2.1123888427.1733584772; SPC_CLIENTID=YmZzMlZpeGtMTlVNngnumzexvqevyrlr; SPC_U=82850516; SPC_T_ID=Z2mpE/qLgMrvA4itY408j7S2mQtjjw29B0XQwFJXdKG/QhaCWWPxxTY+Ogz7c7Cru/D+NSCwbfv9+MVXK08EjzSDfz5fdndS8yjmiAJUIVJRYGpYRP6/JWOFvw69J0W7Zw6BAsCZP1wjTwkTeEGVMZW4uF3MFD6GYwqLP3gmGEQ=; SPC_T_IV=U0pOcjRydFpkTzdxTmhvbw==; SPC_R_T_ID=Z2mpE/qLgMrvA4itY408j7S2mQtjjw29B0XQwFJXdKG/QhaCWWPxxTY+Ogz7c7Cru/D+NSCwbfv9+MVXK08EjzSDfz5fdndS8yjmiAJUIVJRYGpYRP6/JWOFvw69J0W7Zw6BAsCZP1wjTwkTeEGVMZW4uF3MFD6GYwqLP3gmGEQ=; SPC_R_T_IV=U0pOcjRydFpkTzdxTmhvbw==; SPC_CDS_CHAT=c5998593-8c11-4da8-8102-4a620b911c3a; SPC_EC=.am9SZmdoZU5LUEJtamxiS9C50WCnzVsB+S2J/JIqAHoQJmP42uzTmsx/58BIa194Z1JsKuKmEVffedx03JO4PNCVsSQ4x4gT+aoN12atJ0f5r7gdCWibfwC0h4qLAHuN73MISt8XEtDDzaTH8rt6JNzbiwEaoFYQyUzzuYimEZn7qFZDusNzQ2xQFS1rN3nW/JFNx2C1XNQo8ckoL2xDS5vUguXtHysg9b8DGNaEhFKVTu2LxjK3XFJTpqaDYo+O; SPC_ST=.am9SZmdoZU5LUEJtamxiS9C50WCnzVsB+S2J/JIqAHoQJmP42uzTmsx/58BIa194Z1JsKuKmEVffedx03JO4PNCVsSQ4x4gT+aoN12atJ0f5r7gdCWibfwC0h4qLAHuN73MISt8XEtDDzaTH8rt6JNzbiwEaoFYQyUzzuYimEZn7qFZDusNzQ2xQFS1rN3nW/JFNx2C1XNQo8ckoL2xDS5vUguXtHysg9b8DGNaEhFKVTu2LxjK3XFJTpqaDYo+O; _dc_gtm_UA-61914164-6=1; _ga=GA1.1.1465995024.1726561692; AC_CERT_D=U2FsdGVkX1/1T3DXilJecmz5q15CQuG8gXu+B30fH7tJwSUPdCSvuCx4u1WVAnNSiA3dMYwg0fgnwu8VuhCWrKjcoibvMvNKY0X8LcBsIDPjSn+MfHyNEJXFfkPLBAg0pCVWMK9EAgm+90F5MCVbenlpGeC66rqe5JPxxoYv7C0h29LMFRB2/kvx1035tU+uJoFU1yygAjnfPQQ+BYic7AWOuZZLByAswnf7ODT074tCas0FGOgfVybpuuedlzRVHHu0RCEVjpSJ+nEyeLvK46w2kzqRaqHWggTcSGinnv0m6Fylx5NR0bppwfD7N5r5y4hNw6X+tDgla6D9b0IcXUypaGSL+xZDKv3QsWf/6ZJTomTMwvmNJD8ZE2PLYwrYv5SmVbWcyB2o+0hWuMjUBVx0lzvBiUo/MM16LZYDwsFU/BgkaGXzrGWpqZU6Nno+ZSNYu/OvcIBt574QcHnQ/yRLg84ulHNfTs/cbmJZZVL1N1zoG5HzT3nNV1wlYPHFb4RLgNbzYD3hVfT+E/HUo6QdvwG/bE1yLn+UQijSH4CaAKkBmIxpwQ/fyPNqJswGyNJ9iec1t07M8Ggl44Z3gp4SexP86joDqFO39zi+yMRNvNHoFXyyUpCB6lMKevgDAYEZA/eQhxbX7Y1srhjz3QF44j0TMmI4gu/xa2sIEUFVc6Inw64gVAAd3CtjKHkctg98knFM6QrHHCkuE7MB9FEDBI1baKd99+DSdqOdGdP+VXKRS5ptAcdNZLp5meKxQLGG6aKjqg+CF5UfLAcclBj8WEnuHXkqHiSkSB6/33u0MYPZVepBNSwXYT12TweqptoxMz9KJmPTnXGKe9Rq84/CAdGelzrJCNWZQVq4Lvpg8tJS1Lh27JXRMOHDSYu15QLP2m93JiGJ65xIpFce6tlqprcEypgUWI6xH03K/diWdPHbdrYAKRsvSTsPpQnfqOoGkN3OL6LEqDXV2aeGtXA6W+MtPqfzPa6aQmfx4h4SWIqvM412suFgg1IAy9UW0okRsncW7QE2kAXa3sJRz+t7gYMqiAmN7yma4V1QXyqMbzB/KYoQwjI4TlTMABjqno+eHvou5ly+Yfo7DvpW4Q==; _ga_4GPP1ZXG63=GS1.1.1733584770.6.1.1733586909.17.0.0; shopee_webUnique_ccd=NxB2VP%2BpxxfSWQV1Mjerow%3D%3D%7CyU%2Fi0vVMLBJtjd3n7%2FqxKwwzoEaAB5cO5sRLCMjFMcbUPsPvU%2FvgTxRWmgy3xS2RuhUlyeBAfy4MgqD11%2FA%3D%7CF57LyOUu2D8gxDUP%7C08%7C3; ds=2b847e2d549cb0251d7e71ce6419a0c6\",\n",
    "    \"if-none-match\": \"55b03-cdb0ed87c4b63c15e5e77f2095e40bec\",\n",
    "    \"priority\": \"u=1, i\",\n",
    "    \"referer\": \"https://shopee.vn/Thi%E1%BA%BFt-B%E1%BB%8B-%C4%90i%E1%BB%87n-T%E1%BB%AD-cat.11036132\",\n",
    "    \"sec-ch-ua\": \"\\\"Chromium\\\";v=\\\"130\\\", \\\"Google Chrome\\\";v=\\\"130\\\", \\\"Not?A_Brand\\\";v=\\\"99\\\"\",\n",
    "    \"sec-ch-ua-mobile\": \"?0\",\n",
    "    \"sec-ch-ua-platform\": \"\\\"Windows\\\"\",\n",
    "    \"sec-fetch-dest\": \"empty\",\n",
    "    \"sec-fetch-mode\": \"cors\",\n",
    "    \"sec-fetch-site\": \"same-origin\",\n",
    "    \"user-agent\": \"Mozilla/5.0 (Windows NT 10.0; Win64; x64) AppleWebKit/537.36 (KHTML, like Gecko) Chrome/130.0.0.0 Safari/537.36\",\n",
    "    \"x-api-source\": \"pc\",\n",
    "    \"x-requested-with\": \"XMLHttpRequest\",\n",
    "    \"x-sap-ri\": \"db6f54672a93a54469f85e3c050128ee716d673d907285335ef4\",\n",
    "    \"x-sap-sec\": \"IfjievmIHqAirXO9kqW9kXn9mqWZk8B9roW7kuf9Iq8oktv98o9YkvK9OqXikTB9XoWNknE9Qo8ck1K9Tq9SkTO9/q9lkAO9fYXtkX/950XTkVW9nq81kUW9l0XnkvW9MYW9kVE9Eq8JkVf9z0WBkUB9U09BknW9r0W9knf9WqX9k8v9Hq88kXK9uo99kuW9hq9Uk1f9Bo9LkWW9cqW1k8f9ToW9kqW9UWJVgsVxyqW9k9jc6OzdGo9M3qv9kqW9kv3Gv6hBN3irqoW9kV5+k0W9kDlXe4caLLmw+svF2KzhgYW9kXCqk0W9kqWmNH+OymIgm/VeDqW9kqW9u0DYk0W91qD9kqW9knaakYW9kq9CZ/PxH+I9kqXWDGmo3Sf8kq8K/q1skq9RQRyBQ4B9kqpGeqv9kqW9m65qkoW9kqXIn1f9kqW9k1jiyRU/8Zf8kqW9k1ralkEDt0W9kDGzZ08HEqv9kvO8kqXtuL+Bqqn9k8P6vpO9kqWmSg/9KYf9kqXfdXO5rqW9kTqwHpBjkYW93m6HCR2rnKJdxnTahAk4erfDHSQoFzf4FY5r/hMInoh7ZUYPjcSzUwm+2yclPoMFL/pMXrbwbsSR9LsrZ5hbmXL2YDrHEfKoLM3vTbbAy3UZe4sBhpy/aUKfQ9SazOq3tcMynfUl+aS0f6NOcIwhuK19caBy5bV6iv2w1abABGHnVOlN+gb9goUq7o+m2XYns9Uc0zr0kWcjS4EuNwleme8WKxz5Zak7lMiCDL13/GgXW2MFXei8AbhjlYY+SRzwCgHY8wcZAA7+hOpwOJfQWY+azSUFw3tVEdQlvRR7s7Eag5BuTHvqHc+xWYl+J6usbs5WOnrSHKs4loyRiZdlNMr6CZW3faBrF6CadxngdPF/kqW9OqW9kV+wHUe8UnXcEqD9kDudd2ku867l6v9yMqedE242fkgiPqCAcqY/XGR56UWVqXhRd/e7g2GLg95tBANl2p0yDIUM/PWcbFh0go+GaJX3QNMCA5ZHqcX9qsJ4FsU/0bG3/NWKPfWugTJYADV5fhjA6YOgkLsOkMGVkAHdQc3SEoshgXDQRa+XUPh+4itJSJ0RLAgXfJ8a9yN/luBa2rCNviKJB73C2HwtNhOloxqiMNNJw3EPEfuL2qgNP+SgvwoW9zHZIV9TE/P/Czw1nqqpiImlGgNUSHvAF0jUIS2I9ur4QxCV7cbzRuXqSnNThOY8CstR0QyC04u6zhRM24PQTlJ3XY4J/qYmaEq8sQPXKfpgUThTFcbO+qUCJqHoe7IMqYuKmYwWFqIqi5sFgJkECLMyzD3sHrK2cAC+R7fOArZew0lWSoK9kqWGjpLE1Ig+O2HTJE0NY0W9r0W9kUkbchHSqnQ9koW9kV4bkqWgkqW9KXeZED7B3e8XA2L3nNK+MaoYIYW9kqW9kqW9knf9kq8VA6tIY8tIc0qlkLoRxEhCM4vbegHEE2fmiqC7YgCLP2pXkhB9kqW9OqW9kFKAwFKizHK2pqW9k1+zREdRGLPGk4QFLgwKKoQCipQ/1DGJ512Dkh5r1EOnJ4GjE0W9kqWkkqW9seHyEjdcU4trC45wmqZlAd5AIHCQKxoxxIRlZJJZ9MW9kqW9OqW9kn6dSV78z6K2rYW9kUok6eqLkqW9\",\n",
    "    \"x-shopee-language\": \"vi\",\n",
    "    \"x-sz-sdk-version\": \"1.12.10\",\n",
    "}\n",
    "\n",
    "response = requests.get(url, headers = headers, impersonate=\"chrome\")\n",
    "\n",
    "print(response.text)\n",
    "# In kết quả\n",
    "# data = response.json()\n",
    "\n",
    "# with open('data.json', 'w', encoding='utf-8') as f:\n",
    "#     json.dump(data, f, ensure_ascii=False, indent=4)\n",
    "\n",
    "# print(\"Dữ liệu đã được ghi vào file data.json\")\n"
   ]
  },
  {
   "cell_type": "code",
   "execution_count": 7,
   "metadata": {},
   "outputs": [
    {
     "name": "stdout",
     "output_type": "stream",
     "text": [
      "{\"5\":false,\"2\":true,\"0\":2,\"3\":90309999,\"error\":90309999,\"1\":\"8803b5eaef-09a4-4b92-9b7d-40bfdb27ae67\"}\n",
      "\n"
     ]
    }
   ],
   "source": [
    "\n",
    "import requests\n",
    "\n",
    "cookies = {\n",
    "    '_QPWSDCXHZQA': '65e6f93b-0654-4573-97cc-531ddcce6e18',\n",
    "    'REC7iLP4Q': '5e5a912c-4286-4d52-b14e-2507527cb0e8',\n",
    "    'REC_T_ID': 'c57b24a5-74ce-11ef-a290-169d9e99fe11',\n",
    "    'SPC_F': 'bfs2VixkLNUMJx27PKIIPethKk5wbrp4',\n",
    "    '_gcl_au': '1.1.21845950.1726561691',\n",
    "    '_gcl_dc': 'GCL.1730359217.CMrlvbGKuIkDFTyG6QUd9CAr9A',\n",
    "    '_hjSessionUser_868286': 'eyJpZCI6ImYzMTIzMDgyLTEyZDItNTZiZi05ODZiLTA2NjdmZTRhNDk5MyIsImNyZWF0ZWQiOjE3MjY1NjE2OTIzNTUsImV4aXN0aW5nIjp0cnVlfQ==',\n",
    "    '_gcl_gs': '2.1.k1$i1731853075$u114510277',\n",
    "    '_gcl_aw': 'GCL.1731853079.CjwKCAiAxea5BhBeEiwAh4t5K3A-kZCKM1AjxRWwvAWxXEotNtFD52kCmZJkxt0YFTr4OBR56gv32BoCNvMQAvD_BwE',\n",
    "    '_gac_UA-61914164-6': '1.1731853080.CjwKCAiAxea5BhBeEiwAh4t5K3A-kZCKM1AjxRWwvAWxXEotNtFD52kCmZJkxt0YFTr4OBR56gv32BoCNvMQAvD_BwE',\n",
    "    'SPC_SEC_SI': 'v1-RVMxQUNoSnMxMjA3VHdidglhCobPrrUa4DIWRxhns30bfmD9qNhliKdrsoH2HWNSs9zIs0A6w6AxvModRJSY/v53ppjY20+zyixNZyk5O5M=',\n",
    "    'SPC_SI': 'qYFRZwAAAABsUHljMHZ4a1/TNAAAAAAAWkZMNzdXQ00=',\n",
    "    '_gid': 'GA1.2.1123888427.1733584772',\n",
    "    'SPC_CLIENTID': 'YmZzMlZpeGtMTlVNngnumzexvqevyrlr',\n",
    "    'SPC_U': '82850516',\n",
    "    'SPC_T_ID': 'Z2mpE/qLgMrvA4itY408j7S2mQtjjw29B0XQwFJXdKG/QhaCWWPxxTY+Ogz7c7Cru/D+NSCwbfv9+MVXK08EjzSDfz5fdndS8yjmiAJUIVJRYGpYRP6/JWOFvw69J0W7Zw6BAsCZP1wjTwkTeEGVMZW4uF3MFD6GYwqLP3gmGEQ=',\n",
    "    'SPC_T_IV': 'U0pOcjRydFpkTzdxTmhvbw==',\n",
    "    'SPC_R_T_ID': 'Z2mpE/qLgMrvA4itY408j7S2mQtjjw29B0XQwFJXdKG/QhaCWWPxxTY+Ogz7c7Cru/D+NSCwbfv9+MVXK08EjzSDfz5fdndS8yjmiAJUIVJRYGpYRP6/JWOFvw69J0W7Zw6BAsCZP1wjTwkTeEGVMZW4uF3MFD6GYwqLP3gmGEQ=',\n",
    "    'SPC_R_T_IV': 'U0pOcjRydFpkTzdxTmhvbw==',\n",
    "    'SPC_EC': '.am9SZmdoZU5LUEJtamxiS9C50WCnzVsB+S2J/JIqAHoQJmP42uzTmsx/58BIa194Z1JsKuKmEVffedx03JO4PNCVsSQ4x4gT+aoN12atJ0f5r7gdCWibfwC0h4qLAHuN73MISt8XEtDDzaTH8rt6JNzbiwEaoFYQyUzzuYimEZn7qFZDusNzQ2xQFS1rN3nW/JFNx2C1XNQo8ckoL2xDS5vUguXtHysg9b8DGNaEhFKVTu2LxjK3XFJTpqaDYo+O',\n",
    "    'SPC_ST': '.am9SZmdoZU5LUEJtamxiS9C50WCnzVsB+S2J/JIqAHoQJmP42uzTmsx/58BIa194Z1JsKuKmEVffedx03JO4PNCVsSQ4x4gT+aoN12atJ0f5r7gdCWibfwC0h4qLAHuN73MISt8XEtDDzaTH8rt6JNzbiwEaoFYQyUzzuYimEZn7qFZDusNzQ2xQFS1rN3nW/JFNx2C1XNQo8ckoL2xDS5vUguXtHysg9b8DGNaEhFKVTu2LxjK3XFJTpqaDYo+O',\n",
    "    '__LOCALE__null': 'VN',\n",
    "    'csrftoken': 'nqgtN0KYvFfaG2xgFeQlLxNd7Mn9P3I6',\n",
    "    '_sapid': 'b9a7834a239a6a2cbcfa4f48051e4dc50a41cfed013907260341d666',\n",
    "    'SPC_IA': '1',\n",
    "    'AMP_TOKEN': '%24NOT_FOUND',\n",
    "    '_hjSession_868286': 'eyJpZCI6ImI0ODczZmFkLWJjZTAtNDc2Ny05ZWE4LWUxMTcyYjNkNWJlNiIsImMiOjE3MzM2NTA2MDE2NDYsInMiOjAsInIiOjAsInNiIjowLCJzciI6MCwic2UiOjAsImZzIjowLCJzcCI6MH0=',\n",
    "    'SPC_CDS_CHAT': '62564f32-cfd3-421b-af4a-3f448118f6dd',\n",
    "    '_med': 'affiliates',\n",
    "    '_ga': 'GA1.2.1465995024.1726561692',\n",
    "    '_dc_gtm_UA-61914164-6': '1',\n",
    "    'AC_CERT_D': 'U2FsdGVkX18TvdmBkoIutDkLYG1FgWh1F2/6ECfvZKWHtjeTH3PXzDYCsu1rtAhht6CVAUcaDgH7x92wcOjYP4saXIIlXEgIJAbPiJN2DCTCsWOTlBE9vB7iY5aKIYiej7i0Wj6KKXYLkM5PiEY52SWF3lN1Eb7eAEbB2J7DpSwDRnv9oB/F51hy87ETEfMC8EvvgRmbnvCCzVdLA+WC/Uhql5xvoR63IwqGxbISug6VbWRzHPH5j8lw9i6Nl9C0FLA9vMBPqk3Ukz3E2BPOaKfCtepxCauX3hVl+w16SNheodcJF0EhPwMzO3ZQRrfgksd5WCmF25W1vVvWUqyfBZo0nGRiJr9GfG+LkBOZxepyJrcYtF8A0+OJkmudcGrg4zN6BYFa/EVTw2IlwyrH/tZJgBoBaIeIsGt5kMn1YoUuaQXMk9O4lvYuuhvUox0oubyH/J2gtG97amaqoP+keq3dm9t/37IEX7OBA/YUyBEWEBUKR5gKmJNTIkKMsmt/8sQNa+kz7o7V5zyZkSxKRmuqhwJgkBzVnKVIeOVLF6sDXDnVWCyO0gR5PQTQiB+sPujyH0xH359Uv6b2iG9cU0uRhR9wn56z2GYVwIjKYuSvCCsdo5/3Ly+u623oOWD6BGbxth2zR2wgELndgurME7pNTK1atPXzr/RlVcZ1jx5E1sUGgNH/SU11eksZUiVlxPt6mZUGYjEBXkQ0hPbdXsRiRKIBH0uClJ7vqpMn3qlgAqeqVXjcmHUWvHO0QZjkzsj/9g+m70tofAG6s3IIPNThJ2/YAexvqPsvYiyAeSw01jh7s+vBTrU4icA4xhc1Z3+SBt7RfugD51l8O/H69sGLr342JR1B0Fvt3uOU1QDZHYXKovQTnJXskALBygaDif9/VsOlzwb9qtQZAFTEg64nWmDG+4pzPdPDbqDU6/9rgBIth13st9AgU0snD+Mo+TDMIHg58dspv/mjBoL+cqYffPEIWo1V9n9679ED7xsWQ+RRFRGUcnpWVnoWzOusRMRPJswVGin+fIUuSBYVRgn423QNn+aNpwxuN0pZj8phl8dQ3/se/gTWA/JzZLb/lfkNhORaDLKjRGR8+Krzhg==',\n",
    "    '_ga_4GPP1ZXG63': 'GS1.1.1733650600.10.1.1733650721.3.0.0',\n",
    "    'shopee_webUnique_ccd': 'eoZnBoSqz0eMXhsixWTmsQ%3D%3D%7CGU%2Fi0vVMLBJtjd3n7%2FqxKwwzoEaAB5cO5sRLCJfyR8LUPsPvU%2FvgTxRWmgy3xS2RuhUlyeBAfy4MgqD11%2FA%3D%7CF57LyOUu2D8gxDUP%7C08%7C3',\n",
    "    'ds': 'f86d70eaa0def6fdee7546a08f802eda',\n",
    "}\n",
    "\n",
    "headers = {\n",
    "    'accept': '*/*',\n",
    "    'accept-language': 'vi,en-US;q=0.9,en;q=0.8,fr-FR;q=0.7,fr;q=0.6',\n",
    "    'af-ac-enc-dat': 'bcfbcd19e4fac80c',\n",
    "    'af-ac-enc-sz-token': 'eoZnBoSqz0eMXhsixWTmsQ==|GU/i0vVMLBJtjd3n7/qxKwwzoEaAB5cO5sRLCJfyR8LUPsPvU/vgTxRWmgy3xS2RuhUlyeBAfy4MgqD11/A=|F57LyOUu2D8gxDUP|08|3',\n",
    "    # 'cookie': '_QPWSDCXHZQA=65e6f93b-0654-4573-97cc-531ddcce6e18; REC7iLP4Q=5e5a912c-4286-4d52-b14e-2507527cb0e8; REC_T_ID=c57b24a5-74ce-11ef-a290-169d9e99fe11; SPC_F=bfs2VixkLNUMJx27PKIIPethKk5wbrp4; _gcl_au=1.1.21845950.1726561691; _gcl_dc=GCL.1730359217.CMrlvbGKuIkDFTyG6QUd9CAr9A; _hjSessionUser_868286=eyJpZCI6ImYzMTIzMDgyLTEyZDItNTZiZi05ODZiLTA2NjdmZTRhNDk5MyIsImNyZWF0ZWQiOjE3MjY1NjE2OTIzNTUsImV4aXN0aW5nIjp0cnVlfQ==; _gcl_gs=2.1.k1$i1731853075$u114510277; _gcl_aw=GCL.1731853079.CjwKCAiAxea5BhBeEiwAh4t5K3A-kZCKM1AjxRWwvAWxXEotNtFD52kCmZJkxt0YFTr4OBR56gv32BoCNvMQAvD_BwE; _gac_UA-61914164-6=1.1731853080.CjwKCAiAxea5BhBeEiwAh4t5K3A-kZCKM1AjxRWwvAWxXEotNtFD52kCmZJkxt0YFTr4OBR56gv32BoCNvMQAvD_BwE; SPC_SEC_SI=v1-RVMxQUNoSnMxMjA3VHdidglhCobPrrUa4DIWRxhns30bfmD9qNhliKdrsoH2HWNSs9zIs0A6w6AxvModRJSY/v53ppjY20+zyixNZyk5O5M=; SPC_SI=qYFRZwAAAABsUHljMHZ4a1/TNAAAAAAAWkZMNzdXQ00=; _gid=GA1.2.1123888427.1733584772; SPC_CLIENTID=YmZzMlZpeGtMTlVNngnumzexvqevyrlr; SPC_U=82850516; SPC_T_ID=Z2mpE/qLgMrvA4itY408j7S2mQtjjw29B0XQwFJXdKG/QhaCWWPxxTY+Ogz7c7Cru/D+NSCwbfv9+MVXK08EjzSDfz5fdndS8yjmiAJUIVJRYGpYRP6/JWOFvw69J0W7Zw6BAsCZP1wjTwkTeEGVMZW4uF3MFD6GYwqLP3gmGEQ=; SPC_T_IV=U0pOcjRydFpkTzdxTmhvbw==; SPC_R_T_ID=Z2mpE/qLgMrvA4itY408j7S2mQtjjw29B0XQwFJXdKG/QhaCWWPxxTY+Ogz7c7Cru/D+NSCwbfv9+MVXK08EjzSDfz5fdndS8yjmiAJUIVJRYGpYRP6/JWOFvw69J0W7Zw6BAsCZP1wjTwkTeEGVMZW4uF3MFD6GYwqLP3gmGEQ=; SPC_R_T_IV=U0pOcjRydFpkTzdxTmhvbw==; SPC_EC=.am9SZmdoZU5LUEJtamxiS9C50WCnzVsB+S2J/JIqAHoQJmP42uzTmsx/58BIa194Z1JsKuKmEVffedx03JO4PNCVsSQ4x4gT+aoN12atJ0f5r7gdCWibfwC0h4qLAHuN73MISt8XEtDDzaTH8rt6JNzbiwEaoFYQyUzzuYimEZn7qFZDusNzQ2xQFS1rN3nW/JFNx2C1XNQo8ckoL2xDS5vUguXtHysg9b8DGNaEhFKVTu2LxjK3XFJTpqaDYo+O; SPC_ST=.am9SZmdoZU5LUEJtamxiS9C50WCnzVsB+S2J/JIqAHoQJmP42uzTmsx/58BIa194Z1JsKuKmEVffedx03JO4PNCVsSQ4x4gT+aoN12atJ0f5r7gdCWibfwC0h4qLAHuN73MISt8XEtDDzaTH8rt6JNzbiwEaoFYQyUzzuYimEZn7qFZDusNzQ2xQFS1rN3nW/JFNx2C1XNQo8ckoL2xDS5vUguXtHysg9b8DGNaEhFKVTu2LxjK3XFJTpqaDYo+O; __LOCALE__null=VN; csrftoken=nqgtN0KYvFfaG2xgFeQlLxNd7Mn9P3I6; _sapid=b9a7834a239a6a2cbcfa4f48051e4dc50a41cfed013907260341d666; SPC_IA=1; AMP_TOKEN=%24NOT_FOUND; _hjSession_868286=eyJpZCI6ImI0ODczZmFkLWJjZTAtNDc2Ny05ZWE4LWUxMTcyYjNkNWJlNiIsImMiOjE3MzM2NTA2MDE2NDYsInMiOjAsInIiOjAsInNiIjowLCJzciI6MCwic2UiOjAsImZzIjowLCJzcCI6MH0=; SPC_CDS_CHAT=62564f32-cfd3-421b-af4a-3f448118f6dd; _med=affiliates; _ga=GA1.2.1465995024.1726561692; _dc_gtm_UA-61914164-6=1; AC_CERT_D=U2FsdGVkX18TvdmBkoIutDkLYG1FgWh1F2/6ECfvZKWHtjeTH3PXzDYCsu1rtAhht6CVAUcaDgH7x92wcOjYP4saXIIlXEgIJAbPiJN2DCTCsWOTlBE9vB7iY5aKIYiej7i0Wj6KKXYLkM5PiEY52SWF3lN1Eb7eAEbB2J7DpSwDRnv9oB/F51hy87ETEfMC8EvvgRmbnvCCzVdLA+WC/Uhql5xvoR63IwqGxbISug6VbWRzHPH5j8lw9i6Nl9C0FLA9vMBPqk3Ukz3E2BPOaKfCtepxCauX3hVl+w16SNheodcJF0EhPwMzO3ZQRrfgksd5WCmF25W1vVvWUqyfBZo0nGRiJr9GfG+LkBOZxepyJrcYtF8A0+OJkmudcGrg4zN6BYFa/EVTw2IlwyrH/tZJgBoBaIeIsGt5kMn1YoUuaQXMk9O4lvYuuhvUox0oubyH/J2gtG97amaqoP+keq3dm9t/37IEX7OBA/YUyBEWEBUKR5gKmJNTIkKMsmt/8sQNa+kz7o7V5zyZkSxKRmuqhwJgkBzVnKVIeOVLF6sDXDnVWCyO0gR5PQTQiB+sPujyH0xH359Uv6b2iG9cU0uRhR9wn56z2GYVwIjKYuSvCCsdo5/3Ly+u623oOWD6BGbxth2zR2wgELndgurME7pNTK1atPXzr/RlVcZ1jx5E1sUGgNH/SU11eksZUiVlxPt6mZUGYjEBXkQ0hPbdXsRiRKIBH0uClJ7vqpMn3qlgAqeqVXjcmHUWvHO0QZjkzsj/9g+m70tofAG6s3IIPNThJ2/YAexvqPsvYiyAeSw01jh7s+vBTrU4icA4xhc1Z3+SBt7RfugD51l8O/H69sGLr342JR1B0Fvt3uOU1QDZHYXKovQTnJXskALBygaDif9/VsOlzwb9qtQZAFTEg64nWmDG+4pzPdPDbqDU6/9rgBIth13st9AgU0snD+Mo+TDMIHg58dspv/mjBoL+cqYffPEIWo1V9n9679ED7xsWQ+RRFRGUcnpWVnoWzOusRMRPJswVGin+fIUuSBYVRgn423QNn+aNpwxuN0pZj8phl8dQ3/se/gTWA/JzZLb/lfkNhORaDLKjRGR8+Krzhg==; _ga_4GPP1ZXG63=GS1.1.1733650600.10.1.1733650721.3.0.0; shopee_webUnique_ccd=eoZnBoSqz0eMXhsixWTmsQ%3D%3D%7CGU%2Fi0vVMLBJtjd3n7%2FqxKwwzoEaAB5cO5sRLCJfyR8LUPsPvU%2FvgTxRWmgy3xS2RuhUlyeBAfy4MgqD11%2FA%3D%7CF57LyOUu2D8gxDUP%7C08%7C3; ds=f86d70eaa0def6fdee7546a08f802eda',\n",
    "    'if-none-match-': '55b03-9c8ec409a8425f58fb2ecb3619cbe1c4',\n",
    "    'priority': 'u=1, i',\n",
    "    'referer': 'https://shopee.vn/M%E1%BA%B9-B%C3%A9-cat.11036194',\n",
    "    'sec-ch-ua': '\"Chromium\";v=\"130\", \"Google Chrome\";v=\"130\", \"Not?A_Brand\";v=\"99\"',\n",
    "    'sec-ch-ua-mobile': '?0',\n",
    "    'sec-ch-ua-platform': '\"Windows\"',\n",
    "    'sec-fetch-dest': 'empty',\n",
    "    'sec-fetch-mode': 'cors',\n",
    "    'sec-fetch-site': 'same-origin',\n",
    "    'user-agent': 'Mozilla/5.0 (Windows NT 10.0; Win64; x64) AppleWebKit/537.36 (KHTML, like Gecko) Chrome/130.0.0.0 Safari/537.36',\n",
    "    'x-api-source': 'pc',\n",
    "    'x-requested-with': 'XMLHttpRequest',\n",
    "    'x-sap-ri': '26695567822ee0645d876c380501857344018d866249837c7af2',\n",
    "    'x-sap-sec': '50C85dRvFWJdtt9onWkontoo7WrWnW9o2WPknnooXfkUnF0olBrOnniokWPSnA+oEOP7nvdoLBOMn87oKWr4nq+oYWrTnU7oLOrdnDTonWr3nX+ofBr0nUSoXOrinu1orOkdnW7oXWkqnn+o5WOFnXkoABOBnqoozWk0n99ooBronD0oJBOdnF9ouWOYnWko4WkEnX9oUWk+nT+oXBOOnt+oEOkonWko//0nbWhj2Wkon1VVZKsAzWPdyWSonX+Xycd9MsOHnWkoFOkSnWrFoO52OEwIvrL0nkkkJ/tWnWkodf9hnWkonA87D/lliRj5CEW+nWkonWPkng9hnWOYnfkonWkoYtipnWkonVRAt/i/rOkonqmxPQANGWSon8cWWsyonUtrP+rg+Bkogw+ynBkonWOY0/9snWkonnFeGWkonWko9QsyCmxWhWSonWko82Eb1i/knWkoow2TnWoinBkoyWSonqMkx3lqnOko37xMABkonAXQXfkEtWkonvr3nt9SnWkolON3oM4pnWrauM9OAUtwe7wifyrb9tP3pIx/PP5Dz2hoUFa15IROP+Wv9TnI+cPomHjzfIG6r5r8GP+DTM1300GltBLAu/Mo16QXSGugdcyWKcYXoXFetAgwHzqWZp7qoKACS8sadVHhEnRyMO+jz4DE5S1gX9f3MQfL+2W6B/u6WOs6SWpd3YTyp7aXwj3pb6LHN2C1uUeeH+8PAzW/0DoN6m/ZijpTbUy93NtPvTra4YuBhP/3ho1o6zd7HhGImtvQ6AEC3r9bIFPSjYieeygRtzcynkVt6Puyifq7EYio5ZJfRFd4ienZuaB+93wCttiyZljkRU5CFUQ5KovOnmoa7CF/dMWFaJ29gNdt2gGMs+NKSOhUzY1onWkknWkoU1dW4mvH6C+infkoXoqhP65mXqzVN1eSXZIQiwhOjYX3dhV7MlgxL12tq8sVLrg8csG+B74Q/dW3F+5C5QdQOoZBiJ5hZDX5d5tr+/KP1DL+7GYV5M3P2kxoNQ66fyxjHYdaYUFAvsJCcF1rhPtuzl4O+RiKrFVIgagYh8lYIYPkESiNys2re/gf1VDDCg31mdK4NFknM5c7iumQ3lm/8G2Le4PFX3mpXoPulx5Zpn1nZei46j11POlmE/bs4Sm9Mf+GpG2+LgY/07kaYFmAWD0PUGdSwEoHB6XSjg6Od38t11mokNuzRtUIos4eC3w04qYd3pRl/BR/Q6Jd8LN3QiDAiXFovHpuVL7FUGbSEzbGUBya+XJed5Cj5vtxildHqbN2+8pm/rjr6hDVVDTDHZajCNLw/2yRzEHTBN6T0E+yqO4ZufkonA538cK32xnZmI9qwLaonWkenWkoUBbmVvI4eBksnWkoFOaon8SonWkeqzYcKhGS0kYHAcWEIstZ8fqinWkonWkonWko8Wkon9oHlQJ5HegVjf+nVG8//1kuxjiBeEspr5XK8MU4SsIbmmSt1BkonWkknWko6ZWG6jmfMnS1nWkomcHbwG8k/u2AZi+MHZL0J5AQA8t4HK/DWJrCYhnc3pRxZk6JnWkon9yonWPk4LXzWgxsHiOE+rKYn4hdETCmHhZn3KFekF+s3ObUUJZWmfSZF+z/HAdJ7Z+onWkonWkoqWkonDrvvzWDd7Bhtfkon8dCZcQ/nWko',\n",
    "    'x-shopee-language': 'vi',\n",
    "    'x-sz-sdk-version': '1.12.10',\n",
    "}\n",
    "\n",
    "params = {\n",
    "    'bundle': 'category_landing_page',\n",
    "    'cat_level': '1',\n",
    "    'catid': '11036194',\n",
    "    'limit': '60',\n",
    "    'offset': '0',\n",
    "}\n",
    "\n",
    "response = requests.get('https://shopee.vn/api/v4/recommend/recommend', params=params, cookies=cookies, headers=headers)\n",
    "\n",
    "print(response.text)"
   ]
  },
  {
   "cell_type": "code",
   "execution_count": 99,
   "metadata": {},
   "outputs": [
    {
     "ename": "AttributeError",
     "evalue": "'str' object has no attribute 'name'",
     "output_type": "error",
     "traceback": [
      "\u001b[1;31m---------------------------------------------------------------------------\u001b[0m",
      "\u001b[1;31mAttributeError\u001b[0m                            Traceback (most recent call last)",
      "Cell \u001b[1;32mIn[99], line 4\u001b[0m\n\u001b[0;32m      1\u001b[0m cookies \u001b[38;5;241m=\u001b[39m response\u001b[38;5;241m.\u001b[39mcookies\n\u001b[0;32m      3\u001b[0m \u001b[38;5;66;03m# In ra tất cả cookies dưới dạng dictionary\u001b[39;00m\n\u001b[1;32m----> 4\u001b[0m cookies_dict \u001b[38;5;241m=\u001b[39m {\u001b[43mcookie\u001b[49m\u001b[38;5;241;43m.\u001b[39;49m\u001b[43mname\u001b[49m: cookie\u001b[38;5;241m.\u001b[39mvalue \u001b[38;5;28;01mfor\u001b[39;00m cookie \u001b[38;5;129;01min\u001b[39;00m cookies}\n\u001b[0;32m      5\u001b[0m \u001b[38;5;28mprint\u001b[39m(cookies_dict)\n",
      "\u001b[1;31mAttributeError\u001b[0m: 'str' object has no attribute 'name'"
     ]
    }
   ],
   "source": [
    "cookies = response.cookies\n",
    "\n",
    "# In ra tất cả cookies dưới dạng dictionary\n",
    "cookies_dict = {cookie.name: cookie.value for cookie in cookies}\n",
    "print(cookies_dict)"
   ]
  },
  {
   "cell_type": "code",
   "execution_count": 2,
   "metadata": {},
   "outputs": [
    {
     "name": "stdout",
     "output_type": "stream",
     "text": [
      "Số lượng phần tử có 'Tab' là 'Tuyển sinh Đại học': 48\n"
     ]
    }
   ],
   "source": [
    "import json\n",
    "\n",
    "# Mở và đọc file JSON\n",
    "with open('output.json', 'r', encoding='utf-8') as f:\n",
    "    data = json.load(f)\n",
    "\n",
    "# Đếm số lượng phần tử có 'Tab' là \"Tuyển sinh Đại học\"\n",
    "count = sum(1 for item in data if item.get('Tab') == 'Tuyển sinh Sau đại học')\n",
    "\n",
    "print(f\"Số lượng phần tử có 'Tab' là 'Tuyển sinh Đại học': {count}\")"
   ]
  },
  {
   "cell_type": "code",
   "execution_count": 39,
   "metadata": {},
   "outputs": [
    {
     "name": "stdout",
     "output_type": "stream",
     "text": [
      "Request thành công!\n",
      "{\"status\":true,\"data\":{\"point_dgtd\":54.02,\"point_tn\":24.34,\"target\":80,\"admission_form\":\"X\\u00e9t tuy\\u1ec3n b\\u1eb1ng Gi\\u1ea3i th\\u01b0\\u1edfng HSG QG-QT\\/Ch\\u1ee9ng ch\\u1ec9 Qu\\u1ed1c t\\u1ebf\\/HSNL\",\"year\":2024}}\n"
     ]
    }
   ],
   "source": [
    "from curl_cffi import requests\n",
    "\n",
    "# Cookies\n",
    "cookies = {\n",
    "    '_ga_TT1NML6EJM': 'GS1.1.1732677146.8.0.1732677277.0.0.0',\n",
    "    '_ga_QVKBY6H48C': 'GS1.1.1733122980.6.1.1733122987.0.0.0',\n",
    "    '_ga': 'GA1.1.1783986823.1725934267',\n",
    "    '_ga_JMQCRQZJCH': 'GS1.3.1733122980.5.1.1733122987.0.0.0',\n",
    "    '_ga_CWFTHLQHPT': 'GS1.1.1733217629.17.1.1733217670.0.0.0',\n",
    "    '_ga_3QT93G99KF': 'GS1.1.1733365482.16.1.1733367215.0.0.0',\n",
    "    '_ga_33T6RC7PFB': 'GS1.1.1733665317.5.1.1733672016.0.0.0',\n",
    "    'XSRF-TOKEN': 'eyJpdiI6ImZRMk1jSjZXVHVtNXVzUkxHNFV2WVE9PSIsInZhbHVlIjoiQjE0Ti9oeUx5Sm85amNLajNmdDgwNjNWSXRPUW9MY0ptKzd1TEpyRGhRRkRISlFDYUV2azVGYUtaMm1MZktaU1Fyc0tEWkVPeXRsSGFXcjJ0OW1CTkh1RStEVlVNMEJZRUIwR2IyYWQ1N2N0R0cwUG5adHVNeUh6Y0JoZ1ZVbjkiLCJtYWMiOiJiYzIyNDRmOWNiZjMzYmEzZDE1NGQ3ZTBiNTAwZjBmZTQ4OTE0MzQyZTcwNGJkOWJhYzMxYzc4YWFjZjAzMzgxIiwidGFnIjoiIn0%3D',\n",
    "    'laravel_session': 'eyJpdiI6IkxxaWI5am9qUUNWZllqZE1UZ0VSVUE9PSIsInZhbHVlIjoiaGhjREpwQk1EQXdMeVhkSVY3THBWdU1hbzdrZjBXU21rYUsrVlJJZFNGWTdFZ0lOTWZicTVQR3o3Q0VGc0pPRFBnelpsNWtmQ3MzWFB2ZFlScDlXREpNMUNGclFKcmVlejMwbU9wc0tHR3VxTWNOZS8wMFlLS3liTXR6MGtaRlciLCJtYWMiOiIyNzk5YmM1OGY1NTEwMTU0MTEwYTI0NDIwMDVmZmY2NTE3YjA4MTg2NTFmMmE0ZjkzMjAyNjQ5YmM5Y2QwMmE1IiwidGFnIjoiIn0%3D',\n",
    "}\n",
    "\n",
    "# Headers\n",
    "headers = {\n",
    "    'Accept': '*/*',\n",
    "    'Accept-Language': 'vi,en-US;q=0.9,en;q=0.8,fr-FR;q=0.7,fr;q=0.6',\n",
    "    'Connection': 'keep-alive',\n",
    "    'Content-Type': 'application/x-www-form-urlencoded; charset=UTF-8',\n",
    "    'Origin': 'https://ts.hust.edu.vn',\n",
    "    'Referer': 'https://ts.hust.edu.vn/training-cate/nganh-dao-tao-dai-hoc/ky-thuat-thuc-pham-chuong-trinh-tien-tien',\n",
    "    'Sec-Fetch-Dest': 'empty',\n",
    "    'Sec-Fetch-Mode': 'cors',\n",
    "    'Sec-Fetch-Site': 'same-origin',\n",
    "    'User-Agent': 'Mozilla/5.0 (Windows NT 10.0; Win64; x64) AppleWebKit/537.36 (KHTML, like Gecko) Chrome/130.0.0.0 Safari/537.36',\n",
    "    'X-Requested-With': 'XMLHttpRequest',\n",
    "    'sec-ch-ua': '\"Chromium\";v=\"130\", \"Google Chrome\";v=\"130\", \"Not?A_Brand\";v=\"99\"',\n",
    "    'sec-ch-ua-mobile': '?0',\n",
    "    'sec-ch-ua-platform': '\"Windows\"',\n",
    "}\n",
    "\n",
    "# Form data (POST data)\n",
    "data = {\n",
    "    '_token': 'rcDkWBGGHOUj0dX3E6BOG1dXnC9t917UOYbA5iab',\n",
    "    '_slug': 'ky-thuat-hoa-duoc-chuong-trinh-tien-tien',\n",
    "    '_year': 2024, \n",
    "}\n",
    "\n",
    "# Send POST request\n",
    "response = requests.post(\n",
    "    'https://ts.hust.edu.vn/training-point',\n",
    "    cookies=cookies,  # Cookies truyền từ biến 'cookies'\n",
    "    headers=headers,  # Headers truyền từ biến 'headers'\n",
    "    data=data,  # Dữ liệu POST\n",
    "    verify=False\n",
    ")\n",
    "\n",
    "# Kiểm tra kết quả phản hồi\n",
    "if response.status_code == 200:\n",
    "    print(\"Request thành công!\")\n",
    "    print(response.text)  # In ra nội dung của phản hồi\n",
    "else:\n",
    "    print(f\"Lỗi: {response.status_code}\")\n"
   ]
  },
  {
   "cell_type": "code",
   "execution_count": 40,
   "metadata": {},
   "outputs": [
    {
     "data": {
      "text/plain": [
       "{'status': True,\n",
       " 'data': {'point_dgtd': 54.02,\n",
       "  'point_tn': 24.34,\n",
       "  'target': 80,\n",
       "  'admission_form': 'Xét tuyển bằng Giải thưởng HSG QG-QT/Chứng chỉ Quốc tế/HSNL',\n",
       "  'year': 2024}}"
      ]
     },
     "execution_count": 40,
     "metadata": {},
     "output_type": "execute_result"
    }
   ],
   "source": [
    "response.json()"
   ]
  },
  {
   "cell_type": "code",
   "execution_count": 43,
   "metadata": {},
   "outputs": [
    {
     "name": "stdout",
     "output_type": "stream",
     "text": [
      "{\"status\":true,\"data\":{\"point_dgtd\":14.18,\"point_tn\":23.21,\"target\":null,\"admission_form\":null,\"year\":2022}}\n"
     ]
    },
    {
     "name": "stderr",
     "output_type": "stream",
     "text": [
      "e:\\Scrapy_DA2\\venv\\Lib\\site-packages\\urllib3\\connectionpool.py:1099: InsecureRequestWarning: Unverified HTTPS request is being made to host 'ts.hust.edu.vn'. Adding certificate verification is strongly advised. See: https://urllib3.readthedocs.io/en/latest/advanced-usage.html#tls-warnings\n",
      "  warnings.warn(\n"
     ]
    }
   ],
   "source": [
    "import requests\n",
    "\n",
    "cookies = {\n",
    "    '_ga_TT1NML6EJM': 'GS1.1.1732677146.8.0.1732677277.0.0.0',\n",
    "    '_ga_QVKBY6H48C': 'GS1.1.1733122980.6.1.1733122987.0.0.0',\n",
    "    '_ga': 'GA1.1.1783986823.1725934267',\n",
    "    '_ga_JMQCRQZJCH': 'GS1.3.1733122980.5.1.1733122987.0.0.0',\n",
    "    '_ga_CWFTHLQHPT': 'GS1.1.1733217629.17.1.1733217670.0.0.0',\n",
    "    '_ga_3QT93G99KF': 'GS1.1.1733679119.18.0.1733679119.0.0.0',\n",
    "    'XSRF-TOKEN': 'eyJpdiI6ImEyalNTTTR2L1oya0xYQUtQMDhKM3c9PSIsInZhbHVlIjoiNnZ3QlBaWE9LUmQ5a0JzSWtoSjBxdzQvS3QrWFMzMW5aWk5kMkhGNzRmNjM5VjI1bU9EcXdJSEJ6V2FxbXNkajQ2a1dpMU9qTVdMMUcrUnMyMC9TRUVNUnhwc0FINGh6d3hkQjdIeXF0aUF5NnBYS0FRWDU3MXU4cXBlOWo5VXgiLCJtYWMiOiI5MzY1Yjg3ZTNiNGI1ODlkZWNkZmVhMDM4MDM5M2I1NDZkODZkOTdkNzg1ZGI3MzYxN2NlMzZkYzI0MmE5MzVmIiwidGFnIjoiIn0%3D',\n",
    "    'laravel_session': 'eyJpdiI6IlpkMFZuSVZZQW9XZy8zRDhNY3pubFE9PSIsInZhbHVlIjoiUUVXS2ZNYk1ocit4b2xBaUVWdjFFcFJKY2o2TkpqV3ZzRFpSVjdZcENYalZvVWlBNmc2aHhMY3hsWmlGcmJldGpRN1pNWk9XSWRHMC83VzhKZG9PQkp4Q1RwVjhDTlRnM0VaWlRlczBoY2JDYmNSbmF3R3p6UU9RNE93bSs3bWQiLCJtYWMiOiJkODU2MGMzNTE3NTQxMjFhZGEyNWNjYjVlMzdmNjRmNWNmZDdjYmJmYzQyYzdiZjgyZDZlYTExZTdhYzI2ZjlkIiwidGFnIjoiIn0%3D',\n",
    "    '_ga_33T6RC7PFB': 'GS1.1.1733678491.6.1.1733680505.0.0.0',\n",
    "}\n",
    "\n",
    "headers = {\n",
    "    'Accept': '*/*',\n",
    "    'Accept-Language': 'vi,en-US;q=0.9,en;q=0.8,fr-FR;q=0.7,fr;q=0.6',\n",
    "    'Connection': 'keep-alive',\n",
    "    'Content-Type': 'application/x-www-form-urlencoded; charset=UTF-8',\n",
    "    'Origin': 'https://ts.hust.edu.vn',\n",
    "    'Referer': 'https://ts.hust.edu.vn/en/program/mechatronic-nagaoka-university-japan',\n",
    "    'Sec-Fetch-Dest': 'empty',\n",
    "    'Sec-Fetch-Mode': 'cors',\n",
    "    'Sec-Fetch-Site': 'same-origin',\n",
    "    'User-Agent': 'Mozilla/5.0 (Windows NT 10.0; Win64; x64) AppleWebKit/537.36 (KHTML, like Gecko) Chrome/130.0.0.0 Safari/537.36',\n",
    "    'X-Requested-With': 'XMLHttpRequest',\n",
    "    'sec-ch-ua': '\"Chromium\";v=\"130\", \"Google Chrome\";v=\"130\", \"Not?A_Brand\";v=\"99\"',\n",
    "    'sec-ch-ua-mobile': '?0',\n",
    "    'sec-ch-ua-platform': '\"Windows\"',\n",
    "}\n",
    "\n",
    "data = {\n",
    "    '_token': 'rcDkWBGGHOUj0dX3E6BOG1dXnC9t917UOYbA5iab',\n",
    "    '_slug': 'mechatronic-nagaoka-university-japan',\n",
    "    '_year': '2022',\n",
    "}\n",
    "\n",
    "response = requests.post('https://ts.hust.edu.vn/en/training-point', cookies=cookies, headers=headers, data=data, verify=False)\n",
    "print(response.text)"
   ]
  },
  {
   "cell_type": "code",
   "execution_count": 6,
   "metadata": {},
   "outputs": [],
   "source": [
    "from selenium import webdriver\n",
    "from selenium.webdriver.chrome.options import Options\n",
    "\n",
    "options = Options()\n",
    "options.add_argument(\"--start-maximized\")  # Mở cửa sổ trình duyệt lớn\n",
    "options.add_argument(\"--disable-blink-features=AutomationControlled\")  # Để giả mạo trình duyệt không phải bot\n",
    "\n",
    "# Đổi user-agent\n",
    "options.add_argument(\"user-agent=Mozilla/5.0 (Windows NT 10.0; Win64; x64) AppleWebKit/537.36 (KHTML, like Gecko) Chrome/91.0.4472.124 Safari/537.36\")\n",
    "\n",
    "driver = webdriver.Chrome(options=options)\n",
    "driver.get('https://shopee.vn/Th%E1%BB%9Di-Trang-N%E1%BB%AF-cat.11035639')"
   ]
  }
 ],
 "metadata": {
  "kernelspec": {
   "display_name": "venv",
   "language": "python",
   "name": "python3"
  },
  "language_info": {
   "codemirror_mode": {
    "name": "ipython",
    "version": 3
   },
   "file_extension": ".py",
   "mimetype": "text/x-python",
   "name": "python",
   "nbconvert_exporter": "python",
   "pygments_lexer": "ipython3",
   "version": "3.12.7"
  }
 },
 "nbformat": 4,
 "nbformat_minor": 2
}
