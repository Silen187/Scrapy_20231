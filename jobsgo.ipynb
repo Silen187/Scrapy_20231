{
 "cells": [
  {
   "cell_type": "code",
   "execution_count": 1,
   "metadata": {},
   "outputs": [],
   "source": [
    "from bs4 import BeautifulSoup\n",
    "import requests\n",
    "# Parsing and creating xml data\n",
    "from lxml import etree as et\n",
    "\n",
    "# Store data as a csv file written out\n",
    "from csv import writer\n",
    "\n",
    "# In general to use with timing our function calls to Indeed\n",
    "import time\n",
    "\n",
    "# Assist with creating incremental timing for our scraping to seem more human\n",
    "from time import sleep\n",
    "\n",
    "# Dataframe stuff\n",
    "import pandas as pd\n",
    "\n",
    "# Random integer for more realistic timing for clicks, buttons and searches during scraping\n",
    "from random import randint\n",
    "\n",
    "# Multi Threading\n",
    "import threading\n",
    "\n",
    "# Threading:\n",
    "from concurrent.futures import ThreadPoolExecutor, wait\n",
    "import math\n",
    "import mysql.connector\n",
    "from datetime import date, timedelta\n",
    "import re"
   ]
  },
  {
   "cell_type": "code",
   "execution_count": 2,
   "metadata": {},
   "outputs": [
    {
     "data": {
      "text/plain": [
       "'4.15.2'"
      ]
     },
     "execution_count": 2,
     "metadata": {},
     "output_type": "execute_result"
    }
   ],
   "source": [
    "import selenium\n",
    "\n",
    "# Check version I am running\n",
    "selenium.__version__"
   ]
  },
  {
   "cell_type": "code",
   "execution_count": 3,
   "metadata": {},
   "outputs": [],
   "source": [
    "from selenium import webdriver\n",
    "\n",
    "# Starting/Stopping Driver: can specify ports or location but not remote access\n",
    "from selenium.webdriver.chrome.service import Service as ChromeService\n",
    "\n",
    "# Manages Binaries needed for WebDriver without installing anything directly\n",
    "from webdriver_manager.chrome import ChromeDriverManager"
   ]
  },
  {
   "cell_type": "code",
   "execution_count": 4,
   "metadata": {},
   "outputs": [],
   "source": [
    "# Allows searchs similar to beautiful soup: find_all\n",
    "from selenium.webdriver.common.by import By\n",
    "\n",
    "# Try to establish wait times for the page to load\n",
    "from selenium.webdriver.support.ui import WebDriverWait\n",
    "\n",
    "# Wait for specific condition based on defined task: web elements, boolean are examples\n",
    "from selenium.webdriver.support import expected_conditions as EC\n",
    "\n",
    "# Used for keyboard movements, up/down, left/right,delete, etc\n",
    "from selenium.webdriver.common.keys import Keys\n",
    "\n",
    "# Locate elements on page and throw error if they do not exist\n",
    "from selenium.common.exceptions import NoSuchElementException"
   ]
  },
  {
   "cell_type": "code",
   "execution_count": 5,
   "metadata": {},
   "outputs": [
    {
     "name": "stdout",
     "output_type": "stream",
     "text": [
      "{'upgrade-insecure-requests': '1', 'user-agent': 'Mozilla/5.0 (Windows NT 10.0; Win64; x64) AppleWebKit/537.36 (KHTML, like Gecko) Chrome/89.0.4389.90 Safari/537.36', 'accept': 'text/html,application/xhtml+xml,application/xml;q=0.9,image/webp,image/apng,*/*;q=0.8,application/signed-exchange;v=b3', 'sec-ch-ua': 'Google Chrome;v=\"89\", \"Chromium\";v=\"89\", \";Not A Brand\";v=\"99\"', 'sec-ch-ua-mobile': '?0', 'sec-ch-ua-platform': 'Windows', 'sec-fetch-site': 'none', 'sec-fetch-mod': '', 'sec-fetch-user': '?1', 'accept-encoding': 'gzip', 'accept-language': 'en-US'}\n"
     ]
    }
   ],
   "source": [
    "response = requests.get(\n",
    "  url='https://headers.scrapeops.io/v1/browser-headers',\n",
    "  params={\n",
    "      'api_key': 'cca4ced0-490d-41a0-b258-46f2ad7e74b3',\n",
    "      'num_results': '100'}\n",
    ")\n",
    "header_browser_list = response.json()\n",
    "print(header_browser_list['result'][0])"
   ]
  },
  {
   "cell_type": "code",
   "execution_count": 6,
   "metadata": {},
   "outputs": [
    {
     "name": "stdout",
     "output_type": "stream",
     "text": [
      "Mozilla/5.0 (Windows NT 6.1; Win64; x64; rv:88.0) Gecko/20100101 Firefox/88.0\n"
     ]
    }
   ],
   "source": [
    "response = requests.get(\n",
    "  url='https://headers.scrapeops.io/v1/user-agents',\n",
    "  params={\n",
    "      'api_key': 'cca4ced0-490d-41a0-b258-46f2ad7e74b3',\n",
    "      'num_results': '100'}\n",
    ")\n",
    "user_agent_list = response.json()\n",
    "print(user_agent_list['result'][0])"
   ]
  },
  {
   "cell_type": "code",
   "execution_count": 7,
   "metadata": {},
   "outputs": [],
   "source": [
    "random_index_user_agent = randint(0, len(user_agent_list)-1)\n",
    "random_index_header_browser = randint(0, len(header_browser_list)-1)\n",
    "user_agent_random = user_agent_list['result'][random_index_user_agent]\n",
    "header_browser_random = header_browser_list['result'][random_index_header_browser]"
   ]
  },
  {
   "cell_type": "code",
   "execution_count": 8,
   "metadata": {},
   "outputs": [],
   "source": [
    "# Allows you to cusotmize: ingonito mode, maximize window size, headless browser, disable certain features, etc\n",
    "option = webdriver.ChromeOptions()\n",
    "\n",
    "# Going undercover:\n",
    "option.add_argument(\"--incognito\")\n",
    "\n",
    "\n",
    "# # Consider this if the application works and you know how it works for speed ups and rendering!\n",
    "\n",
    "option.add_argument('--headless=chrome')\n",
    "user_agent = user_agent_random\n",
    "option.add_argument(f\"user-agent={user_agent}\")\n",
    "\n",
    "# Thêm header vào Options\n",
    "headers = header_browser_random\n",
    "\n",
    "for key, value in headers.items():\n",
    "    option.add_argument(f\"--header={key}:{value}\")"
   ]
  },
  {
   "cell_type": "code",
   "execution_count": 9,
   "metadata": {},
   "outputs": [
    {
     "name": "stdout",
     "output_type": "stream",
     "text": [
      "Max page:  20\n"
     ]
    }
   ],
   "source": [
    "driver = webdriver.Chrome(service=ChromeService(ChromeDriverManager().install()),options=option)\n",
    "\n",
    "driver.get(\"https://jobsgo.vn/viec-lam-cong-nghe-thong-tin.html\")\n",
    "\n",
    "job_count = driver.find_element(By.CSS_SELECTOR,'[class=\"sidebar-widget-title mrg-bot-15\"] h1').text\n",
    "so = re.search(r'\\b\\d+\\b', job_count).group()\n",
    "if int(so) % 50 == 0:\n",
    "    max_page = int(so) / 50\n",
    "else:\n",
    "    max_page = int(so) // 50 + 1\n",
    "print(\"Max page: \", max_page)\n",
    "driver.quit()"
   ]
  },
  {
   "cell_type": "code",
   "execution_count": 18,
   "metadata": {},
   "outputs": [],
   "source": [
    "conn = mysql.connector.connect(\n",
    "    host='103.56.158.31',\n",
    "    port = 3306,\n",
    "    user= 'tuyendungUser',\n",
    "    password='sinhvienBK',\n",
    "    database= 'ThongTinTuyenDung'\n",
    ")\n",
    "cursor = conn.cursor()"
   ]
  },
  {
   "cell_type": "code",
   "execution_count": 11,
   "metadata": {},
   "outputs": [],
   "source": [
    "sql = 'INSERT IGNORE INTO Stg_ThongTin(Web, Nganh, Link, TenCV, CongTy, TinhThanh, Luong, LoaiHinh, KinhNghiem, CapBac, HanNopCV, YeuCau, MoTa, PhucLoi, SoLuong) VALUES (%s, %s, %s, %s,%s,%s,%s, %s, %s, %s, %s, %s, %s, %s,%s)'"
   ]
  },
  {
   "cell_type": "code",
   "execution_count": 12,
   "metadata": {},
   "outputs": [],
   "source": [
    "sql_link = 'SELECT Link FROM Stg_ThongTin where Web =\\'Jobsgo\\''"
   ]
  },
  {
   "cell_type": "code",
   "execution_count": 13,
   "metadata": {},
   "outputs": [],
   "source": [
    "cursor.execute(sql_link)\n",
    "result = cursor.fetchall()\n",
    "remove_url_list = [row[0] for row in result]"
   ]
  },
  {
   "cell_type": "code",
   "execution_count": 14,
   "metadata": {},
   "outputs": [
    {
     "name": "stdout",
     "output_type": "stream",
     "text": [
      "Số lượng url cào về:  922 url\n",
      "Số lượng tin mới lấy được:  31\n"
     ]
    }
   ],
   "source": [
    "job_urls = []\n",
    "driver = webdriver.Chrome(service=ChromeService(ChromeDriverManager().install()),options=option)\n",
    "for page_number in range(1, int(max_page) +1):\n",
    "    driver.get(f\"https://jobsgo.vn/viec-lam-cong-nghe-thong-tin.html?&page={page_number}\")\n",
    "    sleep(randint(1, 3))\n",
    "    url_list = driver.find_elements(By.CSS_SELECTOR, \"div.item-click\")\n",
    "    for url in url_list:\n",
    "        t = url.find_element(By.CSS_SELECTOR, \"h3 a\").get_attribute(\"href\")\n",
    "        job_urls.append(t)\n",
    "driver.quit()\n",
    "print(\"Số lượng url cào về: \", len(job_urls), \"url\")\n",
    "for job_url in  remove_url_list:\n",
    "    if job_url in job_urls:\n",
    "        job_urls.remove(job_url)\n",
    "print(\"Số lượng tin mới lấy được: \", len(job_urls))"
   ]
  },
  {
   "cell_type": "code",
   "execution_count": 20,
   "metadata": {},
   "outputs": [
    {
     "name": "stdout",
     "output_type": "stream",
     "text": [
      "Đang xử lí... https://jobsgo.vn/viec-lam/technical-leader-16637248801.html\n",
      "Đang xử lí... https://jobsgo.vn/viec-lam/ky-su-lap-trinh-nhung-16631980149.html\n",
      "Đang xử lí... https://jobsgo.vn/viec-lam/thuc-tap-sinh-tu-van-thiet-ke-website-fulltime-co-luong-16636556272.html\n",
      "Đang xử lí... https://jobsgo.vn/viec-lam/nhan-vien-kinh-doanh-cntt-data-co-san-tong-thu-nhap-toi-30tr-16640317655.html\n",
      "Đang xử lí... https://jobsgo.vn/viec-lam/quality-assurance-engineer-qa-qc-tester-up-to-1300-16639828811.html\n",
      "Đang xử lí... https://jobsgo.vn/viec-lam/xamarin-junior-developer-16636379745.html\n",
      "Đang xử lí... https://jobsgo.vn/viec-lam/online-au-avago-co-ltd-tuyen-dung-vi-tri-technology-internship-part-time-full-time-16632903521.html\n",
      "Đang xử lí... https://jobsgo.vn/viec-lam/project-manager-16628096555.html\n",
      "Đang xử lí... https://jobsgo.vn/viec-lam/senior-unity-developer-16628082976.html\n",
      "Đang xử lí... https://jobsgo.vn/viec-lam/lap-trinh-vien-php-development-16627485500.html\n",
      "Đang xử lí... https://jobsgo.vn/viec-lam/nhan-vien-it-van-phong-16622542744.html\n",
      "Đang xử lí... https://jobsgo.vn/viec-lam/marketing-executive-16621755162.html\n",
      "Đang xử lí... https://jobsgo.vn/viec-lam/senior-mobile-developer-android-ios-flutter-16619568943.html\n",
      "Đang xử lí... https://jobsgo.vn/viec-lam/devops-engineer-16619582522.html\n",
      "Đang xử lí... https://jobsgo.vn/viec-lam/nhan-vien-it--it-helpdesk-16662560057.html\n",
      "Đang xử lí... https://jobsgo.vn/viec-lam/tester-nhan-vien-kiem-thu-16662234161.html\n",
      "Đang xử lí... https://jobsgo.vn/viec-lam/senior-net-developer-japanese-n3-16661935423.html\n",
      "Đang xử lí... https://jobsgo.vn/viec-lam/project-manager-tieng-nhat-n2-16661949002.html\n",
      "Đang xử lí... https://jobsgo.vn/viec-lam/it-communicator-16661962581.html\n",
      "Đang xử lí... https://jobsgo.vn/viec-lam/process-quality-assurance-manager-pqa-16661677422.html\n",
      "Đang xử lí... https://jobsgo.vn/viec-lam/chuyen-vien-trien-khai-dich-vu-pm-16661555211.html\n",
      "Đang xử lí... https://jobsgo.vn/viec-lam/scrum-master-hybrid-3k-16661242894.html\n",
      "Đang xử lí... https://jobsgo.vn/viec-lam/software-developer-16661147841.html\n",
      "Đang xử lí... https://jobsgo.vn/viec-lam/senior-quality-engineer-test-automation-qa-qc-16658662884.html\n",
      "Đang xử lí... https://jobsgo.vn/viec-lam/sr-backend-engineer-python-go-java-sign-on-bonus-16656232243.html\n",
      "Đang xử lí... https://jobsgo.vn/viec-lam/application-support-engineer-m-f-d-16656245822.html\n",
      "Đang xử lí... https://jobsgo.vn/viec-lam/lap-trinh-vien-16653923813.html\n",
      "Đang xử lí... https://jobsgo.vn/viec-lam/nhan-vien-quan-tri-he-thong-16653747286.html\n",
      "Đang xử lí... https://jobsgo.vn/viec-lam/ky-thuat-vien-qc-16653530022.html\n",
      "Đang xử lí... https://jobsgo.vn/viec-lam/backend-team-lead-java-16653394232.html\n",
      "Đang xử lí... https://jobsgo.vn/viec-lam/it-officer-16427792726.html\n"
     ]
    }
   ],
   "source": [
    "driver = webdriver.Chrome(service=ChromeService(ChromeDriverManager().install()),options=option)\n",
    "if len(job_urls) > 0:\n",
    "    for i in range(len(job_urls)):\n",
    "        link = job_urls[i]\n",
    "        driver.get(link)\n",
    "        print(\"Đang xử lí...\", link)\n",
    "        Web = 'Jobsgo'\n",
    "        Nganh = 'IT'\n",
    "        Link = link\n",
    "        TenCV = driver.find_element(By.CSS_SELECTOR, \"div.media-body-2 h1\").text\n",
    "        CongTy = driver.find_elements(By.CSS_SELECTOR, 'div[class=\"panel-body\"]')[1].find_element(By.CSS_SELECTOR, 'div.media div.media-body h2 a').get_attribute('text')\n",
    "        TinhThanh = driver.find_element(By.CSS_SELECTOR, 'div[class=\"data giaphv\"]').text\n",
    "        Luong = driver.find_element(By.CSS_SELECTOR, '[class=\"saraly text-bold text-green\"]').text\n",
    "        for i in range(len(driver.find_elements(By.CSS_SELECTOR, 'div[class=\"col-sm-4 col-xs-6\"]'))):\n",
    "            if 'Tính chất công việc' in driver.find_elements(By.CSS_SELECTOR, 'div[class=\"col-sm-4 col-xs-6\"]')[i].text:\n",
    "                LoaiHinh = driver.find_elements(By.CSS_SELECTOR, 'div[class=\"col-sm-4 col-xs-6\"]')[i].text.replace(\"Tính chất công việc\", \"\")\n",
    "            if \"Yêu cầu kinh nghiệm\" in driver.find_elements(By.CSS_SELECTOR, 'div[class=\"col-sm-4 col-xs-6\"]')[i].text:\n",
    "                KinhNghiem = driver.find_elements(By.CSS_SELECTOR, 'div[class=\"col-sm-4 col-xs-6\"]')[i].text.replace(\"Yêu cầu kinh nghiệm\", \"\")\n",
    "            if \"Vị trí/chức vụ\" in driver.find_elements(By.CSS_SELECTOR, 'div[class=\"col-sm-4 col-xs-6\"]')[i].text:\n",
    "                CapBac = driver.find_elements(By.CSS_SELECTOR, 'div[class=\"col-sm-4 col-xs-6\"]')[i].text.replace(\"Vị trí/chức vụ\", \"\")\n",
    "        try:        \n",
    "            deadline = driver.find_element(By.CSS_SELECTOR, '[class=\"deadline text-bold text-orange\"]').text\n",
    "        except:\n",
    "            continue\n",
    "        HanNopCV = date.today() + timedelta(days = int(deadline))\n",
    "        for i in range(len(driver.find_elements(By.CSS_SELECTOR, 'div[class=\"content-group\"]'))):\n",
    "            if 'Yêu cầu công việc' in driver.find_elements(By.CSS_SELECTOR, 'div[class=\"content-group\"]')[i].text:\n",
    "                YeuCau = driver.find_elements(By.CSS_SELECTOR, 'div[class=\"content-group\"]')[i].text\n",
    "            if 'Mô tả công việc' in driver.find_elements(By.CSS_SELECTOR, 'div[class=\"content-group\"]')[i].text:\n",
    "                MoTa = driver.find_elements(By.CSS_SELECTOR, 'div[class=\"content-group\"]')[i].text\n",
    "            if 'Quyền lợi được hưởng' in driver.find_elements(By.CSS_SELECTOR, 'div[class=\"content-group\"]')[i].text:\n",
    "                PhucLoi = driver.find_elements(By.CSS_SELECTOR, 'div[class=\"content-group\"]')[i].text\n",
    "        SoLuong = '1'\n",
    "        if YeuCau is None:\n",
    "            YeuCau = \"\"\n",
    "        if MoTa is None:\n",
    "            MoTa = \"\"\n",
    "        if PhucLoi is None:\n",
    "            PhucLoi = \"\"\n",
    "        cursor.execute(sql, (Web, Nganh, Link, TenCV, CongTy, TinhThanh, Luong, LoaiHinh, KinhNghiem, CapBac, HanNopCV, YeuCau, MoTa, PhucLoi, SoLuong))\n",
    "        conn.commit()\n",
    "else:\n",
    "    print(\"Không có tin mới để thêm.\")\n",
    "driver.quit()\n",
    "cursor.close()\n",
    "conn.close()"
   ]
  }
 ],
 "metadata": {
  "kernelspec": {
   "display_name": "Python 3",
   "language": "python",
   "name": "python3"
  },
  "language_info": {
   "codemirror_mode": {
    "name": "ipython",
    "version": 3
   },
   "file_extension": ".py",
   "mimetype": "text/x-python",
   "name": "python",
   "nbconvert_exporter": "python",
   "pygments_lexer": "ipython3",
   "version": "3.11.7"
  }
 },
 "nbformat": 4,
 "nbformat_minor": 2
}
