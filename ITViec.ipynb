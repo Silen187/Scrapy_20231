{
 "cells": [
  {
   "cell_type": "code",
   "execution_count": 1,
   "metadata": {},
   "outputs": [],
   "source": [
    "from bs4 import BeautifulSoup\n",
    "import requests\n",
    "# Parsing and creating xml data\n",
    "from lxml import etree as et\n",
    "\n",
    "# Store data as a csv file written out\n",
    "from csv import writer\n",
    "\n",
    "# In general to use with timing our function calls to Indeed\n",
    "import time\n",
    "\n",
    "# Assist with creating incremental timing for our scraping to seem more human\n",
    "from time import sleep\n",
    "\n",
    "# Dataframe stuff\n",
    "import pandas as pd\n",
    "\n",
    "# Random integer for more realistic timing for clicks, buttons and searches during scraping\n",
    "from random import randint\n",
    "\n",
    "# Multi Threading\n",
    "import threading\n",
    "\n",
    "# Threading:\n",
    "from concurrent.futures import ThreadPoolExecutor, wait\n",
    "import math\n",
    "import mysql.connector\n",
    "from datetime import date"
   ]
  },
  {
   "cell_type": "code",
   "execution_count": 2,
   "metadata": {},
   "outputs": [
    {
     "data": {
      "text/plain": [
       "'4.15.2'"
      ]
     },
     "execution_count": 2,
     "metadata": {},
     "output_type": "execute_result"
    }
   ],
   "source": [
    "import selenium\n",
    "\n",
    "# Check version I am running\n",
    "selenium.__version__"
   ]
  },
  {
   "cell_type": "code",
   "execution_count": 3,
   "metadata": {},
   "outputs": [],
   "source": [
    "from selenium import webdriver\n",
    "\n",
    "# Starting/Stopping Driver: can specify ports or location but not remote access\n",
    "from selenium.webdriver.chrome.service import Service as ChromeService\n",
    "\n",
    "# Manages Binaries needed for WebDriver without installing anything directly\n",
    "from webdriver_manager.chrome import ChromeDriverManager"
   ]
  },
  {
   "cell_type": "code",
   "execution_count": 4,
   "metadata": {},
   "outputs": [],
   "source": [
    "# Allows searchs similar to beautiful soup: find_all\n",
    "from selenium.webdriver.common.by import By\n",
    "\n",
    "# Try to establish wait times for the page to load\n",
    "from selenium.webdriver.support.ui import WebDriverWait\n",
    "\n",
    "# Wait for specific condition based on defined task: web elements, boolean are examples\n",
    "from selenium.webdriver.support import expected_conditions as EC\n",
    "\n",
    "# Used for keyboard movements, up/down, left/right,delete, etc\n",
    "from selenium.webdriver.common.keys import Keys\n",
    "\n",
    "# Locate elements on page and throw error if they do not exist\n",
    "from selenium.common.exceptions import NoSuchElementException"
   ]
  },
  {
   "cell_type": "code",
   "execution_count": 5,
   "metadata": {},
   "outputs": [
    {
     "name": "stdout",
     "output_type": "stream",
     "text": [
      "{'upgrade-insecure-requests': '1', 'user-agent': 'Mozilla/5.0 (Windows NT 10.0; Win64; x64) AppleWebKit/537.36 (KHTML, like Gecko) Chrome/89.0.4389.114 Safari/537.36 Edg/89.0.774.76', 'accept': 'text/html,application/xhtml+xml,application/xml;q=0.9,image/webp,image/apng,*/*;q=0.8,application/signed-exchange;v=b3', 'sec-ch-ua': 'Microsoft Edge;v=\"89\", \"Chromium\";v=\"89\", \";Not A Brand\";v=\"99\"', 'sec-ch-ua-mobile': '?0', 'sec-ch-ua-platform': 'Windows', 'sec-fetch-site': 'none', 'sec-fetch-mod': '', 'sec-fetch-user': '?1', 'accept-encoding': 'gzip', 'accept-language': 'en-US,es;q=0.6'}\n"
     ]
    }
   ],
   "source": [
    "response = requests.get(\n",
    "  url='https://headers.scrapeops.io/v1/browser-headers',\n",
    "  params={\n",
    "      'api_key': 'cca4ced0-490d-41a0-b258-46f2ad7e74b3',\n",
    "      'num_results': '100'}\n",
    ")\n",
    "header_browser_list = response.json()\n",
    "print(header_browser_list['result'][0])"
   ]
  },
  {
   "cell_type": "code",
   "execution_count": 6,
   "metadata": {},
   "outputs": [
    {
     "name": "stdout",
     "output_type": "stream",
     "text": [
      "Mozilla/5.0 (Windows NT 6.1; Win64; x64) AppleWebKit/537.36 (KHTML, like Gecko) Chrome/89.0.4389.90 Safari/537.36\n"
     ]
    }
   ],
   "source": [
    "response = requests.get(\n",
    "  url='https://headers.scrapeops.io/v1/user-agents',\n",
    "  params={\n",
    "      'api_key': 'cca4ced0-490d-41a0-b258-46f2ad7e74b3',\n",
    "      'num_results': '100'}\n",
    ")\n",
    "user_agent_list = response.json()\n",
    "print(user_agent_list['result'][0])"
   ]
  },
  {
   "cell_type": "code",
   "execution_count": 7,
   "metadata": {},
   "outputs": [],
   "source": [
    "random_index_user_agent = randint(0, len(user_agent_list)-1)\n",
    "random_index_header_browser = randint(0, len(header_browser_list)-1)\n",
    "user_agent_random = user_agent_list['result'][random_index_user_agent]\n",
    "header_browser_random = header_browser_list['result'][random_index_header_browser]"
   ]
  },
  {
   "cell_type": "code",
   "execution_count": 8,
   "metadata": {},
   "outputs": [],
   "source": [
    "# Allows you to cusotmize: ingonito mode, maximize window size, headless browser, disable certain features, etc\n",
    "option = webdriver.ChromeOptions()\n",
    "\n",
    "# Going undercover:\n",
    "option.add_argument(\"--incognito\")\n",
    "\n",
    "\n",
    "# # Consider this if the application works and you know how it works for speed ups and rendering!\n",
    "\n",
    "option.add_argument('--headless=chrome')\n",
    "user_agent = user_agent_random\n",
    "option.add_argument(f\"user-agent={user_agent}\")\n",
    "\n",
    "# Thêm header vào Options\n",
    "headers = header_browser_random\n",
    "\n",
    "for key, value in headers.items():\n",
    "    option.add_argument(f\"--header={key}:{value}\")"
   ]
  },
  {
   "cell_type": "code",
   "execution_count": 9,
   "metadata": {},
   "outputs": [
    {
     "name": "stdout",
     "output_type": "stream",
     "text": [
      "32\n"
     ]
    }
   ],
   "source": [
    "driver = webdriver.Chrome(service=ChromeService(ChromeDriverManager().install()),options=option)\n",
    "\n",
    "driver.get(\"https://itviec.com/it-jobs?\")\n",
    "\n",
    "job_count = driver.find_element(By.CLASS_NAME,'headline-total-jobs').text\n",
    "number_of_jobs = job_count.split()[0]\n",
    "if (int(number_of_jobs) % 20 == 0):\n",
    "    max_page  = int(number_of_jobs) / 20 \n",
    "else:\n",
    "    max_page = math.floor(int(number_of_jobs) / 20) + 1\n",
    "print(max_page)\n",
    "driver.quit()\n",
    "job_urls = [] #Mảng lưu trữ tất cả url lấy được từ web"
   ]
  },
  {
   "cell_type": "code",
   "execution_count": 10,
   "metadata": {},
   "outputs": [],
   "source": [
    "page_url =\"https://itviec.com/it-jobs?page={}\"\n",
    "for page_number in range(1, int(max_page + 1)):\n",
    "# for page_number in range(1, 3):\n",
    "    random_index_user_agent = randint(0, len(user_agent_list)-1)\n",
    "    random_index_header_browser = randint(0, len(header_browser_list)-1)\n",
    "    user_agent_random = user_agent_list['result'][random_index_user_agent]\n",
    "    header_browser_random = header_browser_list['result'][random_index_header_browser]\n",
    "    user_agent = user_agent_random\n",
    "\n",
    "    option.add_argument(f\"user-agent={user_agent}\")\n",
    "\n",
    "    # Thêm header vào Options\n",
    "    headers = header_browser_random\n",
    "\n",
    "    for key, value in headers.items():\n",
    "        option.add_argument(f\"--header={key}:{value}\")\n",
    "        \n",
    "    driver = webdriver.Chrome(service=ChromeService(ChromeDriverManager().install()),options=option)\n",
    "    driver.get(page_url.format(page_number))\n",
    "    sleep(randint(3, 5))\n",
    "    jobs = driver.find_elements(By.CLASS_NAME,\"job-card\")\n",
    "    for job in jobs:\n",
    "        job_url = job.find_element(By.CSS_SELECTOR,'a').get_attribute(\"href\")\n",
    "        job_urls.append(job_url)\n",
    "    # sleep(randint(6, 10))\n",
    "    driver.quit()"
   ]
  },
  {
   "cell_type": "code",
   "execution_count": 11,
   "metadata": {},
   "outputs": [],
   "source": [
    "conn = mysql.connector.connect(\n",
    "    host='103.56.158.31',\n",
    "    port = 3306,\n",
    "    user= 'tuyendungUser',\n",
    "    password='sinhvienBK',\n",
    "    database= 'ThongTinTuyenDung'\n",
    ")\n",
    "cursor = conn.cursor()"
   ]
  },
  {
   "cell_type": "code",
   "execution_count": 12,
   "metadata": {},
   "outputs": [],
   "source": [
    "sql = 'INSERT IGNORE INTO Stg_ThongTin_raw(Web, Nganh, Link, TenCV, CongTy, TinhThanh, Luong, LoaiHinh, KinhNghiem, CapBac, HanNopCV, YeuCau, MoTa, PhucLoi, SoLuong) VALUES (%s, %s, %s, %s,%s,%s,%s, %s, %s, %s, %s, %s, %s, %s,%s)'"
   ]
  },
  {
   "cell_type": "code",
   "execution_count": 13,
   "metadata": {},
   "outputs": [],
   "source": [
    "sql_link = 'SELECT Link FROM Stg_ThongTin_raw where Web =\\'ITViec\\''"
   ]
  },
  {
   "cell_type": "code",
   "execution_count": 14,
   "metadata": {},
   "outputs": [
    {
     "name": "stdout",
     "output_type": "stream",
     "text": [
      "Số url cào về:  625\n",
      "Đã lấy link thành công\n",
      "Số lượng link mới sau xử lí lấy được:  29\n"
     ]
    }
   ],
   "source": [
    "cursor.execute(sql_link)\n",
    "result = cursor.fetchall()\n",
    "remove_url_list = [row[0] for row in result]\n",
    "print(\"Số url cào về: \", len(job_urls))\n",
    "for job_url in remove_url_list:\n",
    "    if job_url in job_urls:\n",
    "        job_urls.remove(job_url)\n",
    "print(\"Đã lấy link thành công\")\n",
    "print(\"Số lượng link mới sau xử lí lấy được: \", len(job_urls))"
   ]
  },
  {
   "cell_type": "code",
   "execution_count": 15,
   "metadata": {},
   "outputs": [
    {
     "name": "stdout",
     "output_type": "stream",
     "text": [
      "Đang xử lí.... https://itviec.com/it-jobs/senior-php-engineer-cw-positive-thinking-company-b-o-t-4206?lab_feature=preview_jd_page\n",
      "Đang xử lí.... https://itviec.com/it-jobs/senior-embedded-software-engineer-bosch-global-software-technologies-company-limited-0140?lab_feature=preview_jd_page\n",
      "Đang xử lí.... https://itviec.com/it-jobs/automotive-embedded-software-architect-bosch-global-software-technologies-company-limited-5923?lab_feature=preview_jd_page\n",
      "Đang xử lí.... https://itviec.com/it-jobs/senior-project-manager-embedded-software-bosch-global-software-technologies-company-limited-5544?lab_feature=preview_jd_page\n",
      "Đang xử lí.... https://itviec.com/it-jobs/engineering-manager-nab-innovation-centre-vietnam-5146?lab_feature=preview_jd_page\n",
      "Đang xử lí.... https://itviec.com/it-jobs/senior-data-analyst-one-mount-group-4534?lab_feature=preview_jd_page\n",
      "Đang xử lí.... https://itviec.com/it-jobs/vcs-backend-developer-java-golang-python-viettel-group-4126?lab_feature=preview_jd_page\n",
      "Đang xử lí.... https://itviec.com/it-jobs/manual-test-specialist-qa-qc-english-netcompany-1011?lab_feature=preview_jd_page\n",
      "Đang xử lí.... https://itviec.com/it-jobs/senior-product-owner-product-manager-got-it-0435?lab_feature=preview_jd_page\n",
      "Đang xử lí.... https://itviec.com/it-jobs/product-software-business-analyst-agile-bitech-3717?lab_feature=preview_jd_page\n",
      "Đang xử lí.... https://itviec.com/it-jobs/solution-architect-rakkar-digital-vietnam-co-ltd-3306?lab_feature=preview_jd_page\n",
      "Đang xử lí.... https://itviec.com/it-jobs/senior-cloud-engineer-aws-azure-nab-innovation-centre-vietnam-1429?lab_feature=preview_jd_page\n",
      "Đang xử lí.... https://itviec.com/it-jobs/devops-engineer-aws-imip-technology-and-solution-consultancy-5431?lab_feature=preview_jd_page\n",
      "Đang xử lí.... https://itviec.com/it-jobs/senior-ui-ux-designer-spiraledge-3733?lab_feature=preview_jd_page\n",
      "Đang xử lí.... https://itviec.com/it-jobs/senior-automation-qc-engineer-java-selenium-restaff-house-of-norway-5446?lab_feature=preview_jd_page\n",
      "Đang xử lí.... https://itviec.com/it-jobs/sr-automation-test-engineer-mobile-qa-qc-tester-kms-solutions-0203?lab_feature=preview_jd_page\n",
      "Đang xử lí.... https://itviec.com/it-jobs/it-support-english-middle-senior-kbtg-vietnam-4913?lab_feature=preview_jd_page\n",
      "Đang xử lí.... https://itviec.com/it-jobs/flutter-engineer-aws-android-ios-tt-tech-4952?lab_feature=preview_jd_page\n",
      "Đang xử lí.... https://itviec.com/it-jobs/devops-engineer-network-cloud-skylab-1256?lab_feature=preview_jd_page\n",
      "Đang xử lí.... https://itviec.com/it-jobs/unity-game-engineer-aws-team-leader-tt-tech-5821?lab_feature=preview_jd_page\n",
      "Đang xử lí.... https://itviec.com/it-jobs/automation-test-engineer-python-lg-electronics-development-vietnam-lgedv-0830?lab_feature=preview_jd_page\n",
      "Đang xử lí.... https://itviec.com/it-jobs/web-engine-engineer-c-c-chromium-web-browser-lg-electronics-development-vietnam-lgedv-4205?lab_feature=preview_jd_page\n",
      "Đang xử lí.... https://itviec.com/it-jobs/junior-frontend-developer-reactjs-nextjs-javascript-devdirect-ltd-3434?lab_feature=preview_jd_page\n",
      "Đang xử lí.... https://itviec.com/it-jobs/mid-frontend-dev-html5-css3-javascript-solis-lab-3106?lab_feature=preview_jd_page\n",
      "Đang xử lí.... https://itviec.com/it-jobs/backend-developer-python-database-java-rapiddweller-gmbh-0800?lab_feature=preview_jd_page\n",
      "Đang xử lí.... https://itviec.com/it-jobs/manual-tester-qa-qc-sql-got-it-0454?lab_feature=preview_jd_page\n",
      "Đang xử lí.... https://itviec.com/it-jobs/c-qt-developer-for-ide-development-revolution-engineering-vietnam-3424?lab_feature=preview_jd_page\n",
      "Đang xử lí.... https://itviec.com/it-jobs/drupal-developer-athena-1302?lab_feature=preview_jd_page\n",
      "Đang xử lí.... https://itviec.com/it-jobs/front-end-developer-reactjs-html5-javascript-idealogic-4017?lab_feature=preview_jd_page\n",
      "Đã thêm tin thành công\n"
     ]
    }
   ],
   "source": [
    "if len(job_urls) > 0:\n",
    "    for i in range(len(job_urls)):\n",
    "        driver = webdriver.Chrome(service=ChromeService(ChromeDriverManager().install()),options=option)\n",
    "        driver.get(job_urls[i])\n",
    "        print(\"Đang xử lí....\", job_urls[i])\n",
    "        sleep(randint(1, 3))\n",
    "        Web = 'ITViec'\n",
    "        Nganh = 'IT'\n",
    "        Link = job_urls[i]\n",
    "        TenCV = driver.find_element(By.CLASS_NAME, 'ipt-md-6').text\n",
    "        CongTy = driver.find_element(By.CLASS_NAME, 'employer-name').text\n",
    "        TinhThanh = driver.find_elements(By.CSS_SELECTOR, '[class=\"normal-text text-rich-grey\"]')[0].text\n",
    "        Luong = 'Không có'\n",
    "        LoaiHinh = driver.find_element(By.CSS_SELECTOR, '[class=\"normal-text text-rich-grey ms-1\"]').text\n",
    "        KinhNghiem = \"Không có\"\n",
    "        CapBac = 'Không có'\n",
    "        HanNopCV = date.today()\n",
    "        try:\n",
    "            YeuCau = driver.find_elements(By.CLASS_NAME, 'imy-5')[1].text\n",
    "        except:\n",
    "            YeuCau = \"\"\n",
    "        try:\n",
    "            MoTa = driver.find_elements(By.CLASS_NAME, 'imy-5')[0].text\n",
    "        except:\n",
    "            MoTa = \"\"\n",
    "        try:\n",
    "            PhucLoi = driver.find_elements(By.CLASS_NAME, 'imy-5')[2].text\n",
    "        except:\n",
    "            PhucLoi = \"\"\n",
    "        SoLuong = '1'\n",
    "        cursor.execute(sql, (Web, Nganh, Link, TenCV, CongTy, TinhThanh, Luong, LoaiHinh, KinhNghiem, CapBac, HanNopCV, YeuCau, MoTa, PhucLoi, SoLuong))\n",
    "        conn.commit()\n",
    "        driver.quit()\n",
    "    cursor.close()\n",
    "    \n",
    "    \n",
    "    \n",
    "    \n",
    "    \n",
    "    conn.close()\n",
    "    print(\"Đã thêm tin thành công\")\n",
    "else:\n",
    "    print(\"Không có tin mới để thêm\")"
   ]
  }
 ],
 "metadata": {
  "kernelspec": {
   "display_name": "Python 3",
   "language": "python",
   "name": "python3"
  },
  "language_info": {
   "codemirror_mode": {
    "name": "ipython",
    "version": 3
   },
   "file_extension": ".py",
   "mimetype": "text/x-python",
   "name": "python",
   "nbconvert_exporter": "python",
   "pygments_lexer": "ipython3",
   "version": "3.11.7"
  }
 },
 "nbformat": 4,
 "nbformat_minor": 2
}
