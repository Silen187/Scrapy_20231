{
 "cells": [
  {
   "cell_type": "code",
   "execution_count": 1,
   "metadata": {},
   "outputs": [],
   "source": [
    "from bs4 import BeautifulSoup\n",
    "import requests\n",
    "# Parsing and creating xml data\n",
    "from lxml import etree as et\n",
    "\n",
    "# Store data as a csv file written out\n",
    "from csv import writer\n",
    "\n",
    "# In general to use with timing our function calls to Indeed\n",
    "import time\n",
    "\n",
    "# Assist with creating incremental timing for our scraping to seem more human\n",
    "from time import sleep\n",
    "\n",
    "# Dataframe stuff\n",
    "import pandas as pd\n",
    "\n",
    "# Random integer for more realistic timing for clicks, buttons and searches during scraping\n",
    "from random import randint\n",
    "\n",
    "# Multi Threading\n",
    "import threading\n",
    "\n",
    "# Threading:\n",
    "from concurrent.futures import ThreadPoolExecutor, wait\n",
    "import math\n",
    "import mysql.connector\n",
    "from datetime import date"
   ]
  },
  {
   "cell_type": "code",
   "execution_count": 2,
   "metadata": {},
   "outputs": [
    {
     "data": {
      "text/plain": [
       "'4.15.2'"
      ]
     },
     "execution_count": 2,
     "metadata": {},
     "output_type": "execute_result"
    }
   ],
   "source": [
    "import selenium\n",
    "\n",
    "# Check version I am running\n",
    "selenium.__version__"
   ]
  },
  {
   "cell_type": "code",
   "execution_count": 3,
   "metadata": {},
   "outputs": [],
   "source": [
    "from selenium import webdriver\n",
    "\n",
    "# Starting/Stopping Driver: can specify ports or location but not remote access\n",
    "from selenium.webdriver.chrome.service import Service as ChromeService\n",
    "\n",
    "# Manages Binaries needed for WebDriver without installing anything directly\n",
    "from webdriver_manager.chrome import ChromeDriverManager"
   ]
  },
  {
   "cell_type": "code",
   "execution_count": 4,
   "metadata": {},
   "outputs": [],
   "source": [
    "# Allows searchs similar to beautiful soup: find_all\n",
    "from selenium.webdriver.common.by import By\n",
    "\n",
    "# Try to establish wait times for the page to load\n",
    "from selenium.webdriver.support.ui import WebDriverWait\n",
    "\n",
    "# Wait for specific condition based on defined task: web elements, boolean are examples\n",
    "from selenium.webdriver.support import expected_conditions as EC\n",
    "\n",
    "# Used for keyboard movements, up/down, left/right,delete, etc\n",
    "from selenium.webdriver.common.keys import Keys\n",
    "\n",
    "# Locate elements on page and throw error if they do not exist\n",
    "from selenium.common.exceptions import NoSuchElementException"
   ]
  },
  {
   "cell_type": "code",
   "execution_count": 5,
   "metadata": {},
   "outputs": [
    {
     "name": "stdout",
     "output_type": "stream",
     "text": [
      "{'upgrade-insecure-requests': '1', 'user-agent': 'Mozilla/5.0 (Windows NT 10.0; WOW64) AppleWebKit/537.36 (KHTML, like Gecko) Chrome/84.0.4147.125 Safari/537.36', 'accept': 'text/html,application/xhtml+xml,application/xml;q=0.9,*/*;q=0.8', 'sec-ch-ua': 'Google Chrome;v=\"84\", \"Chromium\";v=\"84\", \";Not A Brand\";v=\"99\"', 'sec-ch-ua-mobile': '?0', 'sec-ch-ua-platform': 'Windows', 'sec-fetch-site': 'none', 'sec-fetch-mod': '', 'sec-fetch-user': '?1', 'accept-encoding': 'gzip, deflate', 'accept-language': 'en-US,en;q=0.9,it;q=0.5'}\n"
     ]
    }
   ],
   "source": [
    "response = requests.get(\n",
    "  url='https://headers.scrapeops.io/v1/browser-headers',\n",
    "  params={\n",
    "      'api_key': 'cca4ced0-490d-41a0-b258-46f2ad7e74b3',\n",
    "      'num_results': '100'}\n",
    ")\n",
    "header_browser_list = response.json()\n",
    "print(header_browser_list['result'][0])"
   ]
  },
  {
   "cell_type": "code",
   "execution_count": 6,
   "metadata": {},
   "outputs": [
    {
     "name": "stdout",
     "output_type": "stream",
     "text": [
      "Mozilla/5.0 (Macintosh; Intel Mac OS X 10_13_6) AppleWebKit/537.36 (KHTML, like Gecko) Chrome/83.0.4103.116 Safari/537.36\n"
     ]
    }
   ],
   "source": [
    "response = requests.get(\n",
    "  url='https://headers.scrapeops.io/v1/user-agents',\n",
    "  params={\n",
    "      'api_key': 'cca4ced0-490d-41a0-b258-46f2ad7e74b3',\n",
    "      'num_results': '100'}\n",
    ")\n",
    "user_agent_list = response.json()\n",
    "print(user_agent_list['result'][0])"
   ]
  },
  {
   "cell_type": "code",
   "execution_count": 7,
   "metadata": {},
   "outputs": [],
   "source": [
    "random_index_user_agent = randint(0, len(user_agent_list)-1)\n",
    "random_index_header_browser = randint(0, len(header_browser_list)-1)\n",
    "user_agent_random = user_agent_list['result'][random_index_user_agent]\n",
    "header_browser_random = header_browser_list['result'][random_index_header_browser]"
   ]
  },
  {
   "cell_type": "code",
   "execution_count": 8,
   "metadata": {},
   "outputs": [],
   "source": [
    "# Allows you to cusotmize: ingonito mode, maximize window size, headless browser, disable certain features, etc\n",
    "option = webdriver.ChromeOptions()\n",
    "\n",
    "# Going undercover:\n",
    "option.add_argument(\"--incognito\")\n",
    "\n",
    "\n",
    "# # Consider this if the application works and you know how it works for speed ups and rendering!\n",
    "\n",
    "option.add_argument('--headless=chrome')\n",
    "user_agent = user_agent_random\n",
    "option.add_argument(f\"user-agent={user_agent}\")\n",
    "\n",
    "# Thêm header vào Options\n",
    "headers = header_browser_random\n",
    "\n",
    "for key, value in headers.items():\n",
    "    option.add_argument(f\"--header={key}:{value}\")"
   ]
  },
  {
   "cell_type": "code",
   "execution_count": 9,
   "metadata": {},
   "outputs": [
    {
     "name": "stdout",
     "output_type": "stream",
     "text": [
      "34\n"
     ]
    }
   ],
   "source": [
    "driver = webdriver.Chrome(service=ChromeService(ChromeDriverManager().install()),options=option)\n",
    "\n",
    "driver.get(\"https://itviec.com/it-jobs?\")\n",
    "\n",
    "job_count = driver.find_element(By.CLASS_NAME,'headline-total-jobs').text\n",
    "number_of_jobs = job_count.split()[0]\n",
    "if (int(number_of_jobs) % 20 == 0):\n",
    "    max_page  = int(number_of_jobs) / 20 \n",
    "else:\n",
    "    max_page = math.floor(int(number_of_jobs) / 20) + 1\n",
    "print(max_page)\n",
    "driver.quit()\n",
    "job_urls = []"
   ]
  },
  {
   "cell_type": "code",
   "execution_count": 10,
   "metadata": {},
   "outputs": [],
   "source": [
    "page_url =\"https://itviec.com/it-jobs?page={}\"\n",
    "# for page_number in range(1, int(max_page + 1)):\n",
    "for page_number in range(1, 3):\n",
    "    random_index_user_agent = randint(0, len(user_agent_list)-1)\n",
    "    random_index_header_browser = randint(0, len(header_browser_list)-1)\n",
    "    user_agent_random = user_agent_list['result'][random_index_user_agent]\n",
    "    header_browser_random = header_browser_list['result'][random_index_header_browser]\n",
    "    user_agent = user_agent_random\n",
    "\n",
    "    option.add_argument(f\"user-agent={user_agent}\")\n",
    "\n",
    "    # Thêm header vào Options\n",
    "    headers = header_browser_random\n",
    "\n",
    "    for key, value in headers.items():\n",
    "        option.add_argument(f\"--header={key}:{value}\")\n",
    "        \n",
    "    driver = webdriver.Chrome(service=ChromeService(ChromeDriverManager().install()),options=option)\n",
    "    driver.get(page_url.format(page_number))\n",
    "    sleep(randint(3, 5))\n",
    "    jobs = driver.find_elements(By.CLASS_NAME,\"job-card\")\n",
    "    for job in jobs:\n",
    "        job_url = job.find_element(By.CSS_SELECTOR,'a').get_attribute(\"href\")\n",
    "        job_urls.append(job_url)\n",
    "    # sleep(randint(6, 10))\n",
    "    driver.quit()"
   ]
  },
  {
   "cell_type": "code",
   "execution_count": 11,
   "metadata": {},
   "outputs": [
    {
     "name": "stdout",
     "output_type": "stream",
     "text": [
      "Số lượng url lấy được:  40\n"
     ]
    }
   ],
   "source": [
    "print(\"Số lượng url lấy được: \", len(job_urls))"
   ]
  },
  {
   "cell_type": "code",
   "execution_count": 12,
   "metadata": {},
   "outputs": [],
   "source": [
    "conn = mysql.connector.connect(\n",
    "    host='103.56.158.31',\n",
    "    port = 3306,\n",
    "    user= 'tuyendungUser',\n",
    "    password='sinhvienBK',\n",
    "    database= 'ThongTinTuyenDung'\n",
    ")\n",
    "cursor = conn.cursor()"
   ]
  },
  {
   "cell_type": "code",
   "execution_count": 13,
   "metadata": {},
   "outputs": [],
   "source": [
    "sql = 'INSERT IGNORE INTO Stg_ThongTin(Web, Nganh, Link, TenCV, CongTy, TinhThanh, Luong, LoaiHinh, KinhNghiem, CapBac, HanNopCV, YeuCau, MoTa, PhucLoi, SoLuong) VALUES (%s, %s, %s, %s,%s,%s,%s, %s, %s, %s, %s, %s, %s, %s,%s)'"
   ]
  },
  {
   "cell_type": "code",
   "execution_count": 14,
   "metadata": {},
   "outputs": [
    {
     "name": "stdout",
     "output_type": "stream",
     "text": [
      "Đang xử lí.... https://itviec.com/it-jobs/senior-golang-developer-backend-aws-mysql-andpad-vietnam-co-ltd-4448?lab_feature=preview_jd_page\n",
      "Đang xử lí.... https://itviec.com/it-jobs/software-developer-rosen-technology-vietnam-5513?lab_feature=preview_jd_page\n",
      "Đang xử lí.... https://itviec.com/it-jobs/devsecops-engineer-rosen-technology-vietnam-3614?lab_feature=preview_jd_page\n",
      "Đang xử lí.... https://itviec.com/it-jobs/03-jr-business-analyst-english-ui-ux-resonance-technology-4220?lab_feature=preview_jd_page\n",
      "Đang xử lí.... https://itviec.com/it-jobs/senior-software-engineer-nodejs-reactjs-eyepax-it-consulting-company-limited-4606?lab_feature=preview_jd_page\n",
      "Đang xử lí.... https://itviec.com/it-jobs/full-stack-developer-ruby-javascript-go-nimble-3534?lab_feature=preview_jd_page\n",
      "Đang xử lí.... https://itviec.com/it-jobs/senior-data-analyst-one-mount-group-5155?lab_feature=preview_jd_page\n",
      "Đang xử lí.... https://itviec.com/it-jobs/nhan-vien-chuyen-vien-phat-trien-ung-dung-khoi-cntt-vietbank-1001?lab_feature=preview_jd_page\n",
      "Đang xử lí.... https://itviec.com/it-jobs/back-end-developer-php-ruby-lifull-tech-vietnam-2957?lab_feature=preview_jd_page\n",
      "Đang xử lí.... https://itviec.com/it-jobs/software-architect-english-nha-trang-no-hybrid-infodation-vietnam-1654?lab_feature=preview_jd_page\n",
      "Đang xử lí.... https://itviec.com/it-jobs/senior-backend-engineer-java-naver-vietnam-4507?lab_feature=preview_jd_page\n",
      "Đang xử lí.... https://itviec.com/it-jobs/middle-senior-test-engineer-qc-qa-tester-biso24-4134?lab_feature=preview_jd_page\n",
      "Đang xử lí.... https://itviec.com/it-jobs/middle-sr-net-developer-oop-english-mvc-asp-net-cmc-global-1652?lab_feature=preview_jd_page\n",
      "Đang xử lí.... https://itviec.com/it-jobs/c-embedded-engineer-c-language-linux-android-cmc-global-1216?lab_feature=preview_jd_page\n",
      "Đang xử lí.... https://itviec.com/it-jobs/java-developer-oop-mvc-english-j2ee-spring-cmc-global-2010?lab_feature=preview_jd_page\n",
      "Đang xử lí.... https://itviec.com/it-jobs/han-c-rpa-team-leader-up-to-50m-hybrid-technologies-4549?lab_feature=preview_jd_page\n",
      "Đang xử lí.... https://itviec.com/it-jobs/senior-backend-developer-java-hsc-1008?lab_feature=preview_jd_page\n",
      "Đang xử lí.... https://itviec.com/it-jobs/senior-leader-mobile-dev-react-native-ios-android-hsc-1003?lab_feature=preview_jd_page\n",
      "Đang xử lí.... https://itviec.com/it-jobs/database-administrator-dba-joining-after-tet-lotte-c-f-vietnam-2049?lab_feature=preview_jd_page\n",
      "Đang xử lí.... https://itviec.com/it-jobs/python-developers-logknot-viet-nam-0724?lab_feature=preview_jd_page\n",
      "Đang xử lí.... https://itviec.com/it-jobs/senior-it-business-analyst-sps-vietnam-4457?lab_feature=preview_jd_page\n",
      "Đang xử lí.... https://itviec.com/it-jobs/php-backend-developer-laravel-wordpress-logknot-viet-nam-3813?lab_feature=preview_jd_page\n",
      "Đang xử lí.... https://itviec.com/it-jobs/technical-architect-one-tech-stop-vietnam-company-ltd-1001?lab_feature=preview_jd_page\n",
      "Đang xử lí.... https://itviec.com/it-jobs/trading-partner-analyst-gap-analyst-it-business-analy-dicentral-4505?lab_feature=preview_jd_page\n",
      "Đang xử lí.... https://itviec.com/it-jobs/qa-tester-qa-qc-automation-test-fullerton-health-5651?lab_feature=preview_jd_page\n",
      "Đang xử lí.... https://itviec.com/it-jobs/senior-quality-engineer-test-automation-qa-qc-katalon-3953?lab_feature=preview_jd_page\n",
      "Đang xử lí.... https://itviec.com/it-jobs/autosar-software-engineer-c-c-lg-electronics-development-vietnam-lgedv-0209?lab_feature=preview_jd_page\n",
      "Đang xử lí.... https://itviec.com/it-jobs/frontend-developer-reactjs-mysql-one-tech-stop-vietnam-company-ltd-5853?lab_feature=preview_jd_page\n",
      "Đang xử lí.... https://itviec.com/it-jobs/salesforce-developer-one-tech-stop-vietnam-company-ltd-1808?lab_feature=preview_jd_page\n",
      "Đang xử lí.... https://itviec.com/it-jobs/senior-net-developer-elca-1410?lab_feature=preview_jd_page\n",
      "Đang xử lí.... https://itviec.com/it-jobs/r-d-engineer-c-c-up-to-2-400-lg-electronics-development-vietnam-lgedv-0230?lab_feature=preview_jd_page\n",
      "Đang xử lí.... https://itviec.com/it-jobs/mid-senior-net-backend-dev-c-asp-net-up-to-2000-saritasa-2727?lab_feature=preview_jd_page\n",
      "Đang xử lí.... https://itviec.com/it-jobs/h-a-c-software-engineer-lg-electronics-development-vietnam-lgedv-2731?lab_feature=preview_jd_page\n",
      "Đang xử lí.... https://itviec.com/it-jobs/business-analyst-got-it-0906?lab_feature=preview_jd_page\n",
      "Đang xử lí.... https://itviec.com/it-jobs/game-product-manager-new-game-amanotes-5033?lab_feature=preview_jd_page\n",
      "Đang xử lí.... https://itviec.com/it-jobs/devops-engineer-upto-2200-hybrid-working-lg-electronics-development-vietnam-lgedv-4240?lab_feature=preview_jd_page\n",
      "Đang xử lí.... https://itviec.com/it-jobs/fresher-junior-unity-developer-skylink-group-4829?lab_feature=preview_jd_page\n",
      "Đang xử lí.... https://itviec.com/it-jobs/qm-leader-qm-professional-japanese-sign-on-bonus-nec-vietnam-5446?lab_feature=preview_jd_page\n",
      "Đang xử lí.... https://itviec.com/it-jobs/da-nang-full-stack-developer-react-js-node-js-one-tech-stop-vietnam-company-ltd-1248?lab_feature=preview_jd_page\n",
      "Đang xử lí.... https://itviec.com/it-jobs/da-nang-scrum-master-one-tech-stop-vietnam-company-ltd-1101?lab_feature=preview_jd_page\n"
     ]
    }
   ],
   "source": [
    "for i in range(len(job_urls)):\n",
    "    driver = webdriver.Chrome(service=ChromeService(ChromeDriverManager().install()),options=option)\n",
    "    driver.get(job_urls[i])\n",
    "    print(\"Đang xử lí....\", job_urls[i])\n",
    "    sleep(randint(1, 3))\n",
    "    Web = 'ITViec'\n",
    "    Nganh = 'IT'\n",
    "    Link = job_urls[i]\n",
    "    TenCV = driver.find_element(By.CLASS_NAME, 'ipt-md-6').text\n",
    "    CongTy = driver.find_element(By.CLASS_NAME, 'employer-name').text\n",
    "    TinhThanh = driver.find_elements(By.CSS_SELECTOR, '[class=\"normal-text text-rich-grey\"]')[0].text\n",
    "    Luong = 'Không có'\n",
    "    LoaiHinh = driver.find_element(By.CSS_SELECTOR, '[class=\"normal-text text-rich-grey ms-1\"]').text\n",
    "    KinhNghiem = \"Không có\"\n",
    "    CapBac = 'Không có'\n",
    "    HanNopCV = date.today()\n",
    "    try:\n",
    "        YeuCau = driver.find_elements(By.CLASS_NAME, 'imy-5')[1].text\n",
    "    except:\n",
    "        YeuCau = \"\"\n",
    "    try:\n",
    "        MoTa = driver.find_elements(By.CLASS_NAME, 'imy-5')[0].text\n",
    "    except:\n",
    "        MoTa = \"\"\n",
    "    try:\n",
    "        PhucLoi = driver.find_elements(By.CLASS_NAME, 'imy-5')[2].text\n",
    "    except:\n",
    "        PhucLoi = \"\"\n",
    "    SoLuong = '1'\n",
    "    cursor.execute(sql, (Web, Nganh, Link, TenCV, CongTy, TinhThanh, Luong, LoaiHinh, KinhNghiem, CapBac, HanNopCV, YeuCau, MoTa, PhucLoi, SoLuong))\n",
    "    conn.commit()\n",
    "    driver.quit()\n",
    "cursor.close()\n",
    "conn.close()"
   ]
  },
  {
   "cell_type": "code",
   "execution_count": 15,
   "metadata": {},
   "outputs": [],
   "source": [
    "cursor.close()\n",
    "conn.close()"
   ]
  }
 ],
 "metadata": {
  "kernelspec": {
   "display_name": "Python 3",
   "language": "python",
   "name": "python3"
  },
  "language_info": {
   "codemirror_mode": {
    "name": "ipython",
    "version": 3
   },
   "file_extension": ".py",
   "mimetype": "text/x-python",
   "name": "python",
   "nbconvert_exporter": "python",
   "pygments_lexer": "ipython3",
   "version": "3.11.7"
  }
 },
 "nbformat": 4,
 "nbformat_minor": 2
}
