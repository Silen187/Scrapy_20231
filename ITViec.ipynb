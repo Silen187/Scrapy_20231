{
 "cells": [
  {
   "cell_type": "code",
   "execution_count": 1,
   "metadata": {},
   "outputs": [],
   "source": [
    "from bs4 import BeautifulSoup\n",
    "import requests\n",
    "# Parsing and creating xml data\n",
    "from lxml import etree as et\n",
    "\n",
    "# Store data as a csv file written out\n",
    "from csv import writer\n",
    "\n",
    "# In general to use with timing our function calls to Indeed\n",
    "import time\n",
    "\n",
    "# Assist with creating incremental timing for our scraping to seem more human\n",
    "from time import sleep\n",
    "\n",
    "# Dataframe stuff\n",
    "import pandas as pd\n",
    "\n",
    "# Random integer for more realistic timing for clicks, buttons and searches during scraping\n",
    "from random import randint\n",
    "\n",
    "# Multi Threading\n",
    "import threading\n",
    "\n",
    "# Threading:\n",
    "from concurrent.futures import ThreadPoolExecutor, wait\n",
    "import math\n",
    "import mysql.connector\n",
    "from datetime import date"
   ]
  },
  {
   "cell_type": "code",
   "execution_count": 2,
   "metadata": {},
   "outputs": [
    {
     "data": {
      "text/plain": [
       "'4.15.2'"
      ]
     },
     "execution_count": 2,
     "metadata": {},
     "output_type": "execute_result"
    }
   ],
   "source": [
    "import selenium\n",
    "\n",
    "# Check version I am running\n",
    "selenium.__version__"
   ]
  },
  {
   "cell_type": "code",
   "execution_count": 3,
   "metadata": {},
   "outputs": [],
   "source": [
    "from selenium import webdriver\n",
    "\n",
    "# Starting/Stopping Driver: can specify ports or location but not remote access\n",
    "from selenium.webdriver.chrome.service import Service as ChromeService\n",
    "\n",
    "# Manages Binaries needed for WebDriver without installing anything directly\n",
    "from webdriver_manager.chrome import ChromeDriverManager"
   ]
  },
  {
   "cell_type": "code",
   "execution_count": 4,
   "metadata": {},
   "outputs": [],
   "source": [
    "# Allows searchs similar to beautiful soup: find_all\n",
    "from selenium.webdriver.common.by import By\n",
    "\n",
    "# Try to establish wait times for the page to load\n",
    "from selenium.webdriver.support.ui import WebDriverWait\n",
    "\n",
    "# Wait for specific condition based on defined task: web elements, boolean are examples\n",
    "from selenium.webdriver.support import expected_conditions as EC\n",
    "\n",
    "# Used for keyboard movements, up/down, left/right,delete, etc\n",
    "from selenium.webdriver.common.keys import Keys\n",
    "\n",
    "# Locate elements on page and throw error if they do not exist\n",
    "from selenium.common.exceptions import NoSuchElementException"
   ]
  },
  {
   "cell_type": "code",
   "execution_count": 5,
   "metadata": {},
   "outputs": [
    {
     "name": "stdout",
     "output_type": "stream",
     "text": [
      "{'upgrade-insecure-requests': '1', 'user-agent': 'Mozilla/5.0 (Windows NT 10.0; Win64; x64) AppleWebKit/537.36 (KHTML, like Gecko) Chrome/83.0.4103.61 Safari/537.36 Edg/83.0.478.37', 'accept': 'text/html,application/xhtml+xml,application/xml;q=0.9,image/webp,image/apng,*/*;q=0.8', 'sec-ch-ua': 'Microsoft Edge;v=\"83\", \"Chromium\";v=\"83\", \";Not A Brand\";v=\"99\"', 'sec-ch-ua-mobile': '?0', 'sec-ch-ua-platform': 'Windows', 'sec-fetch-site': 'none', 'sec-fetch-mod': '', 'sec-fetch-user': '?1', 'accept-encoding': 'gzip, deflate', 'accept-language': 'en-US,de;q=0.8'}\n"
     ]
    }
   ],
   "source": [
    "response = requests.get(\n",
    "  url='https://headers.scrapeops.io/v1/browser-headers',\n",
    "  params={\n",
    "      'api_key': 'cca4ced0-490d-41a0-b258-46f2ad7e74b3',\n",
    "      'num_results': '100'}\n",
    ")\n",
    "header_browser_list = response.json()\n",
    "print(header_browser_list['result'][0])"
   ]
  },
  {
   "cell_type": "code",
   "execution_count": 6,
   "metadata": {},
   "outputs": [
    {
     "name": "stdout",
     "output_type": "stream",
     "text": [
      "Mozilla/5.0 (Windows NT 10.0; WOW64) AppleWebKit/537.36 (KHTML, like Gecko) Chrome/84.0.4147.125 Safari/537.36\n"
     ]
    }
   ],
   "source": [
    "response = requests.get(\n",
    "  url='https://headers.scrapeops.io/v1/user-agents',\n",
    "  params={\n",
    "      'api_key': 'cca4ced0-490d-41a0-b258-46f2ad7e74b3',\n",
    "      'num_results': '100'}\n",
    ")\n",
    "user_agent_list = response.json()\n",
    "print(user_agent_list['result'][0])"
   ]
  },
  {
   "cell_type": "code",
   "execution_count": 7,
   "metadata": {},
   "outputs": [],
   "source": [
    "random_index_user_agent = randint(0, len(user_agent_list)-1)\n",
    "random_index_header_browser = randint(0, len(header_browser_list)-1)\n",
    "user_agent_random = user_agent_list['result'][random_index_user_agent]\n",
    "header_browser_random = header_browser_list['result'][random_index_header_browser]"
   ]
  },
  {
   "cell_type": "code",
   "execution_count": 8,
   "metadata": {},
   "outputs": [],
   "source": [
    "# Allows you to cusotmize: ingonito mode, maximize window size, headless browser, disable certain features, etc\n",
    "option = webdriver.ChromeOptions()\n",
    "\n",
    "# Going undercover:\n",
    "option.add_argument(\"--incognito\")\n",
    "\n",
    "\n",
    "# # Consider this if the application works and you know how it works for speed ups and rendering!\n",
    "\n",
    "option.add_argument('--headless=chrome')\n",
    "user_agent = user_agent_random\n",
    "option.add_argument(f\"user-agent={user_agent}\")\n",
    "\n",
    "# Thêm header vào Options\n",
    "headers = header_browser_random\n",
    "\n",
    "for key, value in headers.items():\n",
    "    option.add_argument(f\"--header={key}:{value}\")"
   ]
  },
  {
   "cell_type": "code",
   "execution_count": 9,
   "metadata": {},
   "outputs": [
    {
     "name": "stdout",
     "output_type": "stream",
     "text": [
      "34\n"
     ]
    }
   ],
   "source": [
    "driver = webdriver.Chrome(service=ChromeService(ChromeDriverManager().install()),options=option)\n",
    "\n",
    "driver.get(\"https://itviec.com/it-jobs?\")\n",
    "\n",
    "job_count = driver.find_element(By.CLASS_NAME,'headline-total-jobs').text\n",
    "number_of_jobs = job_count.split()[0]\n",
    "if (int(number_of_jobs) % 20 == 0):\n",
    "    max_page  = int(number_of_jobs) / 20 \n",
    "else:\n",
    "    max_page = math.floor(int(number_of_jobs) / 20) + 1\n",
    "print(max_page)\n",
    "driver.quit()\n",
    "job_urls = [] #Mảng lưu trữ tất cả url lấy được từ web"
   ]
  },
  {
   "cell_type": "code",
   "execution_count": 10,
   "metadata": {},
   "outputs": [],
   "source": [
    "page_url =\"https://itviec.com/it-jobs?page={}\"\n",
    "for page_number in range(1, int(max_page + 1)):\n",
    "# for page_number in range(1, 3):\n",
    "    random_index_user_agent = randint(0, len(user_agent_list)-1)\n",
    "    random_index_header_browser = randint(0, len(header_browser_list)-1)\n",
    "    user_agent_random = user_agent_list['result'][random_index_user_agent]\n",
    "    header_browser_random = header_browser_list['result'][random_index_header_browser]\n",
    "    user_agent = user_agent_random\n",
    "\n",
    "    option.add_argument(f\"user-agent={user_agent}\")\n",
    "\n",
    "    # Thêm header vào Options\n",
    "    headers = header_browser_random\n",
    "\n",
    "    for key, value in headers.items():\n",
    "        option.add_argument(f\"--header={key}:{value}\")\n",
    "        \n",
    "    driver = webdriver.Chrome(service=ChromeService(ChromeDriverManager().install()),options=option)\n",
    "    driver.get(page_url.format(page_number))\n",
    "    sleep(randint(3, 5))\n",
    "    jobs = driver.find_elements(By.CLASS_NAME,\"job-card\")\n",
    "    for job in jobs:\n",
    "        job_url = job.find_element(By.CSS_SELECTOR,'a').get_attribute(\"href\")\n",
    "        job_urls.append(job_url)\n",
    "    # sleep(randint(6, 10))\n",
    "    driver.quit()"
   ]
  },
  {
   "cell_type": "code",
   "execution_count": 11,
   "metadata": {},
   "outputs": [],
   "source": [
    "conn = mysql.connector.connect(\n",
    "    host='103.56.158.31',\n",
    "    port = 3306,\n",
    "    user= 'tuyendungUser',\n",
    "    password='sinhvienBK',\n",
    "    database= 'ThongTinTuyenDung'\n",
    ")\n",
    "cursor = conn.cursor()"
   ]
  },
  {
   "cell_type": "code",
   "execution_count": 12,
   "metadata": {},
   "outputs": [],
   "source": [
    "sql = 'INSERT IGNORE INTO Stg_ThongTin_ETL(Web, Nganh, Link, TenCV, CongTy, TinhThanh, Luong, LoaiHinh, KinhNghiem, CapBac, HanNopCV, YeuCau, MoTa, PhucLoi, SoLuong) VALUES (%s, %s, %s, %s,%s,%s,%s, %s, %s, %s, %s, %s, %s, %s,%s)'"
   ]
  },
  {
   "cell_type": "code",
   "execution_count": 13,
   "metadata": {},
   "outputs": [],
   "source": [
    "sql_link = 'SELECT Link FROM Stg_ThongTin_ETL where Web =\\'ITViec\\''"
   ]
  },
  {
   "cell_type": "code",
   "execution_count": 14,
   "metadata": {},
   "outputs": [
    {
     "name": "stdout",
     "output_type": "stream",
     "text": [
      "Số url cào về:  675\n",
      "Đã lấy link thành công\n",
      "Số lượng link mới sau xử lí lấy được:  675\n"
     ]
    }
   ],
   "source": [
    "cursor.execute(sql_link)\n",
    "result = cursor.fetchall()\n",
    "remove_url_list = [row[0] for row in result]\n",
    "print(\"Số url cào về: \", len(job_urls))\n",
    "for job_url in remove_url_list:\n",
    "    if job_url in job_urls:\n",
    "        job_urls.remove(job_url)\n",
    "print(\"Đã lấy link thành công\")\n",
    "print(\"Số lượng link mới sau xử lí lấy được: \", len(job_urls))"
   ]
  },
  {
   "cell_type": "code",
   "execution_count": 15,
   "metadata": {},
   "outputs": [
    {
     "name": "stdout",
     "output_type": "stream",
     "text": [
      "Đang xử lí.... https://itviec.com/it-jobs/java-fullstack-developer-elca-1952?lab_feature=preview_jd_page\n",
      "Đang xử lí.... https://itviec.com/it-jobs/senior-lead-java-engineer-instaclustr-positive-thinking-company-b-o-t-1316?lab_feature=preview_jd_page\n",
      "Đang xử lí.... https://itviec.com/it-jobs/technical-architect-one-tech-stop-vietnam-company-ltd-1001?lab_feature=preview_jd_page\n",
      "Đang xử lí.... https://itviec.com/it-jobs/principal-senior-ruby-on-rails-up-to-4000usd-sungrove-tech-vietnam-0339?lab_feature=preview_jd_page\n",
      "Đang xử lí.... https://itviec.com/it-jobs/lead-java-engineer-hrs-group-4309?lab_feature=preview_jd_page\n",
      "Đang xử lí.... https://itviec.com/it-jobs/senior-c-developers-onboard-security-product-dev-bosch-global-software-technologies-company-limited-0851?lab_feature=preview_jd_page\n",
      "Đang xử lí.... https://itviec.com/it-jobs/salesforce-developer-one-tech-stop-vietnam-company-ltd-1808?lab_feature=preview_jd_page\n",
      "Đang xử lí.... https://itviec.com/it-jobs/junior-mid-php-developers-maruweb-viet-nam-4033?lab_feature=preview_jd_page\n",
      "Đang xử lí.... https://itviec.com/it-jobs/delivery-manager-java-j2ee-integro-technologies-3327?lab_feature=preview_jd_page\n",
      "Đang xử lí.... https://itviec.com/it-jobs/qm-leader-qm-professional-japanese-sign-on-bonus-nec-vietnam-5446?lab_feature=preview_jd_page\n",
      "Đang xử lí.... https://itviec.com/it-jobs/salesforce-developer-java-net-ruby-php-english-capgemini-services-viet-nam-0822?lab_feature=preview_jd_page\n",
      "Đang xử lí.... https://itviec.com/it-jobs/da-nang-scrum-master-one-tech-stop-vietnam-company-ltd-1101?lab_feature=preview_jd_page\n",
      "Đang xử lí.... https://itviec.com/it-jobs/bridge-system-engineer-project-manager-japanese-nextop-co-ltd-1618?lab_feature=preview_jd_page\n",
      "Đang xử lí.... https://itviec.com/it-jobs/senior-full-stack-engineer-typescript-html5-mycolor-viet-nam-5648?lab_feature=preview_jd_page\n",
      "Đang xử lí.... https://itviec.com/it-jobs/mid-senior-japanese-test-designer-qa-qc-n2-andpad-vietnam-co-ltd-3705?lab_feature=preview_jd_page\n",
      "Đang xử lí.... https://itviec.com/it-jobs/c-developer-terralogic-3044?lab_feature=preview_jd_page\n",
      "Đang xử lí.... https://itviec.com/it-jobs/performance-tester-java-javascript-cmc-global-0654?lab_feature=preview_jd_page\n",
      "Đang xử lí.... https://itviec.com/it-jobs/middle-senior-python-developer-saigon-technology-3425?lab_feature=preview_jd_page\n",
      "Đang xử lí.... https://itviec.com/it-jobs/han-01-python-team-leader-up-to-50m-hybrid-technologies-5943?lab_feature=preview_jd_page\n",
      "Đang xử lí.... https://itviec.com/it-jobs/senior-devops-engineer-gearment-llc-2627?lab_feature=preview_jd_page\n",
      "Đang xử lí.... https://itviec.com/it-jobs/technical-leader-ngs-4020?lab_feature=preview_jd_page\n",
      "Đang xử lí.... https://itviec.com/it-jobs/lead-pen-tester-nab-innovation-centre-vietnam-0214?lab_feature=preview_jd_page\n",
      "Đang xử lí.... https://itviec.com/it-jobs/fortran-developer-hitachi-digital-services-1324?lab_feature=preview_jd_page\n",
      "Đang xử lí.... https://itviec.com/it-jobs/team-leader-senior-ruby-on-rails-developer-hybrid-vareal-vietnam-co-ltd-2517?lab_feature=preview_jd_page\n",
      "Đang xử lí.... https://itviec.com/it-jobs/c-developer-samsung-electronics-hcmc-ce-complex-5531?lab_feature=preview_jd_page\n",
      "Đang xử lí.... https://itviec.com/it-jobs/senior-frontend-engineer-reactjs-vuejs-saigon-technology-1834?lab_feature=preview_jd_page\n",
      "Đang xử lí.... https://itviec.com/it-jobs/product-manager-nakivo-5127?lab_feature=preview_jd_page\n",
      "Đang xử lí.... https://itviec.com/it-jobs/middle-senior-golang-developer-aws-php-agile-saigon-technology-2549?lab_feature=preview_jd_page\n",
      "Đang xử lí.... https://itviec.com/it-jobs/middle-senior-java-developer-spring-mysql-saigon-technology-1332?lab_feature=preview_jd_page\n",
      "Đang xử lí.... https://itviec.com/it-jobs/senior-software-engineer-java-ai-katalon-4901?lab_feature=preview_jd_page\n",
      "Đang xử lí.... https://itviec.com/it-jobs/manual-qc-engineer-middle-level-one-mount-group-3733?lab_feature=preview_jd_page\n",
      "Đang xử lí.... https://itviec.com/it-jobs/data-analyst-python-sql-english-bonus-up-40m-saigon-technology-5549?lab_feature=preview_jd_page\n",
      "Đang xử lí.... https://itviec.com/it-jobs/senior-manual-qc-tester-bonus-up-20m-saigon-technology-0811?lab_feature=preview_jd_page\n",
      "Đang xử lí.... https://itviec.com/it-jobs/senior-net-developer-desktop-app-simpson-strong-tie-vietnam-1453?lab_feature=preview_jd_page\n",
      "Đang xử lí.... https://itviec.com/it-jobs/bridge-engineer-brse-project-manager-persol-career-tech-studio-vietnam-3845?lab_feature=preview_jd_page\n",
      "Đang xử lí.... https://itviec.com/it-jobs/c-leader-developer-net-persol-career-tech-studio-vietnam-3538?lab_feature=preview_jd_page\n",
      "Đang xử lí.... https://itviec.com/it-jobs/automation-qa-engineer-c-selenium-positive-thinking-company-b-o-t-2845?lab_feature=preview_jd_page\n",
      "Đang xử lí.... https://itviec.com/it-jobs/bridge-system-engineer-japanese-agile-citynow-technology-solutions-1412?lab_feature=preview_jd_page\n",
      "Đang xử lí.... https://itviec.com/it-jobs/hybrid-fullstack-dev-php-laravel-vuejs-yet-company-1110?lab_feature=preview_jd_page\n",
      "Đang xử lí.... https://itviec.com/it-jobs/mobile-developer-ios-android-saigon-technology-0606?lab_feature=preview_jd_page\n",
      "Đang xử lí.... https://itviec.com/it-jobs/senior-engineer-nodejs-reactjs-typescript-2500-gmo-z-com-vietnamlab-center-2845?lab_feature=preview_jd_page\n",
      "Đang xử lí.... https://itviec.com/it-jobs/java-technical-leader-banking-kbtg-vietnam-1531?lab_feature=preview_jd_page\n",
      "Đang xử lí.... https://itviec.com/it-jobs/ruby-on-rails-engineer-principal-senior-money-forward-vietnam-co-ltd-3238?lab_feature=preview_jd_page\n",
      "Đang xử lí.... https://itviec.com/it-jobs/chuyen-vien-van-hanh-sap-fico-lg-cns-viet-nam-2156?lab_feature=preview_jd_page\n",
      "Đang xử lí.... https://itviec.com/it-jobs/signon-bonus-solution-architect-net-aperia-solutions-vietnam-co-ltd-1347?lab_feature=preview_jd_page\n",
      "Đang xử lí.... https://itviec.com/it-jobs/fullstack-nodejs-reactjs-developer-dnse-4718?lab_feature=preview_jd_page\n",
      "Đang xử lí.... https://itviec.com/it-jobs/quality-controller-software-tester-netika-software-development-vn-4903?lab_feature=preview_jd_page\n",
      "Đang xử lí.... https://itviec.com/it-jobs/fresher-software-developer-back-end-front-end-lg-cns-viet-nam-0549?lab_feature=preview_jd_page\n",
      "Đang xử lí.... https://itviec.com/it-jobs/scrum-master-middle-senior-mti-technology-2258?lab_feature=preview_jd_page\n",
      "Đang xử lí.... https://itviec.com/it-jobs/scrum-master-hybrid-3k-leapxpert-0153?lab_feature=preview_jd_page\n",
      "Đang xử lí.... https://itviec.com/it-jobs/creative-technologist-nft-ar-mr-vr-bots-ogilvy-4456?lab_feature=preview_jd_page\n",
      "Đang xử lí.... https://itviec.com/it-jobs/technical-product-manager-hybrid-nimble-2156?lab_feature=preview_jd_page\n",
      "Đang xử lí.... https://itviec.com/it-jobs/bridge-system-engineer-japanese-speaking-pasona-tech-viet-nam-4653?lab_feature=preview_jd_page\n",
      "Đang xử lí.... https://itviec.com/it-jobs/project-leader-pasona-tech-viet-nam-2716?lab_feature=preview_jd_page\n",
      "Đang xử lí.... https://itviec.com/it-jobs/senior-fullstack-software-developer-python-net-js-scc-vietnam-1117?lab_feature=preview_jd_page\n",
      "Đang xử lí.... https://itviec.com/it-jobs/web-application-developer-junior-senior-pasona-tech-viet-nam-0823?lab_feature=preview_jd_page\n",
      "Đang xử lí.... https://itviec.com/it-jobs/qc-tester-pasona-tech-viet-nam-5355?lab_feature=preview_jd_page\n",
      "Đang xử lí.... https://itviec.com/it-jobs/senior-lead-automation-test-qa-qc-tester-nab-innovation-centre-vietnam-4154?lab_feature=preview_jd_page\n",
      "Đang xử lí.... https://itviec.com/it-jobs/software-technical-leader-team-leader-devops-java-thinh-tien-tech-4001?lab_feature=preview_jd_page\n",
      "Đang xử lí.... https://itviec.com/it-jobs/front-end-dev-javascript-reactjs-angular-lotte-c-f-vietnam-1653?lab_feature=preview_jd_page\n",
      "Đang xử lí.... https://itviec.com/it-jobs/frontend-developer-javascript-html5-css-cybozu-vietnam-3259?lab_feature=preview_jd_page\n",
      "Đang xử lí.... https://itviec.com/it-jobs/senior-back-end-dev-java-oracle-spring-lotte-c-f-vietnam-1632?lab_feature=preview_jd_page\n",
      "Đang xử lí.... https://itviec.com/it-jobs/web-publisher-ui-ux-design-front-end-developer-lg-cns-viet-nam-3103?lab_feature=preview_jd_page\n",
      "Đang xử lí.... https://itviec.com/it-jobs/middle-senior-backend-developer-python-hdbank-0302?lab_feature=preview_jd_page\n",
      "Đang xử lí.... https://itviec.com/it-jobs/bridge-software-engineer-brse-hitachi-digital-services-3850?lab_feature=preview_jd_page\n",
      "Đang xử lí.... https://itviec.com/it-jobs/senior-product-owner-agile-english-upto-2500-metaway-tech-3752?lab_feature=preview_jd_page\n",
      "Đang xử lí.... https://itviec.com/it-jobs/senior-cloudops-engineer-devops-scandinavian-software-park-3323?lab_feature=preview_jd_page\n",
      "Đang xử lí.... https://itviec.com/it-jobs/frontend-dev-reactjs-javascript-teneocto-technologies-1030?lab_feature=preview_jd_page\n",
      "Đang xử lí.... https://itviec.com/it-jobs/application-support-engineer-m-f-d-zoi-sgn-3818?lab_feature=preview_jd_page\n",
      "Đang xử lí.... https://itviec.com/it-jobs/ui-ux-designer-mid-senior-fullerton-health-1545?lab_feature=preview_jd_page\n",
      "Đang xử lí.... https://itviec.com/it-jobs/solution-architect-aws-azure-gcp-upto-4000-rikkeisoft-4030?lab_feature=preview_jd_page\n",
      "Đang xử lí.... https://itviec.com/it-jobs/sr-backend-engineer-python-go-java-sign-on-bonus-trusting-social-3906?lab_feature=preview_jd_page\n",
      "Đang xử lí.... https://itviec.com/it-jobs/project-manager-cmc-global-1709?lab_feature=preview_jd_page\n",
      "Đang xử lí.... https://itviec.com/it-jobs/senior-principal-golang-engineer-mysql-postgresql-money-forward-vietnam-co-ltd-0628?lab_feature=preview_jd_page\n",
      "Đang xử lí.... https://itviec.com/it-jobs/principal-qa-qc-engineer-manual-automation-money-forward-vietnam-co-ltd-1549?lab_feature=preview_jd_page\n",
      "Đang xử lí.... https://itviec.com/it-jobs/senior-business-analyst-mcredit-cong-ty-tai-chinh-tnhh-mb-shinsei-0728?lab_feature=preview_jd_page\n",
      "Đang xử lí.... https://itviec.com/it-jobs/senior-golang-developer-backend-aws-mysql-andpad-vietnam-co-ltd-4448?lab_feature=preview_jd_page\n",
      "Đang xử lí.... https://itviec.com/it-jobs/software-developer-net-angular-azure-rosen-technology-vietnam-4221?lab_feature=preview_jd_page\n",
      "Đang xử lí.... https://itviec.com/it-jobs/devsecops-devops-primary-linux-azure-rosen-technology-vietnam-4514?lab_feature=preview_jd_page\n",
      "Đang xử lí.... https://itviec.com/it-jobs/03-jr-business-analyst-english-ui-ux-resonance-technology-4220?lab_feature=preview_jd_page\n",
      "Đang xử lí.... https://itviec.com/it-jobs/senior-software-engineer-nodejs-reactjs-eyepax-it-consulting-company-limited-4606?lab_feature=preview_jd_page\n",
      "Đang xử lí.... https://itviec.com/it-jobs/full-stack-developer-ruby-javascript-go-nimble-3534?lab_feature=preview_jd_page\n",
      "Đang xử lí.... https://itviec.com/it-jobs/senior-data-analyst-one-mount-group-5155?lab_feature=preview_jd_page\n",
      "Đang xử lí.... https://itviec.com/it-jobs/nhan-vien-chuyen-vien-phat-trien-ung-dung-khoi-cntt-vietbank-1001?lab_feature=preview_jd_page\n",
      "Đang xử lí.... https://itviec.com/it-jobs/back-end-developer-php-ruby-lifull-tech-vietnam-2957?lab_feature=preview_jd_page\n",
      "Đang xử lí.... https://itviec.com/it-jobs/software-architect-english-nha-trang-no-hybrid-infodation-vietnam-1654?lab_feature=preview_jd_page\n",
      "Đang xử lí.... https://itviec.com/it-jobs/senior-backend-engineer-java-naver-vietnam-4507?lab_feature=preview_jd_page\n",
      "Đang xử lí.... https://itviec.com/it-jobs/middle-senior-test-engineer-qc-qa-tester-biso24-4134?lab_feature=preview_jd_page\n",
      "Đang xử lí.... https://itviec.com/it-jobs/middle-sr-net-developer-oop-english-mvc-asp-net-cmc-global-1652?lab_feature=preview_jd_page\n",
      "Đang xử lí.... https://itviec.com/it-jobs/c-embedded-engineer-c-language-linux-android-cmc-global-1216?lab_feature=preview_jd_page\n",
      "Đang xử lí.... https://itviec.com/it-jobs/java-developer-oop-mvc-english-j2ee-spring-cmc-global-2010?lab_feature=preview_jd_page\n",
      "Đang xử lí.... https://itviec.com/it-jobs/han-c-rpa-team-leader-up-to-50m-hybrid-technologies-4549?lab_feature=preview_jd_page\n",
      "Đang xử lí.... https://itviec.com/it-jobs/senior-backend-developer-java-hsc-1008?lab_feature=preview_jd_page\n",
      "Đang xử lí.... https://itviec.com/it-jobs/senior-leader-mobile-dev-react-native-ios-android-hsc-1003?lab_feature=preview_jd_page\n",
      "Đang xử lí.... https://itviec.com/it-jobs/database-administrator-dba-joining-after-tet-lotte-c-f-vietnam-2049?lab_feature=preview_jd_page\n",
      "Đang xử lí.... https://itviec.com/it-jobs/python-developers-logknot-viet-nam-0724?lab_feature=preview_jd_page\n",
      "Đang xử lí.... https://itviec.com/it-jobs/senior-it-business-analyst-sps-vietnam-4457?lab_feature=preview_jd_page\n",
      "Đang xử lí.... https://itviec.com/it-jobs/php-backend-developer-laravel-wordpress-logknot-viet-nam-3813?lab_feature=preview_jd_page\n",
      "Đang xử lí.... https://itviec.com/it-jobs/trading-partner-analyst-gap-analyst-it-business-analy-dicentral-4505?lab_feature=preview_jd_page\n",
      "Đang xử lí.... https://itviec.com/it-jobs/qa-tester-qa-qc-automation-test-fullerton-health-5651?lab_feature=preview_jd_page\n",
      "Đang xử lí.... https://itviec.com/it-jobs/senior-quality-engineer-test-automation-qa-qc-katalon-3953?lab_feature=preview_jd_page\n",
      "Đang xử lí.... https://itviec.com/it-jobs/autosar-software-engineer-c-c-lg-electronics-development-vietnam-lgedv-0209?lab_feature=preview_jd_page\n",
      "Đang xử lí.... https://itviec.com/it-jobs/frontend-developer-reactjs-mysql-one-tech-stop-vietnam-company-ltd-5853?lab_feature=preview_jd_page\n",
      "Đang xử lí.... https://itviec.com/it-jobs/senior-net-developer-elca-1410?lab_feature=preview_jd_page\n",
      "Đang xử lí.... https://itviec.com/it-jobs/r-d-engineer-c-c-up-to-2-400-lg-electronics-development-vietnam-lgedv-0230?lab_feature=preview_jd_page\n",
      "Đang xử lí.... https://itviec.com/it-jobs/mid-senior-net-backend-dev-c-asp-net-up-to-2000-saritasa-2727?lab_feature=preview_jd_page\n",
      "Đang xử lí.... https://itviec.com/it-jobs/h-a-c-software-engineer-lg-electronics-development-vietnam-lgedv-2731?lab_feature=preview_jd_page\n",
      "Đang xử lí.... https://itviec.com/it-jobs/business-analyst-got-it-0906?lab_feature=preview_jd_page\n",
      "Đang xử lí.... https://itviec.com/it-jobs/game-product-manager-new-game-amanotes-5033?lab_feature=preview_jd_page\n",
      "Đang xử lí.... https://itviec.com/it-jobs/devops-engineer-upto-2200-hybrid-working-lg-electronics-development-vietnam-lgedv-4240?lab_feature=preview_jd_page\n",
      "Đang xử lí.... https://itviec.com/it-jobs/fresher-junior-unity-developer-skylink-group-4829?lab_feature=preview_jd_page\n",
      "Đang xử lí.... https://itviec.com/it-jobs/da-nang-full-stack-developer-react-js-node-js-one-tech-stop-vietnam-company-ltd-1248?lab_feature=preview_jd_page\n",
      "Đang xử lí.... https://itviec.com/it-jobs/qa-manager-qa-qc-tester-english-ol-vietnam-5637?lab_feature=preview_jd_page\n",
      "Đang xử lí.... https://itviec.com/it-jobs/mid-senior-backend-engineer-remote-full-time-employment-hero-0547?lab_feature=preview_jd_page\n",
      "Đang xử lí.... https://itviec.com/it-jobs/2-years-php-developer-laravel-cake-symfony-1500-abilive-vietnam-co-ltd-1556?lab_feature=preview_jd_page\n",
      "Đang xử lí.... https://itviec.com/it-jobs/test-lead-qa-qc-automation-test-onepay-4757?lab_feature=preview_jd_page\n",
      "Đang xử lí.... https://itviec.com/it-jobs/cyber-secruity-senior-consultant-pwc-vietnam-1840?lab_feature=preview_jd_page\n",
      "Đang xử lí.... https://itviec.com/it-jobs/sr-network-ops-analyst-renesas-design-vietnam-5357?lab_feature=preview_jd_page\n",
      "Đang xử lí.... https://itviec.com/it-jobs/junior-senior-developer-flinters-vietnam-1032?lab_feature=preview_jd_page\n",
      "Đang xử lí.... https://itviec.com/it-jobs/pho-giam-doc-khoi-cntt-cto-manager-pvcombank-1736?lab_feature=preview_jd_page\n",
      "Đang xử lí.... https://itviec.com/it-jobs/game-designer-gameloft-5422?lab_feature=preview_jd_page\n",
      "Đang xử lí.... https://itviec.com/it-jobs/mobile-developer-android-ios-motorist-pte-ltd-3811?lab_feature=preview_jd_page\n",
      "Đang xử lí.... https://itviec.com/it-jobs/mbd-development-leader-renesas-design-vietnam-2806?lab_feature=preview_jd_page\n",
      "Đang xử lí.... https://itviec.com/it-jobs/aws-cloud-engineer-java-scala-ryte-technology-services-vietnam-2348?lab_feature=preview_jd_page\n",
      "Đang xử lí.... https://itviec.com/it-jobs/senior-fullstack-engineer-reactjs-java-nab-innovation-centre-vietnam-3528?lab_feature=preview_jd_page\n",
      "Đang xử lí.... https://itviec.com/it-jobs/qa-automation-engineer-qa-qc-tester-mealsuite-4342?lab_feature=preview_jd_page\n",
      "Đang xử lí.... https://itviec.com/it-jobs/senior-frontend-developer-reactjs-angular-typescript-imip-technology-and-solution-consultancy-3304?lab_feature=preview_jd_page\n",
      "Đang xử lí.... https://itviec.com/it-jobs/solution-architect-dec-2023-nab-innovation-centre-vietnam-0824?lab_feature=preview_jd_page\n",
      "Đang xử lí.... https://itviec.com/it-jobs/senior-quality-engineer-test-automation-qa-qc-trusting-social-0051?lab_feature=preview_jd_page\n",
      "Đang xử lí.... https://itviec.com/it-jobs/senior-mobile-developer-flutter-trusting-social-2459?lab_feature=preview_jd_page\n",
      "Đang xử lí.... https://itviec.com/it-jobs/data-engineer-lead-salary-up-to-4500-fpt-software-0047?lab_feature=preview_jd_page\n",
      "Đang xử lí.... https://itviec.com/it-jobs/solutions-architect-ogilvy-3024?lab_feature=preview_jd_page\n",
      "Đang xử lí.... https://itviec.com/it-jobs/senior-java-engineer-fraud-mega-nab-innovation-centre-vietnam-1318?lab_feature=preview_jd_page\n",
      "Đang xử lí.... https://itviec.com/it-jobs/project-manager-office-php-python-pmo-2500-neos-viet-nam-0825?lab_feature=preview_jd_page\n",
      "Đang xử lí.... https://itviec.com/it-jobs/2-lead-software-engineers-java-aws-katalon-2158?lab_feature=preview_jd_page\n",
      "Đang xử lí.... https://itviec.com/it-jobs/senior-devops-engineer-ci-cd-aws-azure-ol-vietnam-2523?lab_feature=preview_jd_page\n",
      "Đang xử lí.... https://itviec.com/it-jobs/mid-sr-java-developer-english-required-up-to-3200-rakuten-fintech-vietnam-co-ltd-4058?lab_feature=preview_jd_page\n",
      "Đang xử lí.... https://itviec.com/it-jobs/tech-lead-senior-fullstack-developer-net-nodejs-emesoft-4525?lab_feature=preview_jd_page\n",
      "Đang xử lí.... https://itviec.com/it-jobs/sign-in-bonus-software-developer-upto-2000-usol-vietnam-5102?lab_feature=preview_jd_page\n",
      "Đang xử lí.... https://itviec.com/it-jobs/cv-cao-cap-giai-phap-aws-cloud-engineering-devsecops-pvcombank-5321?lab_feature=preview_jd_page\n",
      "Đang xử lí.... https://itviec.com/it-jobs/software-test-leader-automation-test-qc-qa-pvcombank-1627?lab_feature=preview_jd_page\n",
      "Đang xử lí.... https://itviec.com/it-jobs/senior-ruby-on-rails-developer-aws-backend-andpad-vietnam-co-ltd-2550?lab_feature=preview_jd_page\n",
      "Đang xử lí.... https://itviec.com/it-jobs/business-analyst-mobile-experience-is-a-must-designveloper-dsv-1800?lab_feature=preview_jd_page\n",
      "Đang xử lí.... https://itviec.com/it-jobs/senior-qa-engineer-fullstack-with-manual-automation-smg-swiss-marketplace-group-0558?lab_feature=preview_jd_page\n",
      "Đang xử lí.... https://itviec.com/it-jobs/fullstack-developer-javascript-reactjs-nodejs-gosource-1352?lab_feature=preview_jd_page\n",
      "Đang xử lí.... https://itviec.com/it-jobs/mid-senior-frontend-developer-reactjs-javascript-aletech-technology-solutions-company-5900?lab_feature=preview_jd_page\n",
      "Đang xử lí.... https://itviec.com/it-jobs/business-analyst-elca-2331?lab_feature=preview_jd_page\n",
      "Đang xử lí.... https://itviec.com/it-jobs/senior-business-analyst-hitachi-digital-services-0424?lab_feature=preview_jd_page\n",
      "Đang xử lí.... https://itviec.com/it-jobs/senior-android-developer-kotlin-java-english-ingenico-vietnam-3323?lab_feature=preview_jd_page\n",
      "Đang xử lí.... https://itviec.com/it-jobs/cv-business-analyst-retail-agile-product-owner-mb-bank-5703?lab_feature=preview_jd_page\n",
      "Đang xử lí.... https://itviec.com/it-jobs/cv-ho-tro-tich-hop-doi-tac-dev-tester-devops-mb-bank-5649?lab_feature=preview_jd_page\n",
      "Đang xử lí.... https://itviec.com/it-jobs/cv-phat-trien-dich-vu-api-ba-api-product-owner-mb-bank-5716?lab_feature=preview_jd_page\n",
      "Đang xử lí.... https://itviec.com/it-jobs/business-analyst-english-sql-secutix-1232?lab_feature=preview_jd_page\n",
      "Đang xử lí.... https://itviec.com/it-jobs/senior-java-developer-spring-nosql-bluebik-vietnam-3444?lab_feature=preview_jd_page\n"
     ]
    }
   ],
   "source": [
    "if len(job_urls) > 0:\n",
    "    for i in range(len(job_urls)):\n",
    "        driver = webdriver.Chrome(service=ChromeService(ChromeDriverManager().install()),options=option)\n",
    "        driver.get(job_urls[i])\n",
    "        print(\"Đang xử lí....\", job_urls[i])\n",
    "        sleep(randint(1, 3))\n",
    "        Web = 'ITViec'\n",
    "        Nganh = 'IT'\n",
    "        Link = job_urls[i]\n",
    "        TenCV = driver.find_element(By.CLASS_NAME, 'ipt-md-6').text\n",
    "        CongTy = driver.find_element(By.CLASS_NAME, 'employer-name').text\n",
    "        TinhThanh = driver.find_elements(By.CSS_SELECTOR, '[class=\"normal-text text-rich-grey\"]')[0].text\n",
    "        Luong = 'Không có'\n",
    "        LoaiHinh = driver.find_element(By.CSS_SELECTOR, '[class=\"normal-text text-rich-grey ms-1\"]').text\n",
    "        KinhNghiem = \"Không có\"\n",
    "        CapBac = 'Không có'\n",
    "        HanNopCV = date.today()\n",
    "        try:\n",
    "            YeuCau = driver.find_elements(By.CLASS_NAME, 'imy-5')[1].text\n",
    "        except:\n",
    "            YeuCau = \"\"\n",
    "        try:\n",
    "            MoTa = driver.find_elements(By.CLASS_NAME, 'imy-5')[0].text\n",
    "        except:\n",
    "            MoTa = \"\"\n",
    "        try:\n",
    "            PhucLoi = driver.find_elements(By.CLASS_NAME, 'imy-5')[2].text\n",
    "        except:\n",
    "            PhucLoi = \"\"\n",
    "        SoLuong = '1'\n",
    "        cursor.execute(sql, (Web, Nganh, Link, TenCV, CongTy, TinhThanh, Luong, LoaiHinh, KinhNghiem, CapBac, HanNopCV, YeuCau, MoTa, PhucLoi, SoLuong))\n",
    "        conn.commit()\n",
    "        driver.quit()\n",
    "    cursor.close()\n",
    "    conn.close()\n",
    "    print(\"Đã thêm tin thành công\")\n",
    "else:\n",
    "    print(\"Không có tin mới để thêm\")"
   ]
  }
 ],
 "metadata": {
  "kernelspec": {
   "display_name": "Python 3",
   "language": "python",
   "name": "python3"
  },
  "language_info": {
   "codemirror_mode": {
    "name": "ipython",
    "version": 3
   },
   "file_extension": ".py",
   "mimetype": "text/x-python",
   "name": "python",
   "nbconvert_exporter": "python",
   "pygments_lexer": "ipython3",
   "version": "3.11.7"
  }
 },
 "nbformat": 4,
 "nbformat_minor": 2
}
