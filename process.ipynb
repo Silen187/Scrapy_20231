{
 "cells": [
  {
   "cell_type": "code",
   "execution_count": 2,
   "metadata": {},
   "outputs": [],
   "source": [
    "import pyautogui as pag\n",
    "import os\n",
    "import time"
   ]
  },
  {
   "cell_type": "code",
   "execution_count": 3,
   "metadata": {},
   "outputs": [],
   "source": [
    "current = os.getcwd().replace(\"\\\\\", \"/\") #Lấy vị trí hiện tại"
   ]
  },
  {
   "cell_type": "code",
   "execution_count": 25,
   "metadata": {},
   "outputs": [
    {
     "name": "stdout",
     "output_type": "stream",
     "text": [
      "e:/Scrapy_DA2/venv/Scripts/Activate.ps1\n"
     ]
    }
   ],
   "source": [
    "#Career Builder\n",
    "pag.hotkey('shift', 'ctrl', '`')\n",
    "time.sleep(1)  # Thêm độ trễ để đảm bảo terminal đã mở trước khi nhập\n",
    "pag.typewrite(current+\"/venv/Scripts/Activate.ps1\")\n",
    "pag.press('enter', interval=0.1)                          #Kích hoạt môi trường ảo venv\n",
    "pag.typewrite('cd Career/Career')\n",
    "pag.press('enter', interval=0.1)\n",
    "pag.typewrite('scrapy crawl career')                      #Cào Careerbuilder\n",
    "pag.press('enter', interval=0.1)"
   ]
  },
  {
   "cell_type": "code",
   "execution_count": 5,
   "metadata": {},
   "outputs": [],
   "source": [
    "pag.hotkey('shift', 'ctrl', '`')\n",
    "time.sleep(1)  # Thêm độ trễ để đảm bảo terminal đã mở trước khi nhập\n",
    "pag.typewrite(current+\"/venv/Scripts/Activate.ps1\")\n",
    "pag.press('enter', interval=0.1)                          #Kích hoạt môi trường ảo venv\n",
    "pag.typewrite('cd CareerLink/CareerLink')\n",
    "pag.press('enter', interval=0.1)\n",
    "pag.typewrite('scrapy crawl careerlink')                      #Cào CareerLink\n",
    "pag.press('enter', interval=0.1)"
   ]
  },
  {
   "cell_type": "code",
   "execution_count": 4,
   "metadata": {},
   "outputs": [],
   "source": [
    "pag.hotkey('shift', 'ctrl', '`')\n",
    "time.sleep(1)  # Thêm độ trễ để đảm bảo terminal đã mở trước khi nhập\n",
    "pag.typewrite(current+\"/venv/Scripts/Activate.ps1\")\n",
    "pag.press('enter', interval=0.1)                          #Kích hoạt môi trường ảo venv\n",
    "pag.typewrite('cd DevWork/DevWork')\n",
    "pag.press('enter', interval=0.1)\n",
    "pag.typewrite('scrapy crawl devwork')                      #Cào DevWork\n",
    "pag.press('enter', interval=0.1)"
   ]
  },
  {
   "cell_type": "code",
   "execution_count": 6,
   "metadata": {},
   "outputs": [],
   "source": [
    "pag.hotkey('shift', 'ctrl', '`')\n",
    "time.sleep(1)  # Thêm độ trễ để đảm bảo terminal đã mở trước khi nhập\n",
    "pag.typewrite(current+\"/venv/Scripts/Activate.ps1\")\n",
    "pag.press('enter', interval=0.1)                          #Kích hoạt môi trường ảo venv\n",
    "pag.typewrite('cd ITNaVi/ITNaVi')\n",
    "pag.press('enter', interval=0.1)\n",
    "pag.typewrite('scrapy crawl itnavi')                      #Cào ITNaVi\n",
    "pag.press('enter', interval=0.1)"
   ]
  },
  {
   "cell_type": "code",
   "execution_count": 7,
   "metadata": {},
   "outputs": [],
   "source": [
    "pag.hotkey('shift', 'ctrl', '`')\n",
    "time.sleep(1)  # Thêm độ trễ để đảm bảo terminal đã mở trước khi nhập\n",
    "pag.typewrite(current+\"/venv/Scripts/Activate.ps1\")\n",
    "pag.press('enter', interval=0.1)                          #Kích hoạt môi trường ảo venv\n",
    "pag.typewrite('cd TopDev/TopDev')\n",
    "pag.press('enter', interval=0.1)\n",
    "pag.typewrite('scrapy crawl scrape')                      #Cào TopDev\n",
    "pag.press('enter', interval=0.1)"
   ]
  },
  {
   "cell_type": "code",
   "execution_count": 4,
   "metadata": {},
   "outputs": [],
   "source": [
    "pag.hotkey('shift', 'ctrl', '`')\n",
    "time.sleep(1)  # Thêm độ trễ để đảm bảo terminal đã mở trước khi nhập\n",
    "pag.typewrite(current+\"/venv/Scripts/Activate.ps1\")\n",
    "pag.press('enter', interval=0.1)                          #Kích hoạt môi trường ảo venv\n",
    "pag.typewrite('cd VN_Work/VN_Work')\n",
    "pag.press('enter', interval=0.1)\n",
    "pag.typewrite('scrapy crawl vietnamwork')                      #Cào VietNamWork\n",
    "pag.press('enter', interval=0.1)"
   ]
  },
  {
   "cell_type": "code",
   "execution_count": 5,
   "metadata": {},
   "outputs": [],
   "source": [
    "pag.hotkey('shift', 'ctrl', '`')\n",
    "time.sleep(1)  # Thêm độ trễ để đảm bảo terminal đã mở trước khi nhập\n",
    "pag.typewrite(current+\"/venv/Scripts/Activate.ps1\")\n",
    "pag.press('enter', interval=0.1)                          #Kích hoạt môi trường ảo venv\n",
    "pag.typewrite('cd ViecLam24/ViecLam24')\n",
    "pag.press('enter', interval=0.1)\n",
    "pag.typewrite('scrapy crawl vieclam24')                      #Cào ViecLam24h\n",
    "pag.press('enter', interval=0.1)\n"
   ]
  },
  {
   "cell_type": "code",
   "execution_count": 6,
   "metadata": {},
   "outputs": [],
   "source": [
    "pag.hotkey('shift', 'ctrl', '`')\n",
    "time.sleep(1)  # Thêm độ trễ để đảm bảo terminal đã mở trước khi nhập\n",
    "pag.typewrite(current+\"/venv/Scripts/Activate.ps1\")\n",
    "pag.press('enter', interval=0.1)                          #Kích hoạt môi trường ảo venv\n",
    "pag.typewrite('cd StudentJob/StudentJob')\n",
    "pag.press('enter', interval=0.1)\n",
    "pag.typewrite('scrapy crawl student')                      #Cào StudentJob\n",
    "pag.press('enter', interval=0.1)"
   ]
  }
 ],
 "metadata": {
  "kernelspec": {
   "display_name": "Python 3",
   "language": "python",
   "name": "python3"
  },
  "language_info": {
   "codemirror_mode": {
    "name": "ipython",
    "version": 3
   },
   "file_extension": ".py",
   "mimetype": "text/x-python",
   "name": "python",
   "nbconvert_exporter": "python",
   "pygments_lexer": "ipython3",
   "version": "3.11.7"
  }
 },
 "nbformat": 4,
 "nbformat_minor": 2
}
