{
 "cells": [
  {
   "cell_type": "code",
   "execution_count": 11,
   "metadata": {},
   "outputs": [],
   "source": [
    "import pyautogui as pag\n",
    "import os\n",
    "import time"
   ]
  },
  {
   "cell_type": "code",
   "execution_count": 23,
   "metadata": {},
   "outputs": [],
   "source": [
    "current = os.getcwd().replace(\"\\\\\", \"/\") #Lấy vị trí hiện tại"
   ]
  },
  {
   "cell_type": "code",
   "execution_count": 25,
   "metadata": {},
   "outputs": [
    {
     "name": "stdout",
     "output_type": "stream",
     "text": [
      "e:/Scrapy_DA2/venv/Scripts/Activate.ps1\n"
     ]
    }
   ],
   "source": [
    "pag.hotkey('shift', 'ctrl', '`')\n",
    "time.sleep(1)  # Thêm độ trễ để đảm bảo terminal đã mở trước khi nhập\n",
    "print(current+\"/venv/Scripts/Activate.ps1\")\n",
    "pag.typewrite(current+\"/venv/Scripts/Activate.ps1\")\n",
    "pag.press('enter', interval=0.1)                          #Kích hoạt môi trường ảo venv\n",
    "pag.typewrite('cd Career/Career')\n",
    "pag.press('enter', interval=0.1)\n",
    "pag.typewrite('scrapy crawl career')                      #Cào CareerBuilder\n",
    "pag.press('enter', interval=0.1)"
   ]
  }
 ],
 "metadata": {
  "kernelspec": {
   "display_name": "Python 3",
   "language": "python",
   "name": "python3"
  },
  "language_info": {
   "codemirror_mode": {
    "name": "ipython",
    "version": 3
   },
   "file_extension": ".py",
   "mimetype": "text/x-python",
   "name": "python",
   "nbconvert_exporter": "python",
   "pygments_lexer": "ipython3",
   "version": "3.11.7"
  }
 },
 "nbformat": 4,
 "nbformat_minor": 2
}
