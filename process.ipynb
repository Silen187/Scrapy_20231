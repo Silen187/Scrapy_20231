{
 "cells": [
  {
   "cell_type": "markdown",
   "metadata": {},
   "source": [
    "**VUI LÒNG KHÔNG THAO TÁC BẤT CỨ THỨ GÌ SAU KHI NHẤN \"Run All\"**"
   ]
  },
  {
   "cell_type": "code",
   "execution_count": 7,
   "metadata": {},
   "outputs": [],
   "source": [
    "import pyautogui as pag\n",
    "import os\n",
    "import time"
   ]
  },
  {
   "cell_type": "code",
   "execution_count": 8,
   "metadata": {},
   "outputs": [
    {
     "name": "stdout",
     "output_type": "stream",
     "text": [
      "e:/Scrapy_DA2\n"
     ]
    }
   ],
   "source": [
    "current = os.getcwd().replace(\"\\\\\", \"/\") #Lấy vị trí hiện tại\n",
    "print(current)"
   ]
  },
  {
   "cell_type": "code",
   "execution_count": 9,
   "metadata": {},
   "outputs": [
    {
     "name": "stdout",
     "output_type": "stream",
     "text": [
      "467 109\n"
     ]
    }
   ],
   "source": [
    "x, y = pag.position()\n",
    "x_save, y_save = x, y\n",
    "print(x_save, y_save)"
   ]
  },
  {
   "cell_type": "code",
   "execution_count": 10,
   "metadata": {},
   "outputs": [],
   "source": [
    "#Career Builder\n",
    "pag.hotkey('shift', 'ctrl', '`')\n",
    "time.sleep(1)  # Thêm độ trễ để đảm bảo terminal đã mở trước khi nhập\n",
    "pag.typewrite(current+\"/venv/Scripts/Activate.ps1\")\n",
    "pag.press('enter', interval=0.1)                          #Kích hoạt môi trường ảo venv\n",
    "pag.typewrite('cd Career/Career')\n",
    "pag.press('enter', interval=0.1)\n",
    "pag.typewrite('scrapy crawl career')                      #Cào Careerbuilder\n",
    "pag.press('enter', interval=0.1)"
   ]
  },
  {
   "cell_type": "code",
   "execution_count": 11,
   "metadata": {},
   "outputs": [],
   "source": [
    "pag.hotkey('shift', 'ctrl', '`')\n",
    "time.sleep(1)  # Thêm độ trễ để đảm bảo terminal đã mở trước khi nhập\n",
    "pag.typewrite(current+\"/venv/Scripts/Activate.ps1\")\n",
    "pag.press('enter', interval=0.1)                          #Kích hoạt môi trường ảo venv\n",
    "pag.typewrite('cd CareerLink/CareerLink')\n",
    "pag.press('enter', interval=0.1)\n",
    "pag.typewrite('scrapy crawl careerlink')                      #Cào CareerLink\n",
    "pag.press('enter', interval=0.1)"
   ]
  },
  {
   "cell_type": "code",
   "execution_count": 12,
   "metadata": {},
   "outputs": [],
   "source": [
    "pag.hotkey('shift', 'ctrl', '`')\n",
    "time.sleep(1)  # Thêm độ trễ để đảm bảo terminal đã mở trước khi nhập\n",
    "pag.typewrite(current+\"/venv/Scripts/Activate.ps1\")\n",
    "pag.press('enter', interval=0.1)                          #Kích hoạt môi trường ảo venv\n",
    "pag.typewrite('cd DevWork/DevWork')\n",
    "pag.press('enter', interval=0.1)\n",
    "pag.typewrite('scrapy crawl devwork')                      #Cào DevWork\n",
    "pag.press('enter', interval=0.1)"
   ]
  },
  {
   "cell_type": "code",
   "execution_count": 13,
   "metadata": {},
   "outputs": [],
   "source": [
    "pag.hotkey('shift', 'ctrl', '`')\n",
    "time.sleep(1)  # Thêm độ trễ để đảm bảo terminal đã mở trước khi nhập\n",
    "pag.typewrite(current+\"/venv/Scripts/Activate.ps1\")\n",
    "pag.press('enter', interval=0.1)                          #Kích hoạt môi trường ảo venv\n",
    "pag.typewrite('cd ITNaVi/ITNaVi')\n",
    "pag.press('enter', interval=0.1)\n",
    "pag.typewrite('scrapy crawl itnavi')                      #Cào ITNaVi\n",
    "pag.press('enter', interval=0.1)"
   ]
  },
  {
   "cell_type": "code",
   "execution_count": 14,
   "metadata": {},
   "outputs": [],
   "source": [
    "pag.hotkey('shift', 'ctrl', '`')\n",
    "time.sleep(1)  # Thêm độ trễ để đảm bảo terminal đã mở trước khi nhập\n",
    "pag.typewrite(current+\"/venv/Scripts/Activate.ps1\")\n",
    "pag.press('enter', interval=0.1)                          #Kích hoạt môi trường ảo venv\n",
    "pag.typewrite('cd TopDev/TopDev')\n",
    "pag.press('enter', interval=0.1)\n",
    "pag.typewrite('scrapy crawl scrape')                      #Cào TopDev\n",
    "pag.press('enter', interval=0.1)"
   ]
  },
  {
   "cell_type": "code",
   "execution_count": 15,
   "metadata": {},
   "outputs": [],
   "source": [
    "pag.hotkey('shift', 'ctrl', '`')\n",
    "time.sleep(1)  # Thêm độ trễ để đảm bảo terminal đã mở trước khi nhập\n",
    "pag.typewrite(current+\"/venv/Scripts/Activate.ps1\")\n",
    "pag.press('enter', interval=0.1)                          #Kích hoạt môi trường ảo venv\n",
    "pag.typewrite('cd VN_Work/VN_Work')\n",
    "pag.press('enter', interval=0.1)\n",
    "pag.typewrite('scrapy crawl vietnamwork')                      #Cào VietNamWork\n",
    "pag.press('enter', interval=0.1)"
   ]
  },
  {
   "cell_type": "code",
   "execution_count": 16,
   "metadata": {},
   "outputs": [],
   "source": [
    "pag.hotkey('shift', 'ctrl', '`')\n",
    "time.sleep(1)  # Thêm độ trễ để đảm bảo terminal đã mở trước khi nhập\n",
    "pag.typewrite(current+\"/venv/Scripts/Activate.ps1\")\n",
    "pag.press('enter', interval=0.1)                          #Kích hoạt môi trường ảo venv\n",
    "pag.typewrite('cd ViecLam24/ViecLam24')\n",
    "pag.press('enter', interval=0.1)\n",
    "pag.typewrite('scrapy crawl vieclam24')                      #Cào ViecLam24h\n",
    "pag.press('enter', interval=0.1)\n"
   ]
  },
  {
   "cell_type": "code",
   "execution_count": 17,
   "metadata": {},
   "outputs": [],
   "source": [
    "pag.hotkey('shift', 'ctrl', '`')\n",
    "time.sleep(1)  # Thêm độ trễ để đảm bảo terminal đã mở trước khi nhập\n",
    "pag.typewrite(current+\"/venv/Scripts/Activate.ps1\")\n",
    "pag.press('enter', interval=0.1)                          #Kích hoạt môi trường ảo venv\n",
    "pag.typewrite('cd StudentJob/StudentJob')\n",
    "pag.press('enter', interval=0.1)\n",
    "pag.typewrite('scrapy crawl student')                      #Cào StudentJob\n",
    "pag.press('enter', interval=0.1)"
   ]
  },
  {
   "cell_type": "code",
   "execution_count": 18,
   "metadata": {},
   "outputs": [],
   "source": [
    "pag.hotkey('shift', 'ctrl', '`')\n",
    "time.sleep(1)  # Thêm độ trễ để đảm bảo terminal đã mở trước khi nhập\n",
    "pag.typewrite(current+\"/venv/Scripts/Activate.ps1\")\n",
    "pag.press('enter', interval=0.1)                          #Kích hoạt môi trường ảo venv\n",
    "pag.typewrite('cd joboko/joboko')\n",
    "pag.press('enter', interval=0.1)\n",
    "pag.typewrite('scrapy crawl jobokoweb')                      #Cào Joboko\n",
    "pag.press('enter', interval=0.1)"
   ]
  },
  {
   "cell_type": "code",
   "execution_count": 19,
   "metadata": {},
   "outputs": [],
   "source": [
    "pag.hotkey('shift', 'ctrl', '`')\n",
    "time.sleep(1)  # Thêm độ trễ để đảm bảo terminal đã mở trước khi nhập\n",
    "pag.typewrite(current+\"/venv/Scripts/Activate.ps1\")\n",
    "pag.press('enter', interval=0.1)                          #Kích hoạt môi trường ảo venv\n",
    "pag.typewrite('cd techwork/techwork')\n",
    "pag.press('enter', interval=0.1)\n",
    "pag.typewrite('scrapy crawl techworkweb')                      #Cào Techwork\n",
    "pag.press('enter', interval=0.1)"
   ]
  },
  {
   "cell_type": "code",
   "execution_count": 20,
   "metadata": {},
   "outputs": [],
   "source": [
    "pag.hotkey('shift', 'ctrl', '`')\n",
    "time.sleep(1)  # Thêm độ trễ để đảm bảo terminal đã mở trước khi nhập\n",
    "pag.typewrite(current+\"/venv/Scripts/Activate.ps1\")\n",
    "pag.press('enter', interval=0.1)                          #Kích hoạt môi trường ảo venv\n",
    "pag.typewrite('cd job3s/job3s')\n",
    "pag.press('enter', interval=0.1)\n",
    "pag.typewrite('scrapy crawl job3sweb')                      #Cào job3s\n",
    "pag.press('enter', interval=0.1)"
   ]
  },
  {
   "cell_type": "code",
   "execution_count": 21,
   "metadata": {},
   "outputs": [],
   "source": [
    "pag.hotkey('shift', 'ctrl', '`')\n",
    "time.sleep(1)  # Thêm độ trễ để đảm bảo terminal đã mở trước khi nhập\n",
    "pag.typewrite(current+\"/venv/Scripts/Activate.ps1\")\n",
    "pag.press('enter', interval=0.1)                          #Kích hoạt môi trường ảo venv\n",
    "pag.typewrite('cd Jobsgo/Jobsgo')\n",
    "pag.press('enter', interval=0.1)\n",
    "pag.typewrite('scrapy crawl jobsgo')                      #Cào jobsgo\n",
    "pag.press('enter', interval=0.1)"
   ]
  },
  {
   "cell_type": "code",
   "execution_count": 22,
   "metadata": {},
   "outputs": [],
   "source": [
    "pag.hotkey('shift', 'ctrl', '`')\n",
    "time.sleep(1)  # Thêm độ trễ để đảm bảo terminal đã mở trước khi nhập\n",
    "pag.typewrite(current+\"/venv/Scripts/Activate.ps1\")\n",
    "pag.press('enter', interval=0.1)                          #Kích hoạt môi trường ảo venv\n",
    "pag.typewrite('code ITViec.ipynb')\n",
    "pag.press('enter', interval=0.1)\n",
    "time.sleep(10)              #Chờ 10s để load jupyter\n",
    "pag.click(x_save, y_save)\n",
    "pag.press('enter', interval=0.1)"
   ]
  },
  {
   "cell_type": "code",
   "execution_count": 23,
   "metadata": {},
   "outputs": [],
   "source": [
    "pag.hotkey('shift', 'ctrl', '`')\n",
    "time.sleep(1)  # Thêm độ trễ để đảm bảo terminal đã mở trước khi nhập\n",
    "pag.typewrite(current+\"/venv/Scripts/Activate.ps1\")\n",
    "pag.press('enter', interval=0.1)                          #Kích hoạt môi trường ảo venv\n",
    "pag.typewrite('code job123.ipynb')\n",
    "pag.press('enter', interval=0.1)\n",
    "time.sleep(10)              #Chờ 10s để load jupyter\n",
    "pag.click(x_save, y_save)\n",
    "pag.press('enter', interval=0.1)"
   ]
  },
  {
   "cell_type": "code",
   "execution_count": 24,
   "metadata": {},
   "outputs": [],
   "source": [
    "pag.hotkey('shift', 'ctrl', '`')\n",
    "time.sleep(1)  # Thêm độ trễ để đảm bảo terminal đã mở trước khi nhập\n",
    "pag.typewrite(current+\"/venv/Scripts/Activate.ps1\")\n",
    "pag.press('enter', interval=0.1)                          #Kích hoạt môi trường ảo venv\n",
    "pag.typewrite('code TopCV.ipynb')\n",
    "pag.press('enter', interval=0.1)\n",
    "time.sleep(10)              #Chờ 10s để load jupyter\n",
    "pag.click(x_save, y_save)\n",
    "pag.press('enter', interval=0.1)"
   ]
  },
  {
   "cell_type": "code",
   "execution_count": 25,
   "metadata": {},
   "outputs": [],
   "source": [
    "pag.hotkey('shift', 'ctrl', '`')\n",
    "time.sleep(1)  # Thêm độ trễ để đảm bảo terminal đã mở trước khi nhập\n",
    "pag.typewrite(\"Da chay xong chuong trinh, ban co the thao tac binh thuong, vui long khong tat VSCode\")"
   ]
  }
 ],
 "metadata": {
  "kernelspec": {
   "display_name": "Python 3",
   "language": "python",
   "name": "python3"
  },
  "language_info": {
   "codemirror_mode": {
    "name": "ipython",
    "version": 3
   },
   "file_extension": ".py",
   "mimetype": "text/x-python",
   "name": "python",
   "nbconvert_exporter": "python",
   "pygments_lexer": "ipython3",
   "version": "3.11.7"
  }
 },
 "nbformat": 4,
 "nbformat_minor": 2
}
