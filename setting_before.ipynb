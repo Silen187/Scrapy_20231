{
 "cells": [
  {
   "cell_type": "code",
   "execution_count": 1,
   "metadata": {},
   "outputs": [],
   "source": [
    "import pyautogui as pag\n",
    "import os\n",
    "import time"
   ]
  },
  {
   "cell_type": "code",
   "execution_count": 2,
   "metadata": {},
   "outputs": [
    {
     "name": "stdout",
     "output_type": "stream",
     "text": [
      "d:/Test/Scrapy_20231\n"
     ]
    }
   ],
   "source": [
    "current = os.getcwd().replace(\"\\\\\", \"/\") #Lấy vị trí hiện tại\n",
    "print(current)"
   ]
  },
  {
   "cell_type": "code",
   "execution_count": 3,
   "metadata": {},
   "outputs": [],
   "source": [
    "\n",
    "pag.hotkey('shift', 'ctrl', '`')\n",
    "time.sleep(1)  # Thêm độ trễ để đảm bảo terminal đã mở trước khi nhập\n",
    "pag.typewrite(\"pip install bs4\\n\\\n",
    "pip install requests\\n\\\n",
    "pip install lxml\\n\\\n",
    "pip install pandas\\n\\\n",
    "pip install mysql-connector-python\\n\\\n",
    "pip install datetime\\n\\\n",
    "pip install selenium\\n\\\n",
    "pip install webdriver_manager\")\n",
    "pag.press('enter', interval=0.1)                          #Cài đặt các thư viện cần thiết ngoài ảo"
   ]
  },
  {
   "cell_type": "code",
   "execution_count": 4,
   "metadata": {},
   "outputs": [],
   "source": [
    "pag.hotkey('shift', 'ctrl', '`')\n",
    "time.sleep(1)  # Thêm độ trễ để đảm bảo terminal đã mở trước khi nhập\n",
    "pag.typewrite(f\"pip install virtualenv\\n\"\n",
    "              f\"python -m venv venv\\n\"\n",
    "              f\"{current}/venv/Scripts/Activate.ps1\\n\")\n",
    "pag.typewrite(\"pip install scrapy\\n\\\n",
    "pip install numpy\\n\\\n",
    "pip install requests\\n\\\n",
    "pip install mysql-connector-python\\n\\\n",
    "pip install datetime\\n\\\n",
    "pip install typing\\n\\\n",
    "pip install bs4\")\n",
    "pag.press('enter', interval=0.1)                          #Kích hoạt môi trường ảo venv"
   ]
  }
 ],
 "metadata": {
  "kernelspec": {
   "display_name": "Python 3",
   "language": "python",
   "name": "python3"
  },
  "language_info": {
   "codemirror_mode": {
    "name": "ipython",
    "version": 3
   },
   "file_extension": ".py",
   "mimetype": "text/x-python",
   "name": "python",
   "nbconvert_exporter": "python",
   "pygments_lexer": "ipython3",
   "version": "3.11.7"
  }
 },
 "nbformat": 4,
 "nbformat_minor": 2
}
