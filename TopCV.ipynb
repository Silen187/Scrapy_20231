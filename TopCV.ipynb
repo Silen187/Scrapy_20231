{
 "cells": [
  {
   "cell_type": "code",
   "execution_count": 1,
   "metadata": {},
   "outputs": [],
   "source": [
    "from bs4 import BeautifulSoup\n",
    "import requests\n",
    "# Parsing and creating xml data\n",
    "from lxml import etree as et\n",
    "\n",
    "# Store data as a csv file written out\n",
    "from csv import writer\n",
    "\n",
    "# In general to use with timing our function calls to Indeed\n",
    "import time\n",
    "\n",
    "# Assist with creating incremental timing for our scraping to seem more human\n",
    "from time import sleep\n",
    "\n",
    "# Dataframe stuff\n",
    "import pandas as pd\n",
    "\n",
    "# Random integer for more realistic timing for clicks, buttons and searches during scraping\n",
    "from random import randint\n",
    "\n",
    "# Multi Threading\n",
    "import threading\n",
    "\n",
    "# Threading:\n",
    "from concurrent.futures import ThreadPoolExecutor, wait\n",
    "import math\n",
    "import mysql.connector\n",
    "from datetime import date\n",
    "import json"
   ]
  },
  {
   "cell_type": "code",
   "execution_count": 2,
   "metadata": {},
   "outputs": [
    {
     "data": {
      "text/plain": [
       "'4.15.2'"
      ]
     },
     "execution_count": 2,
     "metadata": {},
     "output_type": "execute_result"
    }
   ],
   "source": [
    "import selenium\n",
    "\n",
    "# Check version I am running\n",
    "selenium.__version__"
   ]
  },
  {
   "cell_type": "code",
   "execution_count": 3,
   "metadata": {},
   "outputs": [],
   "source": [
    "from selenium import webdriver\n",
    "\n",
    "# Starting/Stopping Driver: can specify ports or location but not remote access\n",
    "from selenium.webdriver.chrome.service import Service as ChromeService\n",
    "\n",
    "# Manages Binaries needed for WebDriver without installing anything directly\n",
    "from webdriver_manager.chrome import ChromeDriverManager"
   ]
  },
  {
   "cell_type": "code",
   "execution_count": 4,
   "metadata": {},
   "outputs": [],
   "source": [
    "# Allows searchs similar to beautiful soup: find_all\n",
    "from selenium.webdriver.common.by import By\n",
    "\n",
    "# Try to establish wait times for the page to load\n",
    "from selenium.webdriver.support.ui import WebDriverWait\n",
    "\n",
    "# Wait for specific condition based on defined task: web elements, boolean are examples\n",
    "from selenium.webdriver.support import expected_conditions as EC\n",
    "\n",
    "# Used for keyboard movements, up/down, left/right,delete, etc\n",
    "from selenium.webdriver.common.keys import Keys\n",
    "\n",
    "# Locate elements on page and throw error if they do not exist\n",
    "from selenium.common.exceptions import NoSuchElementException"
   ]
  },
  {
   "cell_type": "code",
   "execution_count": 5,
   "metadata": {},
   "outputs": [
    {
     "name": "stdout",
     "output_type": "stream",
     "text": [
      "{'upgrade-insecure-requests': '1', 'user-agent': 'Mozilla/5.0 (Windows NT 10.0; Win64; x64) AppleWebKit/537.36 (KHTML, like Gecko) Chrome/80.0.3987.132 Safari/537.36', 'accept': 'text/html,application/xhtml+xml,application/xml;q=0.9,image/webp,image/apng,*/*;q=0.8,application/signed-exchange;v=b3', 'sec-ch-ua': 'Google Chrome;v=\"80\", \"Chromium\";v=\"80\", \";Not A Brand\";v=\"99\"', 'sec-ch-ua-mobile': '?0', 'sec-ch-ua-platform': 'Windows', 'sec-fetch-site': 'none', 'sec-fetch-mod': '', 'sec-fetch-user': '?1', 'accept-encoding': 'gzip', 'accept-language': 'en-US,fr;q=0.5'}\n"
     ]
    }
   ],
   "source": [
    "response = requests.get(\n",
    "  url='https://headers.scrapeops.io/v1/browser-headers',\n",
    "  params={\n",
    "      'api_key': 'cca4ced0-490d-41a0-b258-46f2ad7e74b3',\n",
    "      'num_results': '100'}\n",
    ")\n",
    "header_browser_list = response.json()\n",
    "print(header_browser_list['result'][0])"
   ]
  },
  {
   "cell_type": "code",
   "execution_count": 6,
   "metadata": {},
   "outputs": [
    {
     "name": "stdout",
     "output_type": "stream",
     "text": [
      "Mozilla/5.0 (Macintosh; Intel Mac OS X 10_14_6) AppleWebKit/537.36 (KHTML, like Gecko) Chrome/84.0.4147.105 Safari/537.36\n"
     ]
    }
   ],
   "source": [
    "response = requests.get(\n",
    "  url='https://headers.scrapeops.io/v1/user-agents',\n",
    "  params={\n",
    "      'api_key': 'cca4ced0-490d-41a0-b258-46f2ad7e74b3',\n",
    "      'num_results': '100'}\n",
    ")\n",
    "user_agent_list = response.json()\n",
    "print(user_agent_list['result'][0])"
   ]
  },
  {
   "cell_type": "code",
   "execution_count": 7,
   "metadata": {},
   "outputs": [],
   "source": [
    "random_index_user_agent = randint(0, len(user_agent_list)-1)\n",
    "random_index_header_browser = randint(0, len(header_browser_list)-1)\n",
    "user_agent_random = user_agent_list['result'][random_index_user_agent]\n",
    "header_browser_random = header_browser_list['result'][random_index_header_browser]"
   ]
  },
  {
   "cell_type": "code",
   "execution_count": 8,
   "metadata": {},
   "outputs": [],
   "source": [
    "# Allows you to cusotmize: ingonito mode, maximize window size, headless browser, disable certain features, etc\n",
    "option = webdriver.ChromeOptions()\n",
    "\n",
    "# Going undercover:\n",
    "option.add_argument(\"--incognito\")\n",
    "\n",
    "\n",
    "# # Consider this if the application works and you know how it works for speed ups and rendering!\n",
    "\n",
    "option.add_argument('--headless=chrome')\n",
    "user_agent = user_agent_random\n",
    "option.add_argument(f\"user-agent={user_agent}\")\n",
    "\n",
    "# Thêm header vào Options\n",
    "headers = header_browser_random\n",
    "\n",
    "for key, value in headers.items():\n",
    "    option.add_argument(f\"--header={key}:{value}\")"
   ]
  },
  {
   "cell_type": "code",
   "execution_count": 9,
   "metadata": {},
   "outputs": [
    {
     "name": "stdout",
     "output_type": "stream",
     "text": [
      "46\n"
     ]
    }
   ],
   "source": [
    "driver = webdriver.Chrome(service=ChromeService(ChromeDriverManager().install()),options=option)\n",
    "driver.implicitly_wait(10)  # Set the implicit wait time to 10 seconds\n",
    "driver.set_page_load_timeout(30)\n",
    "driver.get(\"https://www.topcv.vn/viec-lam-it\")\n",
    "\n",
    "job_count = driver.find_element(By.CSS_SELECTOR,'[class=\"job-header\"] h2 b').text.replace(\",\", \"\")\n",
    "if (int(job_count) % 50 == 0):\n",
    "    max_page  = int(job_count) / 50\n",
    "else:\n",
    "    max_page = math.floor(int(job_count) / 50) + 1\n",
    "print(max_page)\n",
    "driver.quit()"
   ]
  },
  {
   "cell_type": "code",
   "execution_count": 10,
   "metadata": {},
   "outputs": [],
   "source": [
    "job_urls = []\n",
    "driver = webdriver.Chrome(service=ChromeService(ChromeDriverManager().install()),options=option)\n",
    "for page_number in range(1, int(max_page+1)):\n",
    "    driver.get(f\"https://www.topcv.vn/viec-lam-it?page={page_number}\")\n",
    "    job_url_list = driver.find_elements(By.CSS_SELECTOR, '.job-item-2 h3[class=\"title\"] a')\n",
    "    for uu in job_url_list:\n",
    "        link = uu.get_attribute(\"href\")\n",
    "        job_urls.append(link)\n",
    "driver.quit()"
   ]
  },
  {
   "cell_type": "code",
   "execution_count": 11,
   "metadata": {},
   "outputs": [],
   "source": [
    "conn = mysql.connector.connect(\n",
    "    host='103.56.158.31',\n",
    "    port = 3306,\n",
    "    user= 'tuyendungUser',\n",
    "    password='sinhvienBK',\n",
    "    database= 'ThongTinTuyenDung'\n",
    ")\n",
    "cursor = conn.cursor()"
   ]
  },
  {
   "cell_type": "code",
   "execution_count": 12,
   "metadata": {},
   "outputs": [],
   "source": [
    "sql = 'INSERT IGNORE INTO Stg_ThongTin_raw(Web, Nganh, Link, TenCV, CongTy, TinhThanh, Luong, LoaiHinh, KinhNghiem, CapBac, HanNopCV, YeuCau, MoTa, PhucLoi, SoLuong) VALUES (%s, %s, %s, %s,%s,%s,%s, %s, %s, %s, %s, %s, %s, %s,%s)'"
   ]
  },
  {
   "cell_type": "code",
   "execution_count": 13,
   "metadata": {},
   "outputs": [],
   "source": [
    "sql_link = 'SELECT Link FROM Stg_ThongTin_raw where Web =\\'TopCV\\''"
   ]
  },
  {
   "cell_type": "code",
   "execution_count": 14,
   "metadata": {},
   "outputs": [],
   "source": [
    "cursor.execute(sql_link)\n",
    "result = cursor.fetchall()\n",
    "remove_url_list = [row[0] for row in result]"
   ]
  },
  {
   "cell_type": "code",
   "execution_count": 15,
   "metadata": {},
   "outputs": [
    {
     "name": "stdout",
     "output_type": "stream",
     "text": [
      "Số lượng url cào về:  2299\n",
      "Số lượng url mới lấy được sau xử lý: 116\n"
     ]
    }
   ],
   "source": [
    "print(\"Số lượng url cào về: \", len(job_urls))\n",
    "for job_url in remove_url_list:\n",
    "    if job_url in job_urls:\n",
    "        job_urls.remove(job_url)\n",
    "print(\"Số lượng url mới lấy được sau xử lý:\", len(job_urls))"
   ]
  },
  {
   "cell_type": "code",
   "execution_count": 16,
   "metadata": {},
   "outputs": [
    {
     "name": "stdout",
     "output_type": "stream",
     "text": [
      "Đang xử lí.... https://www.topcv.vn/viec-lam/senior-front-end-developer-vuejs/1202820.html?ta_source=ITJobs_LinkDetail\n",
      "Đang xử lí.... https://www.topcv.vn/viec-lam/thuc-tap-sinh-admin-co-ho-tro-dau-thuc-tap/1202825.html?ta_source=ITJobs_LinkDetail\n",
      "Đang xử lí.... https://www.topcv.vn/viec-lam/golang-technical-leader/1202636.html?ta_source=ITJobs_LinkDetail\n",
      "Đang xử lí.... https://www.topcv.vn/viec-lam/junior-java-developer/1201715.html?ta_source=ITJobs_LinkDetail\n",
      "Đang xử lí.... https://www.topcv.vn/viec-lam/nhan-vien-trien-khai-phan-mem/593821.html?ta_source=ITJobs_LinkDetail\n",
      "Đang xử lí.... https://www.topcv.vn/viec-lam/mobile-intern/1201969.html?ta_source=ITJobs_LinkDetail\n",
      "Đang xử lí.... https://www.topcv.vn/viec-lam/java-developer-middle/1202535.html?ta_source=ITJobs_LinkDetail\n",
      "Đang xử lí.... https://www.topcv.vn/viec-lam/java-developer/1122370.html?ta_source=ITJobs_LinkDetail\n",
      "Đang xử lí.... https://www.topcv.vn/viec-lam/nhan-vien-ky-thuat-trien-khai-va-bao-tri-mang/1094850.html?ta_source=ITJobs_LinkDetail\n",
      "Đang xử lí.... https://www.topcv.vn/viec-lam/qa-project-engineer-tieng-nhat-n3/1202631.html?ta_source=ITJobs_LinkDetail\n",
      "Đang xử lí.... https://www.topcv.vn/viec-lam/nhan-vien-it-helpdesk-support/1103182.html?ta_source=ITJobs_LinkDetail\n",
      "Đang xử lí.... https://www.topcv.vn/viec-lam/lap-trinh-unity-client/1180090.html?ta_source=ITJobs_LinkDetail\n",
      "Đang xử lí.... https://www.topcv.vn/viec-lam/junior-hardware-engineer/1202691.html?ta_source=ITJobs_LinkDetail\n",
      "Đang xử lí.... https://www.topcv.vn/viec-lam/senior-hardware-engineer/1202690.html?ta_source=ITJobs_LinkDetail\n",
      "Đang xử lí.... https://www.topcv.vn/viec-lam/thuc-tap-sinh-marketing/1202587.html?ta_source=ITJobs_LinkDetail\n",
      "Đang xử lí.... https://www.topcv.vn/viec-lam/nhan-vien-nhap-lieu-tieng-nhat/1175996.html?ta_source=ITJobs_LinkDetail\n",
      "Đang xử lí.... https://www.topcv.vn/viec-lam/nhan-vien-it/1200259.html?ta_source=ITJobs_LinkDetail\n",
      "Đang xử lí.... https://www.topcv.vn/viec-lam/it-comtor/733882.html?ta_source=ITJobs_LinkDetail\n",
      "Đang xử lí.... https://www.topcv.vn/viec-lam/lap-trinh-vien-java-angular-developer/1180372.html?ta_source=ITJobs_LinkDetail\n",
      "Đang xử lí.... https://www.topcv.vn/viec-lam/junior-backend-developer/943916.html?ta_source=ITJobs_LinkDetail\n",
      "Đang xử lí.... https://www.topcv.vn/viec-lam/lap-trinh-mobile-ios-android-developer/1180373.html?ta_source=ITJobs_LinkDetail\n",
      "Đang xử lí.... https://www.topcv.vn/viec-lam/junior-frontend-developer/1001124.html?ta_source=ITJobs_LinkDetail\n",
      "Đang xử lí.... https://www.topcv.vn/viec-lam/chuyen-vien-phat-trien-ung-dung-di-dong/1202328.html?ta_source=ITJobs_LinkDetail\n",
      "Đang xử lí.... https://www.topcv.vn/viec-lam/golang-tech-leader/1202526.html?ta_source=ITJobs_LinkDetail\n",
      "Đang xử lí.... https://www.topcv.vn/viec-lam/java-developer/1202625.html?ta_source=ITJobs_LinkDetail\n",
      "Đang xử lí.... https://www.topcv.vn/viec-lam/business-analyst/1202085.html?ta_source=ITJobs_LinkDetail\n",
      "Đang xử lí.... https://www.topcv.vn/viec-lam/technical-supporter-co-the-lam-remote/1202421.html?ta_source=ITJobs_LinkDetail\n",
      "Đang xử lí.... https://www.topcv.vn/viec-lam/account-executive/1140724.html?ta_source=ITJobs_LinkDetail\n",
      "Đang xử lí.... https://www.topcv.vn/viec-lam/backend-developer-tu-2-nam-kinh-nghiem/1202010.html?ta_source=ITJobs_LinkDetail\n",
      "Đang xử lí.... https://www.topcv.vn/viec-lam/web-developer/1202576.html?ta_source=ITJobs_LinkDetail\n",
      "Đang xử lí.... https://www.topcv.vn/viec-lam/nhan-vien-it-helpdesk/1202549.html?ta_source=ITJobs_LinkDetail\n",
      "Đang xử lí.... https://www.topcv.vn/viec-lam/dam-bao-chat-luong-du-an-fresher/1202586.html?ta_source=ITJobs_LinkDetail\n",
      "Đang xử lí.... https://www.topcv.vn/viec-lam/senior-product-owner/1202595.html?ta_source=ITJobs_LinkDetail\n",
      "Đang xử lí.... https://www.topcv.vn/viec-lam/thuc-tap-sinh-tieng-nhat-it-comtor-intern/1179409.html?ta_source=ITJobs_LinkDetail\n",
      "Đang xử lí.... https://www.topcv.vn/viec-lam/thuc-tap-sinh-lap-trinh-vien-python/1202387.html?ta_source=ITJobs_LinkDetail\n",
      "Đang xử lí.... https://www.topcv.vn/viec-lam/chuyen-vien-phan-tich-nghiep-vu-ba/1202324.html?ta_source=ITJobs_LinkDetail\n",
      "Đang xử lí.... https://www.topcv.vn/viec-lam/project-manager/1202531.html?ta_source=ITJobs_LinkDetail\n",
      "Đang xử lí.... https://www.topcv.vn/viec-lam/intern-tester-co-tieng-nhat/591095.html?ta_source=ITJobs_LinkDetail\n",
      "Đang xử lí.... https://www.topcv.vn/viec-lam/middle-tester/1181683.html?ta_source=ITJobs_LinkDetail\n",
      "Đang xử lí.... https://www.topcv.vn/viec-lam/lap-trinh-vien-php-laravel-vuejs/1202540.html?ta_source=ITJobs_LinkDetail\n",
      "Đang xử lí.... https://www.topcv.vn/viec-lam/tester-lead/1202356.html?ta_source=ITJobs_LinkDetail\n",
      "Đang xử lí.... https://www.topcv.vn/viec-lam/cloud-solutions-architect-senior/1202333.html?ta_source=ITJobs_LinkDetail\n",
      "Đang xử lí.... https://www.topcv.vn/viec-lam/nhan-vien-it-phan-mem-it-developer/1093187.html?ta_source=ITJobs_LinkDetail\n",
      "Đang xử lí.... https://www.topcv.vn/viec-lam/cong-tac-vien-kiem-soat-tuan-thu-khoi-cong-nghe/935944.html?ta_source=ITJobs_LinkDetail\n",
      "Đang xử lí.... https://www.topcv.vn/viec-lam/software-tester-biet-tieng-nhat/1148389.html?ta_source=ITJobs_LinkDetail\n",
      "Đang xử lí.... https://www.topcv.vn/viec-lam/net-developer-all-level/1202574.html?ta_source=ITJobs_LinkDetail\n",
      "Đang xử lí.... https://www.topcv.vn/viec-lam/lap-trinh-vien-mobile-app-flutter/1202560.html?ta_source=ITJobs_LinkDetail\n",
      "Đang xử lí.... https://www.topcv.vn/viec-lam/ky-su-mang/755033.html?ta_source=ITJobs_LinkDetail\n",
      "Đang xử lí.... https://www.topcv.vn/viec-lam/nhan-vien-digital-marketing/686652.html?ta_source=ITJobs_LinkDetail\n",
      "Đang xử lí.... https://www.topcv.vn/viec-lam/project-manager/1202372.html?ta_source=ITJobs_LinkDetail\n",
      "Đang xử lí.... https://www.topcv.vn/viec-lam/trien-khai-phan-mem/1177422.html?ta_source=ITJobs_LinkDetail\n",
      "Đang xử lí.... https://www.topcv.vn/viec-lam/manual-tester/1202534.html?ta_source=ITJobs_LinkDetail\n",
      "Đang xử lí.... https://www.topcv.vn/viec-lam/devops-engineer/1135649.html?ta_source=ITJobs_LinkDetail\n",
      "Đang xử lí.... https://www.topcv.vn/viec-lam/nhan-vien-ky-thuat-may-photocopy/633088.html?ta_source=ITJobs_LinkDetail\n",
      "Đang xử lí.... https://www.topcv.vn/viec-lam/lap-trinh-vien-net/1177408.html?ta_source=ITJobs_LinkDetail\n",
      "Đang xử lí.... https://www.topcv.vn/viec-lam/quan-tri-du-an-trien-khai-phan-mem/1177532.html?ta_source=ITJobs_LinkDetail\n",
      "Đang xử lí.... https://www.topcv.vn/viec-lam/chuyen-vien-lap-trinh-net/1177536.html?ta_source=ITJobs_LinkDetail\n",
      "Đang xử lí.... https://www.topcv.vn/viec-lam/filemaker-developer-tieng-nhat/546867.html?ta_source=ITJobs_LinkDetail\n",
      "Đang xử lí.... https://www.topcv.vn/viec-lam/mobile-developer/1202438.html?ta_source=ITJobs_LinkDetail\n",
      "Đang xử lí.... https://www.topcv.vn/viec-lam/xamarin-android-developer/1202443.html?ta_source=ITJobs_LinkDetail\n",
      "Đang xử lí.... https://www.topcv.vn/viec-lam/juniorjava-developer/1202461.html?ta_source=ITJobs_LinkDetail\n",
      "Đang xử lí.... https://www.topcv.vn/viec-lam/lap-trinh-ai-nlp/1202498.html?ta_source=ITJobs_LinkDetail\n",
      "Đang xử lí.... https://www.topcv.vn/viec-lam/game-tester-chi-tuyen-nu/1082543.html?ta_source=ITJobs_LinkDetail\n",
      "Đang xử lí.... https://www.topcv.vn/viec-lam/dev-python/1202405.html?ta_source=ITJobs_LinkDetail\n",
      "Đang xử lí.... https://www.topcv.vn/viec-lam/product-development-phat-trien-san-pham/1171870.html?ta_source=ITJobs_LinkDetail\n",
      "Đang xử lí.... https://www.topcv.vn/viec-lam/ky-su-robotics-ai/1202441.html?ta_source=ITJobs_LinkDetail\n",
      "Đang xử lí.... https://www.topcv.vn/viec-lam/chuyen-vien-sang-tao-noi-dung-content-creator/1174727.html?ta_source=ITJobs_LinkDetail\n",
      "Đang xử lí.... https://www.topcv.vn/viec-lam/middle-senior-frontend-developer-reactjs-nextjs/1202409.html?ta_source=ITJobs_LinkDetail\n",
      "Đang xử lí.... https://www.topcv.vn/viec-lam/backend-developer-aws-azure-gcp/1202411.html?ta_source=ITJobs_LinkDetail\n",
      "Đang xử lí.... https://www.topcv.vn/viec-lam/cloud-engineer/1065604.html?ta_source=ITJobs_LinkDetail\n",
      "Đang xử lí.... https://www.topcv.vn/viec-lam/middle-senior-fullstack-nodejs-reactjs/1202400.html?ta_source=ITJobs_LinkDetail\n",
      "Đang xử lí.... https://www.topcv.vn/viec-lam/front-end-angular-reactjs/1198132.html?ta_source=ITJobs_LinkDetail\n",
      "Đang xử lí.... https://www.topcv.vn/viec-lam/business-analyst-junior/1201888.html?ta_source=ITJobs_LinkDetail\n",
      "Đang xử lí.... https://www.topcv.vn/viec-lam/data-engineer/816741.html?ta_source=ITJobs_LinkDetail\n",
      "Đang xử lí.... https://www.topcv.vn/viec-lam/flutter/1202130.html?ta_source=ITJobs_LinkDetail\n",
      "Đang xử lí.... https://www.topcv.vn/viec-lam/chuyen-vien-it/1191881.html?ta_source=ITJobs_LinkDetail\n",
      "Đang xử lí.... https://www.topcv.vn/viec-lam/nhan-vien-phan-tich-nghiep-vu/1143317.html?ta_source=ITJobs_LinkDetail\n"
     ]
    }
   ],
   "source": [
    "driver = webdriver.Chrome(service=ChromeService(ChromeDriverManager().install()), options=option)\n",
    "if len(job_urls) > 0:\n",
    "    for job_url in job_urls:\n",
    "        if \"https://www.topcv.vn/brand/\" in job_url:\n",
    "            continue\n",
    "        link = job_url\n",
    "        print(\"Đang xử lí....\", link)\n",
    "        driver.get(link)\n",
    "        Web = 'TopCV'\n",
    "        Nganh = 'IT'\n",
    "        Link = link\n",
    "        TenCV = driver.find_element(By.CSS_SELECTOR, '.job-detail__info--title').text\n",
    "        CongTy = driver.find_element(By.CSS_SELECTOR, '[class=\"company-name-label\"] a').text\n",
    "        SoLuong = \"1\"\n",
    "        YeuCau = \"\"\n",
    "        MoTa = \"\"\n",
    "        PhucLoi = \"\"\n",
    "        for i in range(len(driver.find_elements(By.CSS_SELECTOR, '[class=\"job-detail__info--section\"]'))):\n",
    "            if \"Mức lương\" in driver.find_elements(By.CSS_SELECTOR, '[class=\"job-detail__info--section\"]')[i].find_element(By.CSS_SELECTOR, '[class=\"job-detail__info--section-content-title\"]').text:\n",
    "                Luong = driver.find_elements(By.CSS_SELECTOR, '[class=\"job-detail__info--section\"]')[i].find_element(By.CSS_SELECTOR, '[class=\"job-detail__info--section-content-value\"]').text\n",
    "            if \"Địa điểm\" in driver.find_elements(By.CSS_SELECTOR, '[class=\"job-detail__info--section\"]')[i].find_element(By.CSS_SELECTOR, '[class=\"job-detail__info--section-content-title\"]').text:\n",
    "                TinhThanh = driver.find_elements(By.CSS_SELECTOR, '[class=\"job-detail__info--section\"]')[i].find_element(By.CSS_SELECTOR, '[class=\"job-detail__info--section-content-value\"]').text\n",
    "        try:\n",
    "            HanNopCV = driver.find_element(By.CSS_SELECTOR, '[class=\"job-detail__info--deadline\"]').text.split(\":\")[-1].strip()\n",
    "        except:\n",
    "            HanNopCV = date.today()\n",
    "        soup = BeautifulSoup(driver.page_source, 'html.parser')\n",
    "        List = soup.find_all('div', class_='job-description__item')\n",
    "        YeuCau = List[1].text\n",
    "        MoTa = List[0].text\n",
    "        PhucLoi = List[2].text\n",
    "        for i in range(len(soup.find_all('div', class_='box-general-group'))):\n",
    "            if \"Số lượng tuyển\" in soup.find_all('div', class_='box-general-group')[i].find('div', class_='box-general-group-info-title').text:\n",
    "                SoLuong = soup.find_all('div', class_='box-general-group')[i].find('div', class_='box-general-group-info-value').text.split()[0]\n",
    "            if \"Hình thức làm việc\" in soup.find_all('div', class_='box-general-group')[i].find('div', class_='box-general-group-info-title').text:\n",
    "                LoaiHinh = soup.find_all('div', class_='box-general-group')[i].find('div', class_='box-general-group-info-value').text\n",
    "            try:\n",
    "                if \"Kinh nghiệm\" in soup.find_all('div', class_='box-general-group')[i].find('div', class_='box-general-group-info-title').text:\n",
    "                    KinhNghiem = soup.find_all('div', class_='box-general-group')[i].find('div', class_='box-general-group-info-value').text\n",
    "            except:\n",
    "                KinhNghiem = \"Không có\"\n",
    "            if \"Cấp bậc\" in soup.find_all('div', class_='box-general-group')[i].find('div', class_='box-general-group-info-title').text:\n",
    "                CapBac = soup.find_all('div', class_='box-general-group')[i].find('div', class_='box-general-group-info-value').text\n",
    "        cursor.execute(sql, (Web, Nganh, Link, TenCV, CongTy, TinhThanh, Luong, LoaiHinh, KinhNghiem, CapBac, HanNopCV, YeuCau, MoTa, PhucLoi, SoLuong))\n",
    "        conn.commit()\n",
    "else:\n",
    "    print(\"Không có tin mới để thêm.\")\n",
    "driver.quit()\n",
    "cursor.close()\n",
    "conn.close()\n"
   ]
  },
  {
   "cell_type": "code",
   "execution_count": 17,
   "metadata": {},
   "outputs": [
    {
     "name": "stdout",
     "output_type": "stream",
     "text": [
      "['https://www.topcv.vn/brand/minupte/tuyen-dung/marketing-mobile-app-aso-j1195341.html?ta_source=ITJobs_LinkDetail', 'https://www.topcv.vn/brand/tek-experts/tuyen-dung/it-support-engineers-microsoft-software-support-fresher-experienced-j654470.html?ta_source=ITJobs_LinkDetail', 'https://www.topcv.vn/viec-lam/senior-front-end-developer-vuejs/1202820.html?ta_source=ITJobs_LinkDetail', 'https://www.topcv.vn/viec-lam/thuc-tap-sinh-admin-co-ho-tro-dau-thuc-tap/1202825.html?ta_source=ITJobs_LinkDetail', 'https://www.topcv.vn/viec-lam/golang-technical-leader/1202636.html?ta_source=ITJobs_LinkDetail', 'https://www.topcv.vn/brand/avadagroup/tuyen-dung/full-stack-developer-nodejs-reactjs-j1043437.html?ta_source=ITJobs_LinkDetail', 'https://www.topcv.vn/viec-lam/junior-java-developer/1201715.html?ta_source=ITJobs_LinkDetail', 'https://www.topcv.vn/viec-lam/nhan-vien-trien-khai-phan-mem/593821.html?ta_source=ITJobs_LinkDetail', 'https://www.topcv.vn/viec-lam/mobile-intern/1201969.html?ta_source=ITJobs_LinkDetail', 'https://www.topcv.vn/viec-lam/java-developer-middle/1202535.html?ta_source=ITJobs_LinkDetail', 'https://www.topcv.vn/viec-lam/java-developer/1122370.html?ta_source=ITJobs_LinkDetail', 'https://www.topcv.vn/viec-lam/nhan-vien-ky-thuat-trien-khai-va-bao-tri-mang/1094850.html?ta_source=ITJobs_LinkDetail', 'https://www.topcv.vn/viec-lam/qa-project-engineer-tieng-nhat-n3/1202631.html?ta_source=ITJobs_LinkDetail', 'https://www.topcv.vn/viec-lam/nhan-vien-it-helpdesk-support/1103182.html?ta_source=ITJobs_LinkDetail', 'https://www.topcv.vn/viec-lam/lap-trinh-unity-client/1180090.html?ta_source=ITJobs_LinkDetail', 'https://www.topcv.vn/viec-lam/junior-hardware-engineer/1202691.html?ta_source=ITJobs_LinkDetail', 'https://www.topcv.vn/viec-lam/senior-hardware-engineer/1202690.html?ta_source=ITJobs_LinkDetail', 'https://www.topcv.vn/viec-lam/thuc-tap-sinh-marketing/1202587.html?ta_source=ITJobs_LinkDetail', 'https://www.topcv.vn/viec-lam/nhan-vien-nhap-lieu-tieng-nhat/1175996.html?ta_source=ITJobs_LinkDetail', 'https://www.topcv.vn/viec-lam/nhan-vien-it/1200259.html?ta_source=ITJobs_LinkDetail', 'https://www.topcv.vn/viec-lam/it-comtor/733882.html?ta_source=ITJobs_LinkDetail', 'https://www.topcv.vn/viec-lam/lap-trinh-vien-java-angular-developer/1180372.html?ta_source=ITJobs_LinkDetail', 'https://www.topcv.vn/viec-lam/junior-backend-developer/943916.html?ta_source=ITJobs_LinkDetail', 'https://www.topcv.vn/viec-lam/lap-trinh-mobile-ios-android-developer/1180373.html?ta_source=ITJobs_LinkDetail', 'https://www.topcv.vn/viec-lam/junior-frontend-developer/1001124.html?ta_source=ITJobs_LinkDetail', 'https://www.topcv.vn/viec-lam/chuyen-vien-phat-trien-ung-dung-di-dong/1202328.html?ta_source=ITJobs_LinkDetail', 'https://www.topcv.vn/viec-lam/golang-tech-leader/1202526.html?ta_source=ITJobs_LinkDetail', 'https://www.topcv.vn/viec-lam/java-developer/1202625.html?ta_source=ITJobs_LinkDetail', 'https://www.topcv.vn/viec-lam/business-analyst/1202085.html?ta_source=ITJobs_LinkDetail', 'https://www.topcv.vn/viec-lam/technical-supporter-co-the-lam-remote/1202421.html?ta_source=ITJobs_LinkDetail', 'https://www.topcv.vn/viec-lam/account-executive/1140724.html?ta_source=ITJobs_LinkDetail', 'https://www.topcv.vn/viec-lam/backend-developer-tu-2-nam-kinh-nghiem/1202010.html?ta_source=ITJobs_LinkDetail', 'https://www.topcv.vn/viec-lam/web-developer/1202576.html?ta_source=ITJobs_LinkDetail', 'https://www.topcv.vn/viec-lam/nhan-vien-it-helpdesk/1202549.html?ta_source=ITJobs_LinkDetail', 'https://www.topcv.vn/viec-lam/dam-bao-chat-luong-du-an-fresher/1202586.html?ta_source=ITJobs_LinkDetail', 'https://www.topcv.vn/viec-lam/senior-product-owner/1202595.html?ta_source=ITJobs_LinkDetail', 'https://www.topcv.vn/viec-lam/thuc-tap-sinh-tieng-nhat-it-comtor-intern/1179409.html?ta_source=ITJobs_LinkDetail', 'https://www.topcv.vn/viec-lam/thuc-tap-sinh-lap-trinh-vien-python/1202387.html?ta_source=ITJobs_LinkDetail', 'https://www.topcv.vn/viec-lam/chuyen-vien-phan-tich-nghiep-vu-ba/1202324.html?ta_source=ITJobs_LinkDetail', 'https://www.topcv.vn/viec-lam/project-manager/1202531.html?ta_source=ITJobs_LinkDetail', 'https://www.topcv.vn/viec-lam/intern-tester-co-tieng-nhat/591095.html?ta_source=ITJobs_LinkDetail', 'https://www.topcv.vn/viec-lam/middle-tester/1181683.html?ta_source=ITJobs_LinkDetail', 'https://www.topcv.vn/viec-lam/lap-trinh-vien-php-laravel-vuejs/1202540.html?ta_source=ITJobs_LinkDetail', 'https://www.topcv.vn/viec-lam/tester-lead/1202356.html?ta_source=ITJobs_LinkDetail', 'https://www.topcv.vn/viec-lam/cloud-solutions-architect-senior/1202333.html?ta_source=ITJobs_LinkDetail', 'https://www.topcv.vn/viec-lam/nhan-vien-it-phan-mem-it-developer/1093187.html?ta_source=ITJobs_LinkDetail', 'https://www.topcv.vn/viec-lam/cong-tac-vien-kiem-soat-tuan-thu-khoi-cong-nghe/935944.html?ta_source=ITJobs_LinkDetail', 'https://www.topcv.vn/viec-lam/software-tester-biet-tieng-nhat/1148389.html?ta_source=ITJobs_LinkDetail', 'https://www.topcv.vn/viec-lam/net-developer-all-level/1202574.html?ta_source=ITJobs_LinkDetail', 'https://www.topcv.vn/viec-lam/lap-trinh-vien-mobile-app-flutter/1202560.html?ta_source=ITJobs_LinkDetail', 'https://www.topcv.vn/viec-lam/ky-su-mang/755033.html?ta_source=ITJobs_LinkDetail', 'https://www.topcv.vn/viec-lam/nhan-vien-digital-marketing/686652.html?ta_source=ITJobs_LinkDetail', 'https://www.topcv.vn/viec-lam/project-manager/1202372.html?ta_source=ITJobs_LinkDetail', 'https://www.topcv.vn/viec-lam/trien-khai-phan-mem/1177422.html?ta_source=ITJobs_LinkDetail', 'https://www.topcv.vn/viec-lam/manual-tester/1202534.html?ta_source=ITJobs_LinkDetail', 'https://www.topcv.vn/viec-lam/devops-engineer/1135649.html?ta_source=ITJobs_LinkDetail', 'https://www.topcv.vn/viec-lam/nhan-vien-ky-thuat-may-photocopy/633088.html?ta_source=ITJobs_LinkDetail', 'https://www.topcv.vn/viec-lam/lap-trinh-vien-net/1177408.html?ta_source=ITJobs_LinkDetail', 'https://www.topcv.vn/viec-lam/quan-tri-du-an-trien-khai-phan-mem/1177532.html?ta_source=ITJobs_LinkDetail', 'https://www.topcv.vn/viec-lam/chuyen-vien-lap-trinh-net/1177536.html?ta_source=ITJobs_LinkDetail', 'https://www.topcv.vn/viec-lam/filemaker-developer-tieng-nhat/546867.html?ta_source=ITJobs_LinkDetail', 'https://www.topcv.vn/viec-lam/mobile-developer/1202438.html?ta_source=ITJobs_LinkDetail', 'https://www.topcv.vn/viec-lam/xamarin-android-developer/1202443.html?ta_source=ITJobs_LinkDetail', 'https://www.topcv.vn/viec-lam/juniorjava-developer/1202461.html?ta_source=ITJobs_LinkDetail', 'https://www.topcv.vn/viec-lam/lap-trinh-ai-nlp/1202498.html?ta_source=ITJobs_LinkDetail', 'https://www.topcv.vn/viec-lam/game-tester-chi-tuyen-nu/1082543.html?ta_source=ITJobs_LinkDetail', 'https://www.topcv.vn/viec-lam/dev-python/1202405.html?ta_source=ITJobs_LinkDetail', 'https://www.topcv.vn/viec-lam/product-development-phat-trien-san-pham/1171870.html?ta_source=ITJobs_LinkDetail', 'https://www.topcv.vn/viec-lam/ky-su-robotics-ai/1202441.html?ta_source=ITJobs_LinkDetail', 'https://www.topcv.vn/viec-lam/chuyen-vien-sang-tao-noi-dung-content-creator/1174727.html?ta_source=ITJobs_LinkDetail', 'https://www.topcv.vn/viec-lam/middle-senior-frontend-developer-reactjs-nextjs/1202409.html?ta_source=ITJobs_LinkDetail', 'https://www.topcv.vn/viec-lam/backend-developer-aws-azure-gcp/1202411.html?ta_source=ITJobs_LinkDetail', 'https://www.topcv.vn/viec-lam/cloud-engineer/1065604.html?ta_source=ITJobs_LinkDetail', 'https://www.topcv.vn/viec-lam/middle-senior-fullstack-nodejs-reactjs/1202400.html?ta_source=ITJobs_LinkDetail', 'https://www.topcv.vn/viec-lam/front-end-angular-reactjs/1198132.html?ta_source=ITJobs_LinkDetail', 'https://www.topcv.vn/viec-lam/business-analyst-junior/1201888.html?ta_source=ITJobs_LinkDetail', 'https://www.topcv.vn/viec-lam/data-engineer/816741.html?ta_source=ITJobs_LinkDetail', 'https://www.topcv.vn/brand/fptedu/tuyen-dung/can-bo-ky-thuat-ha-tang-fsc-hp-j1138560.html?ta_source=ITJobs_LinkDetail', 'https://www.topcv.vn/viec-lam/flutter/1202130.html?ta_source=ITJobs_LinkDetail', 'https://www.topcv.vn/brand/minupte/tuyen-dung/chuyen-vien-toi-uu-quang-cao-ung-dung-j1202159.html?ta_source=ITJobs_LinkDetail', 'https://www.topcv.vn/brand/boschglobalsoftwaretechnologies/tuyen-dung/software-packager-intern-j1201265.html?ta_source=ITJobs_LinkDetail', 'https://www.topcv.vn/brand/fptedu/tuyen-dung/giang-vien-cong-nghe-thong-tin-j1200228.html?ta_source=ITJobs_LinkDetail', 'https://www.topcv.vn/brand/avadagroup/tuyen-dung/business-analyst-j1047298.html?ta_source=ITJobs_LinkDetail', 'https://www.topcv.vn/brand/topcv/tuyen-dung/devops-leader-j922280.html?ta_source=ITJobs_LinkDetail', 'https://www.topcv.vn/brand/smartosc/tuyen-dung/thuc-tap-sinh-trai-nghiem-va-gan-ket-nhan-vien-j1199715.html?ta_source=ITJobs_LinkDetail', 'https://www.topcv.vn/brand/fptedu/tuyen-dung/can-bo-nghien-cuu-phat-trien-ung-dung-j1189313.html?ta_source=ITJobs_LinkDetail', 'https://www.topcv.vn/brand/niteco/tuyen-dung/it-specialist-j1198934.html?ta_source=ITJobs_LinkDetail', 'https://www.topcv.vn/brand/vuihoc/tuyen-dung/truong-nhom-data-j1198971.html?ta_source=ITJobs_LinkDetail', 'https://www.topcv.vn/brand/educa/tuyen-dung/middle-senior-flutter-developer-j1197506.html?ta_source=ITJobs_LinkDetail', 'https://www.topcv.vn/brand/congnghiepvienthongquandoi/tuyen-dung/senior-data-engineer-thu-nhap-hap-dan-j1187424.html?ta_source=ITJobs_LinkDetail', 'https://www.topcv.vn/brand/chinhanhtranscosmoshochiminh/tuyen-dung/it-support-it-helpdesk-deskside-support-engineer-j1197400.html?ta_source=ITJobs_LinkDetail', 'https://www.topcv.vn/brand/tekyholdings/tuyen-dung/co-van-giao-duc-j1139408.html?ta_source=ITJobs_LinkDetail', 'https://www.topcv.vn/brand/tekyholdings/tuyen-dung/giao-vien-su-pham-tu-nhien-cntt-truyen-thong-j158150.html?ta_source=ITJobs_LinkDetail', 'https://www.topcv.vn/brand/tekyholdings/tuyen-dung/giao-vien-su-pham-ky-thuat-cong-nghe-thong-tin-j1072736.html?ta_source=ITJobs_LinkDetail', 'https://www.topcv.vn/brand/congtycophanmisa/tuyen-dung/business-analyst-j1196856.html?ta_source=ITJobs_LinkDetail', 'https://www.topcv.vn/brand/congtycophanmisa/tuyen-dung/tester-qc-j1196863.html?ta_source=ITJobs_LinkDetail', 'https://www.topcv.vn/viec-lam/chuyen-vien-it/1191881.html?ta_source=ITJobs_LinkDetail', 'https://www.topcv.vn/brand/chailease/tuyen-dung/net-developer-j1160466.html?ta_source=ITJobs_LinkDetail', 'https://www.topcv.vn/brand/smartosc/tuyen-dung/project-manager-salary-upto-3500-j1185548.html?ta_source=ITJobs_LinkDetail', 'https://www.topcv.vn/brand/smartosc/tuyen-dung/reactjs-developer-tieng-anh-giao-tiep-tot-upto-2300-j1185564.html?ta_source=ITJobs_LinkDetail', 'https://www.topcv.vn/brand/vuihoc/tuyen-dung/truong-phong-data-analyst-j1194486.html?ta_source=ITJobs_LinkDetail', 'https://www.topcv.vn/brand/fptedu/tuyen-dung/giang-vien-cong-nghe-thong-tin-j1148672.html?ta_source=ITJobs_LinkDetail', 'https://www.topcv.vn/brand/newwavesolutions/tuyen-dung/middle-senior-java-developer-english-speaking-j1193926.html?ta_source=ITJobs_LinkDetail', 'https://www.topcv.vn/brand/smartosc/tuyen-dung/fresher-nodejs-j1078691.html?ta_source=ITJobs_LinkDetail', 'https://www.topcv.vn/brand/smartosc/tuyen-dung/fresher-reactjs-j1165767.html?ta_source=ITJobs_LinkDetail', 'https://www.topcv.vn/brand/niteco/tuyen-dung/net-tech-lead-j1106729.html?ta_source=ITJobs_LinkDetail', 'https://www.topcv.vn/brand/niteco/tuyen-dung/frontend-tech-lead-j1106727.html?ta_source=ITJobs_LinkDetail', 'https://www.topcv.vn/brand/fptedu/tuyen-dung/can-bo-ky-thuat-ha-tang-fsc-bn-j1153100.html?ta_source=ITJobs_LinkDetail', 'https://www.topcv.vn/brand/smartosc/tuyen-dung/fresher-mobile-developer-j1157792.html?ta_source=ITJobs_LinkDetail', 'https://www.topcv.vn/brand/smartosc/tuyen-dung/fresher-vuejs-developer-j1190857.html?ta_source=ITJobs_LinkDetail', 'https://www.topcv.vn/brand/niteco/tuyen-dung/adobe-commerce-magento-tech-lead-j1134389.html?ta_source=ITJobs_LinkDetail', 'https://www.topcv.vn/brand/congnghiepvienthongquandoi/tuyen-dung/junior-data-engineer-j1141600.html?ta_source=ITJobs_LinkDetail', 'https://www.topcv.vn/brand/avadagroup/tuyen-dung/magento-developer-j1185990.html?ta_source=ITJobs_LinkDetail', 'https://www.topcv.vn/brand/topcv/tuyen-dung/devops-engineer-focus-on-data-infrastructure-j1006122.html?ta_source=ITJobs_LinkDetail', 'https://www.topcv.vn/viec-lam/nhan-vien-phan-tich-nghiep-vu/1143317.html?ta_source=ITJobs_LinkDetail', 'https://www.topcv.vn/brand/avadagroup/tuyen-dung/technical-support-j1056104.html?ta_source=ITJobs_LinkDetail']\n"
     ]
    }
   ],
   "source": [
    "print(job_urls)"
   ]
  }
 ],
 "metadata": {
  "kernelspec": {
   "display_name": "Python 3",
   "language": "python",
   "name": "python3"
  },
  "language_info": {
   "codemirror_mode": {
    "name": "ipython",
    "version": 3
   },
   "file_extension": ".py",
   "mimetype": "text/x-python",
   "name": "python",
   "nbconvert_exporter": "python",
   "pygments_lexer": "ipython3",
   "version": "3.11.7"
  }
 },
 "nbformat": 4,
 "nbformat_minor": 2
}
