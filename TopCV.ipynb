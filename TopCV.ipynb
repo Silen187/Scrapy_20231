{
 "cells": [
  {
   "cell_type": "code",
   "execution_count": 1,
   "metadata": {},
   "outputs": [],
   "source": [
    "from bs4 import BeautifulSoup\n",
    "import requests\n",
    "# Parsing and creating xml data\n",
    "from lxml import etree as et\n",
    "\n",
    "# Store data as a csv file written out\n",
    "from csv import writer\n",
    "\n",
    "# In general to use with timing our function calls to Indeed\n",
    "import time\n",
    "\n",
    "# Assist with creating incremental timing for our scraping to seem more human\n",
    "from time import sleep\n",
    "\n",
    "# Dataframe stuff\n",
    "import pandas as pd\n",
    "\n",
    "# Random integer for more realistic timing for clicks, buttons and searches during scraping\n",
    "from random import randint\n",
    "\n",
    "# Multi Threading\n",
    "import threading\n",
    "\n",
    "# Threading:\n",
    "from concurrent.futures import ThreadPoolExecutor, wait\n",
    "import math\n",
    "import mysql.connector\n",
    "from datetime import date\n",
    "import json"
   ]
  },
  {
   "cell_type": "code",
   "execution_count": 2,
   "metadata": {},
   "outputs": [
    {
     "data": {
      "text/plain": [
       "'4.17.2'"
      ]
     },
     "execution_count": 2,
     "metadata": {},
     "output_type": "execute_result"
    }
   ],
   "source": [
    "import selenium\n",
    "\n",
    "# Check version I am running\n",
    "selenium.__version__"
   ]
  },
  {
   "cell_type": "code",
   "execution_count": 3,
   "metadata": {},
   "outputs": [],
   "source": [
    "from selenium import webdriver\n",
    "\n",
    "# Starting/Stopping Driver: can specify ports or location but not remote access\n",
    "from selenium.webdriver.chrome.service import Service as ChromeService\n",
    "\n",
    "# Manages Binaries needed for WebDriver without installing anything directly\n",
    "from webdriver_manager.chrome import ChromeDriverManager"
   ]
  },
  {
   "cell_type": "code",
   "execution_count": 4,
   "metadata": {},
   "outputs": [],
   "source": [
    "# Allows searchs similar to beautiful soup: find_all\n",
    "from selenium.webdriver.common.by import By\n",
    "\n",
    "# Try to establish wait times for the page to load\n",
    "from selenium.webdriver.support.ui import WebDriverWait\n",
    "\n",
    "# Wait for specific condition based on defined task: web elements, boolean are examples\n",
    "from selenium.webdriver.support import expected_conditions as EC\n",
    "\n",
    "# Used for keyboard movements, up/down, left/right,delete, etc\n",
    "from selenium.webdriver.common.keys import Keys\n",
    "\n",
    "# Locate elements on page and throw error if they do not exist\n",
    "from selenium.common.exceptions import NoSuchElementException"
   ]
  },
  {
   "cell_type": "code",
   "execution_count": 5,
   "metadata": {},
   "outputs": [
    {
     "name": "stdout",
     "output_type": "stream",
     "text": [
      "{'upgrade-insecure-requests': '1', 'user-agent': 'Mozilla/5.0 (Windows NT 10.0; Win64; x64) AppleWebKit/537.36 (KHTML, like Gecko) Chrome/88.0.4324.182 Safari/537.36 Edg/88.0.705.81', 'accept': 'text/html,application/xhtml+xml,application/xml;q=0.9,image/webp,image/apng,*/*;q=0.8,application/signed-exchange;v=b3', 'sec-ch-ua': 'Microsoft Edge;v=\"88\", \"Chromium\";v=\"88\", \";Not A Brand\";v=\"99\"', 'sec-ch-ua-mobile': '?0', 'sec-ch-ua-platform': 'Windows', 'sec-fetch-site': 'none', 'sec-fetch-mod': '', 'sec-fetch-user': '?1', 'accept-encoding': 'gzip', 'accept-language': 'en-US,it;q=0.6'}\n"
     ]
    }
   ],
   "source": [
    "response = requests.get(\n",
    "  url='https://headers.scrapeops.io/v1/browser-headers',\n",
    "  params={\n",
    "      'api_key': 'cca4ced0-490d-41a0-b258-46f2ad7e74b3',\n",
    "      'num_results': '100'}\n",
    ")\n",
    "header_browser_list = response.json()\n",
    "print(header_browser_list['result'][0])"
   ]
  },
  {
   "cell_type": "code",
   "execution_count": 6,
   "metadata": {},
   "outputs": [
    {
     "name": "stdout",
     "output_type": "stream",
     "text": [
      "Mozilla/5.0 (Windows NT 10.0; Win64; x64) AppleWebKit/537.36 (KHTML, like Gecko) Chrome/89.0.4389.82 Safari/537.36\n"
     ]
    }
   ],
   "source": [
    "response = requests.get(\n",
    "  url='https://headers.scrapeops.io/v1/user-agents',\n",
    "  params={\n",
    "      'api_key': 'cca4ced0-490d-41a0-b258-46f2ad7e74b3',\n",
    "      'num_results': '100'}\n",
    ")\n",
    "user_agent_list = response.json()\n",
    "print(user_agent_list['result'][0])"
   ]
  },
  {
   "cell_type": "code",
   "execution_count": 7,
   "metadata": {},
   "outputs": [],
   "source": [
    "random_index_user_agent = randint(0, len(user_agent_list)-1)\n",
    "random_index_header_browser = randint(0, len(header_browser_list)-1)\n",
    "user_agent_random = user_agent_list['result'][random_index_user_agent]\n",
    "header_browser_random = header_browser_list['result'][random_index_header_browser]"
   ]
  },
  {
   "cell_type": "code",
   "execution_count": 8,
   "metadata": {},
   "outputs": [],
   "source": [
    "# Allows you to cusotmize: ingonito mode, maximize window size, headless browser, disable certain features, etc\n",
    "option = webdriver.ChromeOptions()\n",
    "\n",
    "# Going undercover:\n",
    "option.add_argument(\"--incognito\")\n",
    "\n",
    "\n",
    "# # Consider this if the application works and you know how it works for speed ups and rendering!\n",
    "\n",
    "option.add_argument('--headless=chrome')\n",
    "user_agent = user_agent_random\n",
    "option.add_argument(f\"user-agent={user_agent}\")\n",
    "\n",
    "# Thêm header vào Options\n",
    "headers = header_browser_random\n",
    "\n",
    "for key, value in headers.items():\n",
    "    option.add_argument(f\"--header={key}:{value}\")"
   ]
  },
  {
   "cell_type": "code",
   "execution_count": 9,
   "metadata": {},
   "outputs": [
    {
     "name": "stdout",
     "output_type": "stream",
     "text": [
      "47\n"
     ]
    }
   ],
   "source": [
    "driver = webdriver.Chrome(service=ChromeService(ChromeDriverManager().install()),options=option)\n",
    "driver.implicitly_wait(10)  # Set the implicit wait time to 10 seconds\n",
    "driver.set_page_load_timeout(30)\n",
    "driver.get(\"https://www.topcv.vn/viec-lam-it\")\n",
    "\n",
    "job_count = driver.find_element(By.CSS_SELECTOR,'[class=\"job-header\"] h2 b').text.replace(\",\", \"\")\n",
    "if (int(job_count) % 50 == 0):\n",
    "    max_page  = int(job_count) / 50\n",
    "else:\n",
    "    max_page = math.floor(int(job_count) / 50) + 1\n",
    "print(max_page)\n",
    "driver.quit()"
   ]
  },
  {
   "cell_type": "code",
   "execution_count": 10,
   "metadata": {},
   "outputs": [],
   "source": [
    "job_urls = []\n",
    "driver = webdriver.Chrome(service=ChromeService(ChromeDriverManager().install()),options=option)\n",
    "for page_number in range(1, int(max_page+1)):\n",
    "    driver.get(f\"https://www.topcv.vn/viec-lam-it?page={page_number}\")\n",
    "    job_url_list = driver.find_elements(By.CSS_SELECTOR, '.job-item-2 h3[class=\"title\"] a')\n",
    "    for uu in job_url_list:\n",
    "        link = uu.get_attribute(\"href\")\n",
    "        job_urls.append(link)\n",
    "driver.quit()"
   ]
  },
  {
   "cell_type": "code",
   "execution_count": 11,
   "metadata": {},
   "outputs": [],
   "source": [
    "conn = mysql.connector.connect(\n",
    "    host='103.56.158.31',\n",
    "    port = 3306,\n",
    "    user= 'tuyendungUser',\n",
    "    password='sinhvienBK',\n",
    "    database= 'ThongTinTuyenDung'\n",
    ")\n",
    "cursor = conn.cursor()"
   ]
  },
  {
   "cell_type": "code",
   "execution_count": 12,
   "metadata": {},
   "outputs": [],
   "source": [
    "sql = 'INSERT IGNORE INTO Stg_ThongTin_raw(Web, Nganh, Link, TenCV, CongTy, TinhThanh, Luong, LoaiHinh, KinhNghiem, CapBac, HanNopCV, YeuCau, MoTa, PhucLoi, SoLuong) VALUES (%s, %s, %s, %s,%s,%s,%s, %s, %s, %s, %s, %s, %s, %s,%s)'"
   ]
  },
  {
   "cell_type": "code",
   "execution_count": 13,
   "metadata": {},
   "outputs": [],
   "source": [
    "sql_link = 'SELECT Link FROM Stg_ThongTin_raw where Web =\\'TopCV\\''"
   ]
  },
  {
   "cell_type": "code",
   "execution_count": 14,
   "metadata": {},
   "outputs": [],
   "source": [
    "cursor.execute(sql_link)\n",
    "result = cursor.fetchall()\n",
    "remove_url_list = [row[0] for row in result]"
   ]
  },
  {
   "cell_type": "code",
   "execution_count": 15,
   "metadata": {},
   "outputs": [
    {
     "name": "stdout",
     "output_type": "stream",
     "text": [
      "Số lượng url cào về:  2335\n",
      "Số lượng url mới lấy được sau xử lý: 1460\n"
     ]
    }
   ],
   "source": [
    "print(\"Số lượng url cào về: \", len(job_urls))\n",
    "for job_url in remove_url_list:\n",
    "    if job_url in job_urls:\n",
    "        job_urls.remove(job_url)\n",
    "print(\"Số lượng url mới lấy được sau xử lý:\", len(job_urls))"
   ]
  },
  {
   "cell_type": "code",
   "execution_count": 16,
   "metadata": {},
   "outputs": [
    {
     "name": "stdout",
     "output_type": "stream",
     "text": [
      "Đang xử lí.... https://www.topcv.vn/viec-lam/flutter-engineer-android-ios/1218061.html?ta_source=ITJobs_LinkDetail\n",
      "Đang xử lí.... https://www.topcv.vn/viec-lam/technical-customer-support-chinese-speaking/1218870.html?ta_source=ITJobs_LinkDetail\n",
      "Đang xử lí.... https://www.topcv.vn/viec-lam/senior-data-scientist/1207582.html?ta_source=ITJobs_LinkDetail\n",
      "Đang xử lí.... https://www.topcv.vn/viec-lam/java-developer-2500-di-lam-sau-tet/1215833.html?ta_source=ITJobs_LinkDetail\n",
      "Đang xử lí.... https://www.topcv.vn/viec-lam/web-developer-fullstack-nodejs-javascript/1218071.html?ta_source=ITJobs_LinkDetail\n",
      "Đang xử lí.... https://www.topcv.vn/viec-lam/ui-designer-luong-tu-20m/1211669.html?ta_source=ITJobs_LinkDetail\n",
      "Đang xử lí.... https://www.topcv.vn/viec-lam/project-manager-truong-nhom-du-an-chinh-ly-va-so-hoa-tai-lieu/1214918.html?ta_source=ITJobs_LinkDetail\n"
     ]
    },
    {
     "ename": "NoSuchElementException",
     "evalue": "Message: no such element: Unable to locate element: {\"method\":\"css selector\",\"selector\":\".job-detail__info--title\"}\n  (Session info: chrome-headless-shell=120.0.6099.225); For documentation on this error, please visit: https://www.selenium.dev/documentation/webdriver/troubleshooting/errors#no-such-element-exception\nStacktrace:\n\tGetHandleVerifier [0x00996EE3+174339]\n\t(No symbol) [0x008C0A51]\n\t(No symbol) [0x005D6FF6]\n\t(No symbol) [0x00609876]\n\t(No symbol) [0x00609C2C]\n\t(No symbol) [0x0063BD42]\n\t(No symbol) [0x00627054]\n\t(No symbol) [0x0063A104]\n\t(No symbol) [0x00626DA6]\n\t(No symbol) [0x00601034]\n\t(No symbol) [0x00601F8D]\n\tGetHandleVerifier [0x00A34B1C+820540]\n\tsqlite3_dbdata_init [0x00AF53EE+653550]\n\tsqlite3_dbdata_init [0x00AF4E09+652041]\n\tsqlite3_dbdata_init [0x00AE97CC+605388]\n\tsqlite3_dbdata_init [0x00AF5D9B+656027]\n\t(No symbol) [0x008CFE6C]\n\t(No symbol) [0x008C83B8]\n\t(No symbol) [0x008C84DD]\n\t(No symbol) [0x008B5818]\n\tBaseThreadInitThunk [0x763E7BA9+25]\n\tRtlInitializeExceptionChain [0x779FBD2B+107]\n\tRtlClearBits [0x779FBCAF+191]\n",
     "output_type": "error",
     "traceback": [
      "\u001b[1;31m---------------------------------------------------------------------------\u001b[0m",
      "\u001b[1;31mNoSuchElementException\u001b[0m                    Traceback (most recent call last)",
      "Cell \u001b[1;32mIn[16], line 12\u001b[0m\n\u001b[0;32m     10\u001b[0m Nganh \u001b[38;5;241m=\u001b[39m \u001b[38;5;124m'\u001b[39m\u001b[38;5;124mIT\u001b[39m\u001b[38;5;124m'\u001b[39m\n\u001b[0;32m     11\u001b[0m Link \u001b[38;5;241m=\u001b[39m link\n\u001b[1;32m---> 12\u001b[0m TenCV \u001b[38;5;241m=\u001b[39m \u001b[43mdriver\u001b[49m\u001b[38;5;241;43m.\u001b[39;49m\u001b[43mfind_element\u001b[49m\u001b[43m(\u001b[49m\u001b[43mBy\u001b[49m\u001b[38;5;241;43m.\u001b[39;49m\u001b[43mCSS_SELECTOR\u001b[49m\u001b[43m,\u001b[49m\u001b[43m \u001b[49m\u001b[38;5;124;43m'\u001b[39;49m\u001b[38;5;124;43m.job-detail__info--title\u001b[39;49m\u001b[38;5;124;43m'\u001b[39;49m\u001b[43m)\u001b[49m\u001b[38;5;241m.\u001b[39mtext\n\u001b[0;32m     13\u001b[0m CongTy \u001b[38;5;241m=\u001b[39m driver\u001b[38;5;241m.\u001b[39mfind_element(By\u001b[38;5;241m.\u001b[39mCSS_SELECTOR, \u001b[38;5;124m'\u001b[39m\u001b[38;5;124m[class=\u001b[39m\u001b[38;5;124m\"\u001b[39m\u001b[38;5;124mcompany-name-label\u001b[39m\u001b[38;5;124m\"\u001b[39m\u001b[38;5;124m] a\u001b[39m\u001b[38;5;124m'\u001b[39m)\u001b[38;5;241m.\u001b[39mtext\n\u001b[0;32m     14\u001b[0m SoLuong \u001b[38;5;241m=\u001b[39m \u001b[38;5;124m\"\u001b[39m\u001b[38;5;124m1\u001b[39m\u001b[38;5;124m\"\u001b[39m\n",
      "File \u001b[1;32mc:\\Users\\thaib\\AppData\\Local\\Programs\\Python\\Python311\\Lib\\site-packages\\selenium\\webdriver\\remote\\webdriver.py:741\u001b[0m, in \u001b[0;36mWebDriver.find_element\u001b[1;34m(self, by, value)\u001b[0m\n\u001b[0;32m    738\u001b[0m     by \u001b[38;5;241m=\u001b[39m By\u001b[38;5;241m.\u001b[39mCSS_SELECTOR\n\u001b[0;32m    739\u001b[0m     value \u001b[38;5;241m=\u001b[39m \u001b[38;5;124mf\u001b[39m\u001b[38;5;124m'\u001b[39m\u001b[38;5;124m[name=\u001b[39m\u001b[38;5;124m\"\u001b[39m\u001b[38;5;132;01m{\u001b[39;00mvalue\u001b[38;5;132;01m}\u001b[39;00m\u001b[38;5;124m\"\u001b[39m\u001b[38;5;124m]\u001b[39m\u001b[38;5;124m'\u001b[39m\n\u001b[1;32m--> 741\u001b[0m \u001b[38;5;28;01mreturn\u001b[39;00m \u001b[38;5;28;43mself\u001b[39;49m\u001b[38;5;241;43m.\u001b[39;49m\u001b[43mexecute\u001b[49m\u001b[43m(\u001b[49m\u001b[43mCommand\u001b[49m\u001b[38;5;241;43m.\u001b[39;49m\u001b[43mFIND_ELEMENT\u001b[49m\u001b[43m,\u001b[49m\u001b[43m \u001b[49m\u001b[43m{\u001b[49m\u001b[38;5;124;43m\"\u001b[39;49m\u001b[38;5;124;43musing\u001b[39;49m\u001b[38;5;124;43m\"\u001b[39;49m\u001b[43m:\u001b[49m\u001b[43m \u001b[49m\u001b[43mby\u001b[49m\u001b[43m,\u001b[49m\u001b[43m \u001b[49m\u001b[38;5;124;43m\"\u001b[39;49m\u001b[38;5;124;43mvalue\u001b[39;49m\u001b[38;5;124;43m\"\u001b[39;49m\u001b[43m:\u001b[49m\u001b[43m \u001b[49m\u001b[43mvalue\u001b[49m\u001b[43m}\u001b[49m\u001b[43m)\u001b[49m[\u001b[38;5;124m\"\u001b[39m\u001b[38;5;124mvalue\u001b[39m\u001b[38;5;124m\"\u001b[39m]\n",
      "File \u001b[1;32mc:\\Users\\thaib\\AppData\\Local\\Programs\\Python\\Python311\\Lib\\site-packages\\selenium\\webdriver\\remote\\webdriver.py:347\u001b[0m, in \u001b[0;36mWebDriver.execute\u001b[1;34m(self, driver_command, params)\u001b[0m\n\u001b[0;32m    345\u001b[0m response \u001b[38;5;241m=\u001b[39m \u001b[38;5;28mself\u001b[39m\u001b[38;5;241m.\u001b[39mcommand_executor\u001b[38;5;241m.\u001b[39mexecute(driver_command, params)\n\u001b[0;32m    346\u001b[0m \u001b[38;5;28;01mif\u001b[39;00m response:\n\u001b[1;32m--> 347\u001b[0m     \u001b[38;5;28;43mself\u001b[39;49m\u001b[38;5;241;43m.\u001b[39;49m\u001b[43merror_handler\u001b[49m\u001b[38;5;241;43m.\u001b[39;49m\u001b[43mcheck_response\u001b[49m\u001b[43m(\u001b[49m\u001b[43mresponse\u001b[49m\u001b[43m)\u001b[49m\n\u001b[0;32m    348\u001b[0m     response[\u001b[38;5;124m\"\u001b[39m\u001b[38;5;124mvalue\u001b[39m\u001b[38;5;124m\"\u001b[39m] \u001b[38;5;241m=\u001b[39m \u001b[38;5;28mself\u001b[39m\u001b[38;5;241m.\u001b[39m_unwrap_value(response\u001b[38;5;241m.\u001b[39mget(\u001b[38;5;124m\"\u001b[39m\u001b[38;5;124mvalue\u001b[39m\u001b[38;5;124m\"\u001b[39m, \u001b[38;5;28;01mNone\u001b[39;00m))\n\u001b[0;32m    349\u001b[0m     \u001b[38;5;28;01mreturn\u001b[39;00m response\n",
      "File \u001b[1;32mc:\\Users\\thaib\\AppData\\Local\\Programs\\Python\\Python311\\Lib\\site-packages\\selenium\\webdriver\\remote\\errorhandler.py:229\u001b[0m, in \u001b[0;36mErrorHandler.check_response\u001b[1;34m(self, response)\u001b[0m\n\u001b[0;32m    227\u001b[0m         alert_text \u001b[38;5;241m=\u001b[39m value[\u001b[38;5;124m\"\u001b[39m\u001b[38;5;124malert\u001b[39m\u001b[38;5;124m\"\u001b[39m]\u001b[38;5;241m.\u001b[39mget(\u001b[38;5;124m\"\u001b[39m\u001b[38;5;124mtext\u001b[39m\u001b[38;5;124m\"\u001b[39m)\n\u001b[0;32m    228\u001b[0m     \u001b[38;5;28;01mraise\u001b[39;00m exception_class(message, screen, stacktrace, alert_text)  \u001b[38;5;66;03m# type: ignore[call-arg]  # mypy is not smart enough here\u001b[39;00m\n\u001b[1;32m--> 229\u001b[0m \u001b[38;5;28;01mraise\u001b[39;00m exception_class(message, screen, stacktrace)\n",
      "\u001b[1;31mNoSuchElementException\u001b[0m: Message: no such element: Unable to locate element: {\"method\":\"css selector\",\"selector\":\".job-detail__info--title\"}\n  (Session info: chrome-headless-shell=120.0.6099.225); For documentation on this error, please visit: https://www.selenium.dev/documentation/webdriver/troubleshooting/errors#no-such-element-exception\nStacktrace:\n\tGetHandleVerifier [0x00996EE3+174339]\n\t(No symbol) [0x008C0A51]\n\t(No symbol) [0x005D6FF6]\n\t(No symbol) [0x00609876]\n\t(No symbol) [0x00609C2C]\n\t(No symbol) [0x0063BD42]\n\t(No symbol) [0x00627054]\n\t(No symbol) [0x0063A104]\n\t(No symbol) [0x00626DA6]\n\t(No symbol) [0x00601034]\n\t(No symbol) [0x00601F8D]\n\tGetHandleVerifier [0x00A34B1C+820540]\n\tsqlite3_dbdata_init [0x00AF53EE+653550]\n\tsqlite3_dbdata_init [0x00AF4E09+652041]\n\tsqlite3_dbdata_init [0x00AE97CC+605388]\n\tsqlite3_dbdata_init [0x00AF5D9B+656027]\n\t(No symbol) [0x008CFE6C]\n\t(No symbol) [0x008C83B8]\n\t(No symbol) [0x008C84DD]\n\t(No symbol) [0x008B5818]\n\tBaseThreadInitThunk [0x763E7BA9+25]\n\tRtlInitializeExceptionChain [0x779FBD2B+107]\n\tRtlClearBits [0x779FBCAF+191]\n"
     ]
    }
   ],
   "source": [
    "driver = webdriver.Chrome(service=ChromeService(ChromeDriverManager().install()), options=option)\n",
    "if len(job_urls) > 0:\n",
    "    for job_url in job_urls:\n",
    "        if \"https://www.topcv.vn/brand/\" in job_url:\n",
    "            continue\n",
    "        link = job_url\n",
    "        print(\"Đang xử lí....\", link)\n",
    "        driver.get(link)\n",
    "        Web = 'TopCV'\n",
    "        Nganh = 'IT'\n",
    "        Link = link\n",
    "        TenCV = driver.find_element(By.CSS_SELECTOR, '.job-detail__info--title').text\n",
    "        CongTy = driver.find_element(By.CSS_SELECTOR, '[class=\"company-name-label\"] a').text\n",
    "        SoLuong = \"1\"\n",
    "        YeuCau = \"\"\n",
    "        MoTa = \"\"\n",
    "        PhucLoi = \"\"\n",
    "        for i in range(len(driver.find_elements(By.CSS_SELECTOR, '[class=\"job-detail__info--section\"]'))):\n",
    "            if \"Mức lương\" in driver.find_elements(By.CSS_SELECTOR, '[class=\"job-detail__info--section\"]')[i].find_element(By.CSS_SELECTOR, '[class=\"job-detail__info--section-content-title\"]').text:\n",
    "                Luong = driver.find_elements(By.CSS_SELECTOR, '[class=\"job-detail__info--section\"]')[i].find_element(By.CSS_SELECTOR, '[class=\"job-detail__info--section-content-value\"]').text\n",
    "            if \"Địa điểm\" in driver.find_elements(By.CSS_SELECTOR, '[class=\"job-detail__info--section\"]')[i].find_element(By.CSS_SELECTOR, '[class=\"job-detail__info--section-content-title\"]').text:\n",
    "                TinhThanh = driver.find_elements(By.CSS_SELECTOR, '[class=\"job-detail__info--section\"]')[i].find_element(By.CSS_SELECTOR, '[class=\"job-detail__info--section-content-value\"]').text\n",
    "        try:\n",
    "            HanNopCV = driver.find_element(By.CSS_SELECTOR, '[class=\"job-detail__info--deadline\"]').text.split(\":\")[-1].strip()\n",
    "        except:\n",
    "            HanNopCV = date.today()\n",
    "        soup = BeautifulSoup(driver.page_source, 'html.parser')\n",
    "        List = soup.find_all('div', class_='job-description__item')\n",
    "        YeuCau = List[1].text\n",
    "        MoTa = List[0].text\n",
    "        PhucLoi = List[2].text\n",
    "        for i in range(len(soup.find_all('div', class_='box-general-group'))):\n",
    "            if \"Số lượng tuyển\" in soup.find_all('div', class_='box-general-group')[i].find('div', class_='box-general-group-info-title').text:\n",
    "                SoLuong = soup.find_all('div', class_='box-general-group')[i].find('div', class_='box-general-group-info-value').text.split()[0]\n",
    "            if \"Hình thức làm việc\" in soup.find_all('div', class_='box-general-group')[i].find('div', class_='box-general-group-info-title').text:\n",
    "                LoaiHinh = soup.find_all('div', class_='box-general-group')[i].find('div', class_='box-general-group-info-value').text\n",
    "            try:\n",
    "                if \"Kinh nghiệm\" in soup.find_all('div', class_='box-general-group')[i].find('div', class_='box-general-group-info-title').text:\n",
    "                    KinhNghiem = soup.find_all('div', class_='box-general-group')[i].find('div', class_='box-general-group-info-value').text\n",
    "            except:\n",
    "                KinhNghiem = \"Không có\"\n",
    "            if \"Cấp bậc\" in soup.find_all('div', class_='box-general-group')[i].find('div', class_='box-general-group-info-title').text:\n",
    "                CapBac = soup.find_all('div', class_='box-general-group')[i].find('div', class_='box-general-group-info-value').text\n",
    "        cursor.execute(sql, (Web, Nganh, Link, TenCV, CongTy, TinhThanh, Luong, LoaiHinh, KinhNghiem, CapBac, HanNopCV, YeuCau, MoTa, PhucLoi, SoLuong))\n",
    "        conn.commit()\n",
    "else:\n",
    "    print(\"Không có tin mới để thêm.\")\n",
    "driver.quit()\n",
    "cursor.close()\n",
    "conn.close()\n"
   ]
  },
  {
   "cell_type": "code",
   "execution_count": null,
   "metadata": {},
   "outputs": [
    {
     "name": "stdout",
     "output_type": "stream",
     "text": [
      "['https://www.topcv.vn/viec-lam/ky-su-cau-noi-tieng-han-bien-phien-dich-tieng-han-nganh-it-korean-brse/1132735.html?ta_source=ITJobs_LinkDetail', 'https://www.topcv.vn/viec-lam/vfx-artist-junior/1168046.html?ta_source=ITJobs_LinkDetail', 'https://www.topcv.vn/viec-lam/lap-trinh-vien-software-developers-muc-luong-den-35m/1154432.html?ta_source=ITJobs_LinkDetail', 'https://www.topcv.vn/viec-lam/nhan-vien-ky-thuat-may-tinh/1206111.html?ta_source=ITJobs_LinkDetail', 'https://www.topcv.vn/brand/tek-experts/tuyen-dung/it-support-engineers-microsoft-software-support-fresher-experienced-j654470.html?ta_source=ITJobs_LinkDetail', 'https://www.topcv.vn/viec-lam/tester-mobile-app/1016516.html?ta_source=ITJobs_LinkDetail', 'https://www.topcv.vn/viec-lam/chuyen-vien-kiem-thu-phan-mem-mang-chung-khoan/1206536.html?ta_source=ITJobs_LinkDetail', 'https://www.topcv.vn/viec-lam/senior-database-administrator-dba/1206364.html?ta_source=ITJobs_LinkDetail', 'https://www.topcv.vn/viec-lam/android-java-developer/1206175.html?ta_source=ITJobs_LinkDetail', 'https://www.topcv.vn/viec-lam/nhan-vien-3d-artist-game-mobile/257607.html?ta_source=ITJobs_LinkDetail', 'https://www.topcv.vn/viec-lam/ror-ruby-on-rails-from-mid/1206425.html?ta_source=ITJobs_LinkDetail', 'https://www.topcv.vn/viec-lam/php-laravel-from-mid/1206435.html?ta_source=ITJobs_LinkDetail', 'https://www.topcv.vn/viec-lam/seo-website/1205174.html?ta_source=ITJobs_LinkDetail', 'https://www.topcv.vn/viec-lam/senior-seo-specialist/1206182.html?ta_source=ITJobs_LinkDetail', 'https://www.topcv.vn/viec-lam/business-analyst/1206318.html?ta_source=ITJobs_LinkDetail', 'https://www.topcv.vn/viec-lam/senior-php-developer/1184060.html?ta_source=ITJobs_LinkDetail', 'https://www.topcv.vn/viec-lam/technical-leader-chuyen-ve-php-laravel/1184067.html?ta_source=ITJobs_LinkDetail', 'https://www.topcv.vn/viec-lam/java-developer-english/1083092.html?ta_source=ITJobs_LinkDetail', 'https://www.topcv.vn/viec-lam/senior-business-analyst/1206419.html?ta_source=ITJobs_LinkDetail', 'https://www.topcv.vn/viec-lam/senior-java-developer/1206413.html?ta_source=ITJobs_LinkDetail', 'https://www.topcv.vn/viec-lam/fresher-embedded/1087081.html?ta_source=ITJobs_LinkDetail', 'https://www.topcv.vn/viec-lam/laravel-developer/1206301.html?ta_source=ITJobs_LinkDetail', 'https://www.topcv.vn/viec-lam/fresher-monetization/1206456.html?ta_source=ITJobs_LinkDetail', 'https://www.topcv.vn/viec-lam/backend-developer-golang/1083633.html?ta_source=ITJobs_LinkDetail', 'https://www.topcv.vn/viec-lam/senior-qc-engineer/1016249.html?ta_source=ITJobs_LinkDetail', 'https://www.topcv.vn/viec-lam/web-developer/1043400.html?ta_source=ITJobs_LinkDetail', 'https://www.topcv.vn/viec-lam/delivery-manager/1206240.html?ta_source=ITJobs_LinkDetail', 'https://www.topcv.vn/viec-lam/chuyen-vien-kiem-soat-tuan-thu/1206447.html?ta_source=ITJobs_LinkDetail', 'https://www.topcv.vn/viec-lam/lap-trinh-vien-net-developer-senior/1156569.html?ta_source=ITJobs_LinkDetail', 'https://www.topcv.vn/viec-lam/senior-flutter-developer/1100925.html?ta_source=ITJobs_LinkDetail', 'https://www.topcv.vn/viec-lam/senior-net-developer/1060525.html?ta_source=ITJobs_LinkDetail', 'https://www.topcv.vn/viec-lam/thuc-tap-sinh-lap-trinh-vien-net/883391.html?ta_source=ITJobs_LinkDetail', 'https://www.topcv.vn/viec-lam/lap-trinh-vien-backend-net-java-nodejs-php/1140667.html?ta_source=ITJobs_LinkDetail', 'https://www.topcv.vn/viec-lam/lap-trinh-vien-frontend-react-angular-vue/1140710.html?ta_source=ITJobs_LinkDetail', 'https://www.topcv.vn/viec-lam/test-lead/1206340.html?ta_source=ITJobs_LinkDetail', 'https://www.topcv.vn/viec-lam/thuc-tap-sinh-ui-ux-design/1205959.html?ta_source=ITJobs_LinkDetail', 'https://www.topcv.vn/viec-lam/thuc-tap-sinh-content-writer/1205978.html?ta_source=ITJobs_LinkDetail', 'https://www.topcv.vn/viec-lam/talent-acquisition-specialist/1206181.html?ta_source=ITJobs_LinkDetail', 'https://www.topcv.vn/viec-lam/software-tester-finance-domain/1186009.html?ta_source=ITJobs_LinkDetail', 'https://www.topcv.vn/viec-lam/middle-business-analyst-english-japanese/1206401.html?ta_source=ITJobs_LinkDetail', 'https://www.topcv.vn/viec-lam/solution-architect-net/1206407.html?ta_source=ITJobs_LinkDetail', 'https://www.topcv.vn/viec-lam/devops-engineer/1206366.html?ta_source=ITJobs_LinkDetail', 'https://www.topcv.vn/viec-lam/senior-network-engineer/1206388.html?ta_source=ITJobs_LinkDetail', 'https://www.topcv.vn/viec-lam/lap-trinh-vien-playable-ads/1016300.html?ta_source=ITJobs_LinkDetail', 'https://www.topcv.vn/viec-lam/lap-trinh-vien/1154132.html?ta_source=ITJobs_LinkDetail', 'https://www.topcv.vn/viec-lam/thuc-tap-sinh-phat-trien-phan-mem-software-dev/1205656.html?ta_source=ITJobs_LinkDetail', 'https://www.topcv.vn/viec-lam/brand-marketing-executive/1206363.html?ta_source=ITJobs_LinkDetail', 'https://www.topcv.vn/viec-lam/it-helpdesk-khoi-phong-kham-thu-cuc/1206296.html?ta_source=ITJobs_LinkDetail', 'https://www.topcv.vn/viec-lam/devops-engineer/1206263.html?ta_source=ITJobs_LinkDetail', 'https://www.topcv.vn/viec-lam/nhan-vien-it-chuyen-he-thong-server/1205629.html?ta_source=ITJobs_LinkDetail', 'https://www.topcv.vn/viec-lam/php-developer-internship-fresher/1153211.html?ta_source=ITJobs_LinkDetail', 'https://www.topcv.vn/viec-lam/manual-qa-developer-internship/1139138.html?ta_source=ITJobs_LinkDetail', 'https://www.topcv.vn/viec-lam/backend-developer-internship/1139127.html?ta_source=ITJobs_LinkDetail', 'https://www.topcv.vn/viec-lam/frontend-developer-internship/1139122.html?ta_source=ITJobs_LinkDetail', 'https://www.topcv.vn/viec-lam/fresher-junior-2d-artist/1205864.html?ta_source=ITJobs_LinkDetail', 'https://www.topcv.vn/viec-lam/data-engineer/1174849.html?ta_source=ITJobs_LinkDetail', 'https://www.topcv.vn/viec-lam/business-development-manager-ewallet/1185978.html?ta_source=ITJobs_LinkDetail', 'https://www.topcv.vn/viec-lam/product-manager-pm/1205195.html?ta_source=ITJobs_LinkDetail', 'https://www.topcv.vn/viec-lam/senior-data-engineer/1205939.html?ta_source=ITJobs_LinkDetail', 'https://www.topcv.vn/viec-lam/senior-project-manager/1205933.html?ta_source=ITJobs_LinkDetail', 'https://www.topcv.vn/viec-lam/senior-automation-test/1205924.html?ta_source=ITJobs_LinkDetail', 'https://www.topcv.vn/viec-lam/senior-net-developer/1205917.html?ta_source=ITJobs_LinkDetail', 'https://www.topcv.vn/viec-lam/thuc-tap-sinh-thiet-ke/784310.html?ta_source=ITJobs_LinkDetail', 'https://www.topcv.vn/viec-lam/senior-wordpress-developer/1206242.html?ta_source=ITJobs_LinkDetail', 'https://www.topcv.vn/viec-lam/ky-thuat-it-support-it-helpdesk-di-lam-ngay/658998.html?ta_source=ITJobs_LinkDetail', 'https://www.topcv.vn/viec-lam/thiet-ke-media/1206197.html?ta_source=ITJobs_LinkDetail', 'https://www.topcv.vn/viec-lam/senior-wordpress-developer/1206215.html?ta_source=ITJobs_LinkDetail', 'https://www.topcv.vn/viec-lam/nhan-vien-ky-thuat-du-an/1158960.html?ta_source=ITJobs_LinkDetail', 'https://www.topcv.vn/viec-lam/ky-su-mang-bao-mat/414776.html?ta_source=ITJobs_LinkDetail', 'https://www.topcv.vn/viec-lam/senior-system-engineer/1097717.html?ta_source=ITJobs_LinkDetail', 'https://www.topcv.vn/viec-lam/nhan-vien-it-helpdesk/1205892.html?ta_source=ITJobs_LinkDetail', 'https://www.topcv.vn/viec-lam/thuc-tap-sinh-tester/1205841.html?ta_source=ITJobs_LinkDetail', 'https://www.topcv.vn/viec-lam/nhan-vien-it/1205669.html?ta_source=ITJobs_LinkDetail', 'https://www.topcv.vn/viec-lam/thuc-tap-sinh-nhan-su/1205634.html?ta_source=ITJobs_LinkDetail', 'https://www.topcv.vn/viec-lam/digital-marketing-executive/848914.html?ta_source=ITJobs_LinkDetail', 'https://www.topcv.vn/viec-lam/nhan-vien-ky-thuat-may-tinh-may-in-camera/1204478.html?ta_source=ITJobs_LinkDetail', 'https://www.topcv.vn/viec-lam/web-tester-intern/1004523.html?ta_source=ITJobs_LinkDetail', 'https://www.topcv.vn/viec-lam/nodejs-software-engineer-english/1205028.html?ta_source=ITJobs_LinkDetail', 'https://www.topcv.vn/viec-lam/qa-tester/636253.html?ta_source=ITJobs_LinkDetail', 'https://www.topcv.vn/viec-lam/nhan-vien-ky-thuat-trien-khai-bao-tri-mang-fpt/1142495.html?ta_source=ITJobs_LinkDetail', 'https://www.topcv.vn/viec-lam/nhan-vien-ky-thuat/763113.html?ta_source=ITJobs_LinkDetail', 'https://www.topcv.vn/viec-lam/full-stack-developer/1185437.html?ta_source=ITJobs_LinkDetail', 'https://www.topcv.vn/viec-lam/it-project-manager/1154760.html?ta_source=ITJobs_LinkDetail', 'https://www.topcv.vn/viec-lam/nhan-vien-it-helpdesk/1111500.html?ta_source=ITJobs_LinkDetail', 'https://www.topcv.vn/viec-lam/chuyen-vien-kiem-thu-phan-mem-tester/1206042.html?ta_source=ITJobs_LinkDetail', 'https://www.topcv.vn/viec-lam/optical-expert-engineers/1206014.html?ta_source=ITJobs_LinkDetail', 'https://www.topcv.vn/viec-lam/system-administrator/1205988.html?ta_source=ITJobs_LinkDetail', 'https://www.topcv.vn/viec-lam/ui-ux-designer/191698.html?ta_source=ITJobs_LinkDetail', 'https://www.topcv.vn/viec-lam/business-analyst/191707.html?ta_source=ITJobs_LinkDetail', 'https://www.topcv.vn/viec-lam/android-developer/201172.html?ta_source=ITJobs_LinkDetail', 'https://www.topcv.vn/viec-lam/tester/435374.html?ta_source=ITJobs_LinkDetail', 'https://www.topcv.vn/viec-lam/nhan-vien-it-quan-tri-he-thong/1205696.html?ta_source=ITJobs_LinkDetail', 'https://www.topcv.vn/viec-lam/truong-nhom-kiem-thu-phan-mem/1205876.html?ta_source=ITJobs_LinkDetail', 'https://www.topcv.vn/viec-lam/nhan-vien-ky-thuat-trien-khai-lap-dat/1101273.html?ta_source=ITJobs_LinkDetail', 'https://www.topcv.vn/viec-lam/nhan-vien-tiep-thi-san-pham-nganh-cong-nghe-pg/1205654.html?ta_source=ITJobs_LinkDetail', 'https://www.topcv.vn/viec-lam/intern-odoo-developer/1205732.html?ta_source=ITJobs_LinkDetail', 'https://www.topcv.vn/viec-lam/thuc-tap-sinh-lap-trinh-vien-php/1155025.html?ta_source=ITJobs_LinkDetail', 'https://www.topcv.vn/viec-lam/thuc-tap-sinh-lap-trinh-vien-javascript/1155031.html?ta_source=ITJobs_LinkDetail', 'https://www.topcv.vn/viec-lam/it-project-coordinator/581948.html?ta_source=ITJobs_LinkDetail', 'https://www.topcv.vn/viec-lam/fresher-it-support-hepdesk/1205800.html?ta_source=ITJobs_LinkDetail', 'https://www.topcv.vn/viec-lam/truong-nhom-qa/1205859.html?ta_source=ITJobs_LinkDetail', 'https://www.topcv.vn/viec-lam/lap-trinh-web-net/1164756.html?ta_source=ITJobs_LinkDetail', 'https://www.topcv.vn/viec-lam/nhan-vien-marketing-online-google-ads/92372.html?ta_source=ITJobs_LinkDetail', 'https://www.topcv.vn/viec-lam/account-executive-giai-phap-marketing-hubspot/1205820.html?ta_source=ITJobs_LinkDetail', 'https://www.topcv.vn/viec-lam/chuyen-vien-system-admin/1205763.html?ta_source=ITJobs_LinkDetail', 'https://www.topcv.vn/viec-lam/business-analyst/1205733.html?ta_source=ITJobs_LinkDetail', 'https://www.topcv.vn/viec-lam/magento-developer/1185990.html?ta_source=ITJobs_LinkDetail', 'https://www.topcv.vn/viec-lam/nhan-vien-marketing-game-mobile/1185731.html?ta_source=ITJobs_LinkDetail', 'https://www.topcv.vn/viec-lam/nhan-vien-phat-trien-san-pham/1122814.html?ta_source=ITJobs_LinkDetail', 'https://www.topcv.vn/viec-lam/thuc-tap-sinh-business-analyst/1205618.html?ta_source=ITJobs_LinkDetail', 'https://www.topcv.vn/viec-lam/it-supervision/1172115.html?ta_source=ITJobs_LinkDetail', 'https://www.topcv.vn/viec-lam/user-support-asset-management-project-french/1163560.html?ta_source=ITJobs_LinkDetail', 'https://www.topcv.vn/viec-lam/user-support-french-speaking/1157811.html?ta_source=ITJobs_LinkDetail', 'https://www.topcv.vn/viec-lam/application-support-french-speaking/1157706.html?ta_source=ITJobs_LinkDetail', 'https://www.topcv.vn/viec-lam/php-developer-drupal/1157465.html?ta_source=ITJobs_LinkDetail', 'https://www.topcv.vn/viec-lam/php-developer/1205273.html?ta_source=ITJobs_LinkDetail', 'https://www.topcv.vn/viec-lam/ky-thuat-may-tinh/776310.html?ta_source=ITJobs_LinkDetail', 'https://www.topcv.vn/viec-lam/giang-vien-nganh-cong-nghe-thong-tin-dh-yersin-dl/1185541.html?ta_source=ITJobs_LinkDetail', 'https://www.topcv.vn/viec-lam/ky-su-he-thong-system-engineer-fresher/1205489.html?ta_source=ITJobs_LinkDetail', 'https://www.topcv.vn/viec-lam/junior-net-c/1204904.html?ta_source=ITJobs_LinkDetail', 'https://www.topcv.vn/viec-lam/nhan-vien-it/1178496.html?ta_source=ITJobs_LinkDetail', 'https://www.topcv.vn/viec-lam/aws-engineer/1204129.html?ta_source=ITJobs_LinkDetail', 'https://www.topcv.vn/viec-lam/content-marketing/1205425.html?ta_source=ITJobs_LinkDetail', 'https://www.topcv.vn/viec-lam/ky-su-devops/1204353.html?ta_source=ITJobs_LinkDetail', 'https://www.topcv.vn/brand/minupte/tuyen-dung/marketing-mobile-app-aso-j1195341.html?ta_source=ITJobs_LinkDetail', 'https://www.topcv.vn/brand/fptedu/tuyen-dung/giang-vien-cong-nghe-thong-tin-j1204800.html?ta_source=ITJobs_LinkDetail', 'https://www.topcv.vn/brand/smartosc/tuyen-dung/fresher-tester-thanh-thao-tieng-nhat-hoac-han-j1178815.html?ta_source=ITJobs_LinkDetail', 'https://www.topcv.vn/brand/smartosc/tuyen-dung/operation-assistant-qc-fresher-j1204560.html?ta_source=ITJobs_LinkDetail', 'https://www.topcv.vn/viec-lam/technical-support/1056104.html?ta_source=ITJobs_LinkDetail', 'https://www.topcv.vn/brand/congngheprep/tuyen-dung/senior-php-developer-laravel-j1203081.html?ta_source=ITJobs_LinkDetail', 'https://www.topcv.vn/viec-lam/full-stack-developer-nodejs-reactjs/1043437.html?ta_source=ITJobs_LinkDetail', 'https://www.topcv.vn/brand/fptedu/tuyen-dung/can-bo-ky-thuat-ha-tang-fsc-hp-j1138560.html?ta_source=ITJobs_LinkDetail', 'https://www.topcv.vn/brand/minupte/tuyen-dung/chuyen-vien-toi-uu-quang-cao-ung-dung-j1202159.html?ta_source=ITJobs_LinkDetail', 'https://www.topcv.vn/brand/boschglobalsoftwaretechnologies/tuyen-dung/software-packager-intern-j1201265.html?ta_source=ITJobs_LinkDetail', 'https://www.topcv.vn/viec-lam/ux-ui-designer/1200116.html?ta_source=ITJobs_LinkDetail', 'https://www.topcv.vn/brand/fptedu/tuyen-dung/giang-vien-cong-nghe-thong-tin-j1200228.html?ta_source=ITJobs_LinkDetail', 'https://www.topcv.vn/brand/topcv/tuyen-dung/devops-leader-j922280.html?ta_source=ITJobs_LinkDetail', 'https://www.topcv.vn/brand/smartosc/tuyen-dung/thuc-tap-sinh-trai-nghiem-va-gan-ket-nhan-vien-j1199715.html?ta_source=ITJobs_LinkDetail', 'https://www.topcv.vn/brand/fptedu/tuyen-dung/can-bo-nghien-cuu-phat-trien-ung-dung-j1189313.html?ta_source=ITJobs_LinkDetail', 'https://www.topcv.vn/brand/niteco/tuyen-dung/it-specialist-j1198934.html?ta_source=ITJobs_LinkDetail', 'https://www.topcv.vn/brand/vuihoc/tuyen-dung/truong-nhom-data-j1198971.html?ta_source=ITJobs_LinkDetail', 'https://www.topcv.vn/brand/educa/tuyen-dung/middle-senior-flutter-developer-j1197506.html?ta_source=ITJobs_LinkDetail', 'https://www.topcv.vn/brand/chinhanhtranscosmoshochiminh/tuyen-dung/it-support-it-helpdesk-deskside-support-engineer-j1197400.html?ta_source=ITJobs_LinkDetail', 'https://www.topcv.vn/brand/tekyholdings/tuyen-dung/co-van-giao-duc-j1139408.html?ta_source=ITJobs_LinkDetail', 'https://www.topcv.vn/brand/tekyholdings/tuyen-dung/giao-vien-su-pham-tu-nhien-cntt-truyen-thong-j158150.html?ta_source=ITJobs_LinkDetail', 'https://www.topcv.vn/brand/tekyholdings/tuyen-dung/giao-vien-su-pham-ky-thuat-cong-nghe-thong-tin-j1072736.html?ta_source=ITJobs_LinkDetail', 'https://www.topcv.vn/brand/chailease/tuyen-dung/net-developer-j1160466.html?ta_source=ITJobs_LinkDetail', 'https://www.topcv.vn/brand/vuihoc/tuyen-dung/truong-phong-data-analyst-j1194486.html?ta_source=ITJobs_LinkDetail', 'https://www.topcv.vn/brand/fptedu/tuyen-dung/giang-vien-cong-nghe-thong-tin-j1148672.html?ta_source=ITJobs_LinkDetail', 'https://www.topcv.vn/brand/newwavesolutions/tuyen-dung/middle-senior-java-developer-english-speaking-j1193926.html?ta_source=ITJobs_LinkDetail', 'https://www.topcv.vn/brand/smartosc/tuyen-dung/fresher-nodejs-j1078691.html?ta_source=ITJobs_LinkDetail', 'https://www.topcv.vn/brand/smartosc/tuyen-dung/fresher-reactjs-j1165767.html?ta_source=ITJobs_LinkDetail', 'https://www.topcv.vn/brand/niteco/tuyen-dung/net-tech-lead-j1106729.html?ta_source=ITJobs_LinkDetail', 'https://www.topcv.vn/brand/niteco/tuyen-dung/frontend-tech-lead-j1106727.html?ta_source=ITJobs_LinkDetail', 'https://www.topcv.vn/brand/fptedu/tuyen-dung/can-bo-ky-thuat-ha-tang-fsc-bn-j1153100.html?ta_source=ITJobs_LinkDetail', 'https://www.topcv.vn/viec-lam/nhan-vien-thiet-ke/1190590.html?ta_source=ITJobs_LinkDetail', 'https://www.topcv.vn/viec-lam/nhan-vien-seo-marketing/1190601.html?ta_source=ITJobs_LinkDetail', 'https://www.topcv.vn/brand/smartosc/tuyen-dung/fresher-vuejs-developer-j1190857.html?ta_source=ITJobs_LinkDetail', 'https://www.topcv.vn/brand/niteco/tuyen-dung/adobe-commerce-magento-tech-lead-j1134389.html?ta_source=ITJobs_LinkDetail']\n"
     ]
    }
   ],
   "source": [
    "print(job_urls)"
   ]
  }
 ],
 "metadata": {
  "kernelspec": {
   "display_name": "Python 3",
   "language": "python",
   "name": "python3"
  },
  "language_info": {
   "codemirror_mode": {
    "name": "ipython",
    "version": 3
   },
   "file_extension": ".py",
   "mimetype": "text/x-python",
   "name": "python",
   "nbconvert_exporter": "python",
   "pygments_lexer": "ipython3",
   "version": "3.11.5"
  }
 },
 "nbformat": 4,
 "nbformat_minor": 2
}
