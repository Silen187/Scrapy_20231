{
 "cells": [
  {
   "cell_type": "code",
   "execution_count": 77,
   "metadata": {},
   "outputs": [],
   "source": [
    "from bs4 import BeautifulSoup\n",
    "import requests\n",
    "# Parsing and creating xml data\n",
    "from lxml import etree as et\n",
    "\n",
    "# Store data as a csv file written out\n",
    "from csv import writer\n",
    "\n",
    "# In general to use with timing our function calls to Indeed\n",
    "import time\n",
    "\n",
    "# Assist with creating incremental timing for our scraping to seem more human\n",
    "from time import sleep\n",
    "\n",
    "# Dataframe stuff\n",
    "import pandas as pd\n",
    "\n",
    "# Random integer for more realistic timing for clicks, buttons and searches during scraping\n",
    "from random import randint\n",
    "\n",
    "# Multi Threading\n",
    "import threading\n",
    "\n",
    "# Threading:\n",
    "from concurrent.futures import ThreadPoolExecutor, wait\n",
    "import math\n",
    "import mysql.connector\n",
    "from datetime import date\n",
    "import json"
   ]
  },
  {
   "cell_type": "code",
   "execution_count": 78,
   "metadata": {},
   "outputs": [
    {
     "data": {
      "text/plain": [
       "'4.15.2'"
      ]
     },
     "execution_count": 78,
     "metadata": {},
     "output_type": "execute_result"
    }
   ],
   "source": [
    "import selenium\n",
    "\n",
    "# Check version I am running\n",
    "selenium.__version__"
   ]
  },
  {
   "cell_type": "code",
   "execution_count": 79,
   "metadata": {},
   "outputs": [],
   "source": [
    "from selenium import webdriver\n",
    "\n",
    "# Starting/Stopping Driver: can specify ports or location but not remote access\n",
    "from selenium.webdriver.chrome.service import Service as ChromeService\n",
    "\n",
    "# Manages Binaries needed for WebDriver without installing anything directly\n",
    "from webdriver_manager.chrome import ChromeDriverManager"
   ]
  },
  {
   "cell_type": "code",
   "execution_count": 80,
   "metadata": {},
   "outputs": [],
   "source": [
    "# Allows searchs similar to beautiful soup: find_all\n",
    "from selenium.webdriver.common.by import By\n",
    "\n",
    "# Try to establish wait times for the page to load\n",
    "from selenium.webdriver.support.ui import WebDriverWait\n",
    "\n",
    "# Wait for specific condition based on defined task: web elements, boolean are examples\n",
    "from selenium.webdriver.support import expected_conditions as EC\n",
    "\n",
    "# Used for keyboard movements, up/down, left/right,delete, etc\n",
    "from selenium.webdriver.common.keys import Keys\n",
    "\n",
    "# Locate elements on page and throw error if they do not exist\n",
    "from selenium.common.exceptions import NoSuchElementException"
   ]
  },
  {
   "cell_type": "code",
   "execution_count": 81,
   "metadata": {},
   "outputs": [
    {
     "name": "stdout",
     "output_type": "stream",
     "text": [
      "{'upgrade-insecure-requests': '1', 'user-agent': 'Mozilla/5.0 (Macintosh; Intel Mac OS X 11_2_3) AppleWebKit/537.36 (KHTML, like Gecko) Chrome/89.0.4389.90 Safari/537.36', 'accept': 'text/html,application/xhtml+xml,application/xml;q=0.9,image/webp,image/apng,*/*;q=0.8', 'sec-ch-ua': 'Google Chrome;v=\"89\", \"Chromium\";v=\"89\", \";Not A Brand\";v=\"99\"', 'sec-ch-ua-mobile': '?0', 'sec-ch-ua-platform': 'macOS', 'sec-fetch-site': 'none', 'sec-fetch-mod': '', 'sec-fetch-user': '?1', 'accept-encoding': 'gzip', 'accept-language': 'en-US'}\n"
     ]
    }
   ],
   "source": [
    "response = requests.get(\n",
    "  url='https://headers.scrapeops.io/v1/browser-headers',\n",
    "  params={\n",
    "      'api_key': 'cca4ced0-490d-41a0-b258-46f2ad7e74b3',\n",
    "      'num_results': '100'}\n",
    ")\n",
    "header_browser_list = response.json()\n",
    "print(header_browser_list['result'][0])"
   ]
  },
  {
   "cell_type": "code",
   "execution_count": 82,
   "metadata": {},
   "outputs": [
    {
     "name": "stdout",
     "output_type": "stream",
     "text": [
      "Mozilla/5.0 (Windows NT 10.0; Win64; x64; rv:86.0) Gecko/20100101 Firefox/86.0\n"
     ]
    }
   ],
   "source": [
    "response = requests.get(\n",
    "  url='https://headers.scrapeops.io/v1/user-agents',\n",
    "  params={\n",
    "      'api_key': 'cca4ced0-490d-41a0-b258-46f2ad7e74b3',\n",
    "      'num_results': '100'}\n",
    ")\n",
    "user_agent_list = response.json()\n",
    "print(user_agent_list['result'][0])"
   ]
  },
  {
   "cell_type": "code",
   "execution_count": 83,
   "metadata": {},
   "outputs": [],
   "source": [
    "random_index_user_agent = randint(0, len(user_agent_list)-1)\n",
    "random_index_header_browser = randint(0, len(header_browser_list)-1)\n",
    "user_agent_random = user_agent_list['result'][random_index_user_agent]\n",
    "header_browser_random = header_browser_list['result'][random_index_header_browser]"
   ]
  },
  {
   "cell_type": "code",
   "execution_count": 84,
   "metadata": {},
   "outputs": [],
   "source": [
    "# Allows you to cusotmize: ingonito mode, maximize window size, headless browser, disable certain features, etc\n",
    "option = webdriver.ChromeOptions()\n",
    "\n",
    "# Going undercover:\n",
    "option.add_argument(\"--incognito\")\n",
    "\n",
    "\n",
    "# # Consider this if the application works and you know how it works for speed ups and rendering!\n",
    "\n",
    "option.add_argument('--headless=chrome')\n",
    "user_agent = user_agent_random\n",
    "option.add_argument(f\"user-agent={user_agent}\")\n",
    "\n",
    "# Thêm header vào Options\n",
    "headers = header_browser_random\n",
    "\n",
    "for key, value in headers.items():\n",
    "    option.add_argument(f\"--header={key}:{value}\")"
   ]
  },
  {
   "cell_type": "code",
   "execution_count": 85,
   "metadata": {},
   "outputs": [
    {
     "name": "stdout",
     "output_type": "stream",
     "text": [
      "46\n"
     ]
    }
   ],
   "source": [
    "driver = webdriver.Chrome(service=ChromeService(ChromeDriverManager().install()),options=option)\n",
    "driver.implicitly_wait(10)  # Set the implicit wait time to 10 seconds\n",
    "driver.set_page_load_timeout(30)\n",
    "driver.get(\"https://www.topcv.vn/viec-lam-it\")\n",
    "\n",
    "job_count = driver.find_element(By.CSS_SELECTOR,'[class=\"job-header\"] h2 b').text.replace(\",\", \"\")\n",
    "if (int(job_count) % 50 == 0):\n",
    "    max_page  = int(job_count) / 50\n",
    "else:\n",
    "    max_page = math.floor(int(job_count) / 50) + 1\n",
    "print(max_page)\n",
    "driver.quit()"
   ]
  },
  {
   "cell_type": "code",
   "execution_count": 86,
   "metadata": {},
   "outputs": [],
   "source": [
    "job_urls = []\n",
    "driver = webdriver.Chrome(service=ChromeService(ChromeDriverManager().install()),options=option)\n",
    "for page_number in range(1, int(max_page+1)):\n",
    "    driver.get(f\"https://www.topcv.vn/viec-lam-it?page={page_number}\")\n",
    "    job_url_list = driver.find_elements(By.CSS_SELECTOR, '.job-item-2 h3[class=\"title\"] a')\n",
    "    for uu in job_url_list:\n",
    "        link = uu.get_attribute(\"href\")\n",
    "        job_urls.append(link)\n",
    "driver.quit()"
   ]
  },
  {
   "cell_type": "code",
   "execution_count": 87,
   "metadata": {},
   "outputs": [],
   "source": [
    "conn = mysql.connector.connect(\n",
    "    host='103.56.158.31',\n",
    "    port = 3306,\n",
    "    user= 'tuyendungUser',\n",
    "    password='sinhvienBK',\n",
    "    database= 'ThongTinTuyenDung'\n",
    ")\n",
    "cursor = conn.cursor()"
   ]
  },
  {
   "cell_type": "code",
   "execution_count": 88,
   "metadata": {},
   "outputs": [],
   "source": [
    "sql = 'INSERT IGNORE INTO Stg_ThongTin_raw(Web, Nganh, Link, TenCV, CongTy, TinhThanh, Luong, LoaiHinh, KinhNghiem, CapBac, HanNopCV, YeuCau, MoTa, PhucLoi, SoLuong) VALUES (%s, %s, %s, %s,%s,%s,%s, %s, %s, %s, %s, %s, %s, %s,%s)'"
   ]
  },
  {
   "cell_type": "code",
   "execution_count": 89,
   "metadata": {},
   "outputs": [],
   "source": [
    "sql_link = 'SELECT Link FROM Stg_ThongTin_raw where Web =\\'TopCV\\''"
   ]
  },
  {
   "cell_type": "code",
   "execution_count": 90,
   "metadata": {},
   "outputs": [],
   "source": [
    "cursor.execute(sql_link)\n",
    "result = cursor.fetchall()\n",
    "remove_url_list = [row[0] for row in result]"
   ]
  },
  {
   "cell_type": "code",
   "execution_count": 91,
   "metadata": {},
   "outputs": [
    {
     "name": "stdout",
     "output_type": "stream",
     "text": [
      "Số lượng url cào về:  2253\n",
      "Số lượng url mới lấy được sau xử lý: 37\n"
     ]
    }
   ],
   "source": [
    "print(\"Số lượng url cào về: \", len(job_urls))\n",
    "for job_url in remove_url_list:\n",
    "    if job_url in job_urls:\n",
    "        job_urls.remove(job_url)\n",
    "print(\"Số lượng url mới lấy được sau xử lý:\", len(job_urls))"
   ]
  },
  {
   "cell_type": "code",
   "execution_count": 92,
   "metadata": {},
   "outputs": [],
   "source": [
    "driver = webdriver.Chrome(service=ChromeService(ChromeDriverManager().install()), options=option)\n",
    "if len(job_urls) > 0:\n",
    "    for job_url in job_urls:\n",
    "        if \"https://www.topcv.vn/brand/\" in job_url:\n",
    "            continue\n",
    "        link = job_url\n",
    "        print(\"Đang xử lí....\", link)\n",
    "        driver.get(link)\n",
    "        Web = 'TopCV'\n",
    "        Nganh = 'IT'\n",
    "        Link = link\n",
    "        TenCV = driver.find_element(By.CSS_SELECTOR, '.job-detail__info--title').text\n",
    "        CongTy = driver.find_element(By.CSS_SELECTOR, '[class=\"company-name-label\"] a').text\n",
    "        SoLuong = \"1\"\n",
    "        YeuCau = \"\"\n",
    "        MoTa = \"\"\n",
    "        PhucLoi = \"\"\n",
    "        for i in range(len(driver.find_elements(By.CSS_SELECTOR, '[class=\"job-detail__info--section\"]'))):\n",
    "            if \"Mức lương\" in driver.find_elements(By.CSS_SELECTOR, '[class=\"job-detail__info--section\"]')[i].find_element(By.CSS_SELECTOR, '[class=\"job-detail__info--section-content-title\"]').text:\n",
    "                Luong = driver.find_elements(By.CSS_SELECTOR, '[class=\"job-detail__info--section\"]')[i].find_element(By.CSS_SELECTOR, '[class=\"job-detail__info--section-content-value\"]').text\n",
    "            if \"Địa điểm\" in driver.find_elements(By.CSS_SELECTOR, '[class=\"job-detail__info--section\"]')[i].find_element(By.CSS_SELECTOR, '[class=\"job-detail__info--section-content-title\"]').text:\n",
    "                TinhThanh = driver.find_elements(By.CSS_SELECTOR, '[class=\"job-detail__info--section\"]')[i].find_element(By.CSS_SELECTOR, '[class=\"job-detail__info--section-content-value\"]').text\n",
    "        try:\n",
    "            HanNopCV = driver.find_element(By.CSS_SELECTOR, '[class=\"job-detail__info--deadline\"]').text.split(\":\")[-1].strip()\n",
    "        except:\n",
    "            HanNopCV = date.today()\n",
    "        soup = BeautifulSoup(driver.page_source, 'html.parser')\n",
    "        List = soup.find_all('div', class_='job-description__item')\n",
    "        YeuCau = List[1].text\n",
    "        MoTa = List[0].text\n",
    "        PhucLoi = List[2].text\n",
    "        for i in range(len(soup.find_all('div', class_='box-general-group'))):\n",
    "            if \"Số lượng tuyển\" in soup.find_all('div', class_='box-general-group')[i].find('div', class_='box-general-group-info-title').text:\n",
    "                SoLuong = soup.find_all('div', class_='box-general-group')[i].find('div', class_='box-general-group-info-value').text.split()[0]\n",
    "            if \"Hình thức làm việc\" in soup.find_all('div', class_='box-general-group')[i].find('div', class_='box-general-group-info-title').text:\n",
    "                LoaiHinh = soup.find_all('div', class_='box-general-group')[i].find('div', class_='box-general-group-info-value').text\n",
    "            try:\n",
    "                if \"Kinh nghiệm\" in soup.find_all('div', class_='box-general-group')[i].find('div', class_='box-general-group-info-title').text:\n",
    "                    KinhNghiem = soup.find_all('div', class_='box-general-group')[i].find('div', class_='box-general-group-info-value').text\n",
    "            except:\n",
    "                KinhNghiem = \"Không có\"\n",
    "            if \"Cấp bậc\" in soup.find_all('div', class_='box-general-group')[i].find('div', class_='box-general-group-info-title').text:\n",
    "                CapBac = soup.find_all('div', class_='box-general-group')[i].find('div', class_='box-general-group-info-value').text\n",
    "        cursor.execute(sql, (Web, Nganh, Link, TenCV, CongTy, TinhThanh, Luong, LoaiHinh, KinhNghiem, CapBac, HanNopCV, YeuCau, MoTa, PhucLoi, SoLuong))\n",
    "        conn.commit()\n",
    "else:\n",
    "    print(\"Không có tin mới để thêm.\")\n",
    "driver.quit()\n",
    "cursor.close()\n",
    "conn.close()\n"
   ]
  },
  {
   "cell_type": "code",
   "execution_count": 94,
   "metadata": {},
   "outputs": [
    {
     "name": "stdout",
     "output_type": "stream",
     "text": [
      "['https://www.topcv.vn/brand/minupte/tuyen-dung/marketing-mobile-app-aso-j1195341.html?ta_source=ITJobs_LinkDetail', 'https://www.topcv.vn/brand/tek-experts/tuyen-dung/it-support-engineers-microsoft-software-support-fresher-experienced-j654470.html?ta_source=ITJobs_LinkDetail', 'https://www.topcv.vn/brand/boschglobalsoftwaretechnologies/tuyen-dung/software-packager-intern-j1201265.html?ta_source=ITJobs_LinkDetail', 'https://www.topcv.vn/brand/fptedu/tuyen-dung/giang-vien-cong-nghe-thong-tin-j1200228.html?ta_source=ITJobs_LinkDetail', 'https://www.topcv.vn/brand/avadagroup/tuyen-dung/business-analyst-j1047298.html?ta_source=ITJobs_LinkDetail', 'https://www.topcv.vn/brand/topcv/tuyen-dung/devops-leader-j922280.html?ta_source=ITJobs_LinkDetail', 'https://www.topcv.vn/brand/smartosc/tuyen-dung/thuc-tap-sinh-trai-nghiem-va-gan-ket-nhan-vien-j1199715.html?ta_source=ITJobs_LinkDetail', 'https://www.topcv.vn/brand/fptedu/tuyen-dung/can-bo-nghien-cuu-phat-trien-ung-dung-j1189313.html?ta_source=ITJobs_LinkDetail', 'https://www.topcv.vn/brand/niteco/tuyen-dung/it-specialist-j1198934.html?ta_source=ITJobs_LinkDetail', 'https://www.topcv.vn/brand/vuihoc/tuyen-dung/truong-nhom-data-j1198971.html?ta_source=ITJobs_LinkDetail', 'https://www.topcv.vn/brand/educa/tuyen-dung/middle-senior-flutter-developer-j1197506.html?ta_source=ITJobs_LinkDetail', 'https://www.topcv.vn/brand/congnghiepvienthongquandoi/tuyen-dung/senior-data-engineer-thu-nhap-hap-dan-j1187424.html?ta_source=ITJobs_LinkDetail', 'https://www.topcv.vn/brand/chinhanhtranscosmoshochiminh/tuyen-dung/it-support-it-helpdesk-deskside-support-engineer-j1197400.html?ta_source=ITJobs_LinkDetail', 'https://www.topcv.vn/brand/tekyholdings/tuyen-dung/co-van-giao-duc-j1139408.html?ta_source=ITJobs_LinkDetail', 'https://www.topcv.vn/brand/tekyholdings/tuyen-dung/giao-vien-su-pham-tu-nhien-cntt-truyen-thong-j158150.html?ta_source=ITJobs_LinkDetail', 'https://www.topcv.vn/brand/tekyholdings/tuyen-dung/giao-vien-su-pham-ky-thuat-cong-nghe-thong-tin-j1072736.html?ta_source=ITJobs_LinkDetail', 'https://www.topcv.vn/brand/congtycophanmisa/tuyen-dung/business-analyst-j1196856.html?ta_source=ITJobs_LinkDetail', 'https://www.topcv.vn/brand/congtycophanmisa/tuyen-dung/tester-qc-j1196863.html?ta_source=ITJobs_LinkDetail', 'https://www.topcv.vn/brand/chailease/tuyen-dung/net-developer-j1160466.html?ta_source=ITJobs_LinkDetail', 'https://www.topcv.vn/brand/smartosc/tuyen-dung/project-manager-salary-upto-3500-j1185548.html?ta_source=ITJobs_LinkDetail', 'https://www.topcv.vn/brand/smartosc/tuyen-dung/reactjs-developer-tieng-anh-giao-tiep-tot-upto-2300-j1185564.html?ta_source=ITJobs_LinkDetail', 'https://www.topcv.vn/brand/vuihoc/tuyen-dung/truong-phong-data-analyst-j1194486.html?ta_source=ITJobs_LinkDetail', 'https://www.topcv.vn/brand/fptedu/tuyen-dung/giang-vien-cong-nghe-thong-tin-j1148672.html?ta_source=ITJobs_LinkDetail', 'https://www.topcv.vn/brand/newwavesolutions/tuyen-dung/middle-senior-java-developer-english-speaking-j1193926.html?ta_source=ITJobs_LinkDetail', 'https://www.topcv.vn/brand/smartosc/tuyen-dung/fresher-nodejs-j1078691.html?ta_source=ITJobs_LinkDetail', 'https://www.topcv.vn/brand/smartosc/tuyen-dung/fresher-reactjs-j1165767.html?ta_source=ITJobs_LinkDetail', 'https://www.topcv.vn/brand/niteco/tuyen-dung/net-tech-lead-j1106729.html?ta_source=ITJobs_LinkDetail', 'https://www.topcv.vn/brand/niteco/tuyen-dung/frontend-tech-lead-j1106727.html?ta_source=ITJobs_LinkDetail', 'https://www.topcv.vn/brand/fptedu/tuyen-dung/can-bo-ky-thuat-ha-tang-fsc-bn-j1153100.html?ta_source=ITJobs_LinkDetail', 'https://www.topcv.vn/brand/smartosc/tuyen-dung/fresher-mobile-developer-j1157792.html?ta_source=ITJobs_LinkDetail', 'https://www.topcv.vn/brand/smartosc/tuyen-dung/fresher-vuejs-developer-j1190857.html?ta_source=ITJobs_LinkDetail', 'https://www.topcv.vn/brand/niteco/tuyen-dung/adobe-commerce-magento-tech-lead-j1134389.html?ta_source=ITJobs_LinkDetail', 'https://www.topcv.vn/brand/congnghiepvienthongquandoi/tuyen-dung/junior-data-engineer-j1141600.html?ta_source=ITJobs_LinkDetail', 'https://www.topcv.vn/brand/avadagroup/tuyen-dung/magento-developer-j1185990.html?ta_source=ITJobs_LinkDetail', 'https://www.topcv.vn/brand/topcv/tuyen-dung/devops-engineer-focus-on-data-infrastructure-j1006122.html?ta_source=ITJobs_LinkDetail', 'https://www.topcv.vn/brand/avadagroup/tuyen-dung/technical-support-j1056104.html?ta_source=ITJobs_LinkDetail', 'https://www.topcv.vn/brand/avadagroup/tuyen-dung/middle-php-dev-j1155899.html?ta_source=ITJobs_LinkDetail']\n"
     ]
    }
   ],
   "source": [
    "print(job_urls)"
   ]
  }
 ],
 "metadata": {
  "kernelspec": {
   "display_name": "Python 3",
   "language": "python",
   "name": "python3"
  },
  "language_info": {
   "codemirror_mode": {
    "name": "ipython",
    "version": 3
   },
   "file_extension": ".py",
   "mimetype": "text/x-python",
   "name": "python",
   "nbconvert_exporter": "python",
   "pygments_lexer": "ipython3",
   "version": "3.11.7"
  }
 },
 "nbformat": 4,
 "nbformat_minor": 2
}
